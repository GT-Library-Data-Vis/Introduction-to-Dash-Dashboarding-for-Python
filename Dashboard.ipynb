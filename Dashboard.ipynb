{
 "cells": [
  {
   "cell_type": "markdown",
   "metadata": {},
   "source": [
    "# Stock Tracking Dashboards with Dash\n",
    "\n",
    "#### What is a dashboard?\n",
    "Dashboarding is the processing of showcasing data in a user-friendly way using data visualization. Dashboards contain a multitude of data views, much like the dashboard on a car. The ultimate goal of a dashboard is to present data to the world, so that users can track, analyze, and gain insights from your data quickly.\n",
    "\n",
    "#### What is Dash?\n",
    "Dash is a dashboard creation in Python created by the creators of plotly, a popular plotting package. Dash offers components and callbacks that display information and aid with user interactions that are implemented in an HTML-like system, i.e., every object is a component and components can have children.  It also offers customizability, like adjusting the theming and branding, using CSS.\n",
    "\n",
    "Dash also works with R and Julia\n",
    "\n",
    "#### What will be covered in this Workshop?\n",
    "\n",
    "* Installation\n",
    "* Stock tracking using yahooquery\n",
    "* Dash Layout\n",
    "* Dash Callbacks\n",
    "* User Interactions\n",
    "* Simple Web Hosting"
   ]
  },
  {
   "cell_type": "markdown",
   "metadata": {},
   "source": [
    "## yahooquery\n",
    "Yahooquery is an unofficial stock tracking wrapper using Yahoo Finance, which contains historical and near realtime data financial data. The wrapper allows us to query stock data from the its API to view and analyze. It requires no API keys to access so it is free to use."
   ]
  },
  {
   "cell_type": "code",
   "execution_count": 22,
   "metadata": {},
   "outputs": [],
   "source": [
    "from yahooquery import Ticker # Interacts with the yahooquery api\n",
    "import pandas as pd # Used to manipulate dataframes"
   ]
  },
  {
   "cell_type": "markdown",
   "metadata": {},
   "source": [
    "### Tickers\n",
    "Tickers are symbols that represent a company. For example, Apple's symbol is **\\$aapl**. We will be using these to specify which ticker to query from the API. \n",
    "\n",
    "For more information, view the docs: https://yahooquery.dpguthrie.com/"
   ]
  },
  {
   "cell_type": "code",
   "execution_count": 33,
   "metadata": {
    "collapsed": true,
    "jupyter": {
     "outputs_hidden": true
    },
    "tags": []
   },
   "outputs": [
    {
     "name": "stdout",
     "output_type": "stream",
     "text": [
      "{'aapl': {'address1': 'One Apple Park Way', 'city': 'Cupertino', 'state': 'CA', 'zip': '95014', 'country': 'United States', 'phone': '408 996 1010', 'website': 'https://www.apple.com', 'industry': 'Consumer Electronics', 'sector': 'Technology', 'longBusinessSummary': 'Apple Inc. designs, manufactures, and markets smartphones, personal computers, tablets, wearables, and accessories worldwide. It also sells various related services. In addition, the company offers iPhone, a line of smartphones; Mac, a line of personal computers; iPad, a line of multi-purpose tablets; and wearables, home, and accessories comprising AirPods, Apple TV, Apple Watch, Beats products, and HomePod. Further, it provides AppleCare support and cloud services store services; and operates various platforms, including the App Store that allow customers to discover and download applications and digital content, such as books, music, video, games, and podcasts. Additionally, the company offers various services, such as Apple Arcade, a game subscription service; Apple Fitness+, a personalized fitness service; Apple Music, which offers users a curated listening experience with on-demand radio stations; Apple News+, a subscription news and magazine service; Apple TV+, which offers exclusive original content; Apple Card, a co-branded credit card; and Apple Pay, a cashless payment service, as well as licenses its intellectual property. The company serves consumers, and small and mid-sized businesses; and the education, enterprise, and government markets. It distributes third-party applications for its products through the App Store. The company also sells its products through its retail and online stores, and direct sales force; and third-party cellular network carriers, wholesalers, retailers, and resellers. Apple Inc. was incorporated in 1977 and is headquartered in Cupertino, California.', 'fullTimeEmployees': 164000, 'companyOfficers': [], 'maxAge': 86400}}\n"
     ]
    },
    {
     "data": {
      "text/plain": [
       "{'meta': {'address1': '1601 Willow Road',\n",
       "  'city': 'Menlo Park',\n",
       "  'state': 'CA',\n",
       "  'zip': '94025',\n",
       "  'country': 'United States',\n",
       "  'phone': '650 543 4800',\n",
       "  'website': 'https://investor.fb.com',\n",
       "  'industry': 'Internet Content & Information',\n",
       "  'sector': 'Communication Services',\n",
       "  'longBusinessSummary': 'Meta Platforms, Inc. engages in the development of products that enable people to connect and share with friends and family through mobile devices, personal computers, virtual reality headsets, and wearables worldwide. It operates in two segments, Family of Apps and Reality Labs. The Family of Apps segment offers Facebook, which enables people to share, discuss, discover, and connect with interests; Instagram, a community for sharing photos, videos, and private messages, as well as feed, stories, reels, video, live, and shops; Messenger, a messaging application for people to connect with friends, family, communities, and businesses across platforms and devices through text, audio, and video calls; and WhatsApp, a messaging application that is used by people and businesses to communicate and transact privately. The Reality Labs segment provides augmented and virtual reality related products comprising consumer hardware, software, and content that help people feel connected, anytime, and anywhere. The company was formerly known as Facebook, Inc. and changed its name to Meta Platforms, Inc. in October 2021. Meta Platforms, Inc. was incorporated in 2004 and is headquartered in Menlo Park, California.',\n",
       "  'fullTimeEmployees': 86482,\n",
       "  'companyOfficers': [],\n",
       "  'maxAge': 86400},\n",
       " 'aapl': {'address1': 'One Apple Park Way',\n",
       "  'city': 'Cupertino',\n",
       "  'state': 'CA',\n",
       "  'zip': '95014',\n",
       "  'country': 'United States',\n",
       "  'phone': '408 996 1010',\n",
       "  'website': 'https://www.apple.com',\n",
       "  'industry': 'Consumer Electronics',\n",
       "  'sector': 'Technology',\n",
       "  'longBusinessSummary': 'Apple Inc. designs, manufactures, and markets smartphones, personal computers, tablets, wearables, and accessories worldwide. It also sells various related services. In addition, the company offers iPhone, a line of smartphones; Mac, a line of personal computers; iPad, a line of multi-purpose tablets; and wearables, home, and accessories comprising AirPods, Apple TV, Apple Watch, Beats products, and HomePod. Further, it provides AppleCare support and cloud services store services; and operates various platforms, including the App Store that allow customers to discover and download applications and digital content, such as books, music, video, games, and podcasts. Additionally, the company offers various services, such as Apple Arcade, a game subscription service; Apple Fitness+, a personalized fitness service; Apple Music, which offers users a curated listening experience with on-demand radio stations; Apple News+, a subscription news and magazine service; Apple TV+, which offers exclusive original content; Apple Card, a co-branded credit card; and Apple Pay, a cashless payment service, as well as licenses its intellectual property. The company serves consumers, and small and mid-sized businesses; and the education, enterprise, and government markets. It distributes third-party applications for its products through the App Store. The company also sells its products through its retail and online stores, and direct sales force; and third-party cellular network carriers, wholesalers, retailers, and resellers. Apple Inc. was incorporated in 1977 and is headquartered in Cupertino, California.',\n",
       "  'fullTimeEmployees': 164000,\n",
       "  'companyOfficers': [],\n",
       "  'maxAge': 86400},\n",
       " 'goog': {'address1': '1600 Amphitheatre Parkway',\n",
       "  'city': 'Mountain View',\n",
       "  'state': 'CA',\n",
       "  'zip': '94043',\n",
       "  'country': 'United States',\n",
       "  'phone': '650 253 0000',\n",
       "  'website': 'https://www.abc.xyz',\n",
       "  'industry': 'Internet Content & Information',\n",
       "  'sector': 'Communication Services',\n",
       "  'longBusinessSummary': 'Alphabet Inc. offers various products and platforms in the United States, Europe, the Middle East, Africa, the Asia-Pacific, Canada, and Latin America. It operates through Google Services, Google Cloud, and Other Bets segments. The Google Services segment provides products and services, including ads, Android, Chrome, hardware, Gmail, Google Drive, Google Maps, Google Photos, Google Play, Search, and YouTube. It is also involved in the sale of apps and in-app purchases and digital content in the Google Play store; and Fitbit wearable devices, Google Nest home products, Pixel phones, and other devices, as well as in the provision of YouTube non-advertising services. The Google Cloud segment offers infrastructure, cybersecurity, data, analytics, AI, and machine learning, and other services; Google Workspace that include cloud-based collaboration tools for enterprises, such as Gmail, Docs, Drive, Calendar, and Meet; and other services for enterprise customers. The Other Bets segment sells health technology and internet services. The company was founded in 1998 and is headquartered in Mountain View, California.',\n",
       "  'fullTimeEmployees': 190234,\n",
       "  'companyOfficers': [],\n",
       "  'maxAge': 86400}}"
      ]
     },
     "execution_count": 33,
     "metadata": {},
     "output_type": "execute_result"
    }
   ],
   "source": [
    "aapl_ticker = Ticker(\"aapl\")\n",
    "print(aapl_ticker.summary_profile)\n",
    "\n",
    "# Can also specify multiple tickers\n",
    "symbols_str = \"meta aapl goog\" # Tickers for Meta, Apple, and Google\n",
    "symbols_list = [\"meta\", \"aapl\", \"goog\"]\n",
    "tickers_from_str = Ticker(symbols_str)\n",
    "tickers_from_list = Ticker(symbols_list)\n",
    "\n",
    "tickers_from_str.summary_profile"
   ]
  },
  {
   "cell_type": "markdown",
   "metadata": {},
   "source": [
    "### Modules\n",
    "After creating our Ticker symbols, we can use them to view useful information about the company. The information from modules are overview data, such as the asset profile, earnings, and (non-historical) pricing. "
   ]
  },
  {
   "cell_type": "code",
   "execution_count": 37,
   "metadata": {
    "collapsed": true,
    "jupyter": {
     "outputs_hidden": true
    },
    "tags": []
   },
   "outputs": [
    {
     "data": {
      "text/plain": [
       "{'aapl': {'maxAge': 1,\n",
       "  'preMarketChangePercent': -0.000595963,\n",
       "  'preMarketChange': -0.0899963,\n",
       "  'preMarketTime': '2023-02-13 09:29:59',\n",
       "  'preMarketPrice': 150.92,\n",
       "  'preMarketSource': 'FREE_REALTIME',\n",
       "  'regularMarketChangePercent': 0.016952606,\n",
       "  'regularMarketChange': 2.5600128,\n",
       "  'regularMarketTime': '2023-02-13 13:16:36',\n",
       "  'priceHint': 2,\n",
       "  'regularMarketPrice': 153.57,\n",
       "  'regularMarketDayHigh': 154.26,\n",
       "  'regularMarketDayLow': 150.92,\n",
       "  'regularMarketVolume': 30437480,\n",
       "  'regularMarketPreviousClose': 151.01,\n",
       "  'regularMarketSource': 'FREE_REALTIME',\n",
       "  'regularMarketOpen': 150.952,\n",
       "  'exchange': 'NMS',\n",
       "  'exchangeName': 'NasdaqGS',\n",
       "  'exchangeDataDelayedBy': 0,\n",
       "  'marketState': 'REGULAR',\n",
       "  'quoteType': 'EQUITY',\n",
       "  'symbol': 'AAPL',\n",
       "  'underlyingSymbol': None,\n",
       "  'shortName': 'Apple Inc.',\n",
       "  'longName': 'Apple Inc.',\n",
       "  'currency': 'USD',\n",
       "  'quoteSourceName': 'Nasdaq Real Time Price',\n",
       "  'currencySymbol': '$',\n",
       "  'fromCurrency': None,\n",
       "  'toCurrency': None,\n",
       "  'lastMarket': None,\n",
       "  'marketCap': 2429769220096}}"
      ]
     },
     "execution_count": 37,
     "metadata": {},
     "output_type": "execute_result"
    }
   ],
   "source": [
    "aapl_ticker.price # all metrics related to price"
   ]
  },
  {
   "cell_type": "code",
   "execution_count": 38,
   "metadata": {
    "collapsed": true,
    "jupyter": {
     "outputs_hidden": true
    },
    "tags": []
   },
   "outputs": [
    {
     "data": {
      "text/plain": [
       "{'aapl': {'address1': 'One Apple Park Way',\n",
       "  'city': 'Cupertino',\n",
       "  'state': 'CA',\n",
       "  'zip': '95014',\n",
       "  'country': 'United States',\n",
       "  'phone': '408 996 1010',\n",
       "  'website': 'https://www.apple.com',\n",
       "  'industry': 'Consumer Electronics',\n",
       "  'sector': 'Technology',\n",
       "  'longBusinessSummary': 'Apple Inc. designs, manufactures, and markets smartphones, personal computers, tablets, wearables, and accessories worldwide. It also sells various related services. In addition, the company offers iPhone, a line of smartphones; Mac, a line of personal computers; iPad, a line of multi-purpose tablets; and wearables, home, and accessories comprising AirPods, Apple TV, Apple Watch, Beats products, and HomePod. Further, it provides AppleCare support and cloud services store services; and operates various platforms, including the App Store that allow customers to discover and download applications and digital content, such as books, music, video, games, and podcasts. Additionally, the company offers various services, such as Apple Arcade, a game subscription service; Apple Fitness+, a personalized fitness service; Apple Music, which offers users a curated listening experience with on-demand radio stations; Apple News+, a subscription news and magazine service; Apple TV+, which offers exclusive original content; Apple Card, a co-branded credit card; and Apple Pay, a cashless payment service, as well as licenses its intellectual property. The company serves consumers, and small and mid-sized businesses; and the education, enterprise, and government markets. It distributes third-party applications for its products through the App Store. The company also sells its products through its retail and online stores, and direct sales force; and third-party cellular network carriers, wholesalers, retailers, and resellers. Apple Inc. was incorporated in 1977 and is headquartered in Cupertino, California.',\n",
       "  'fullTimeEmployees': 164000,\n",
       "  'companyOfficers': [{'maxAge': 1,\n",
       "    'name': 'Mr. Timothy D. Cook',\n",
       "    'age': 61,\n",
       "    'title': 'CEO & Director',\n",
       "    'yearBorn': 1961,\n",
       "    'fiscalYear': 2022,\n",
       "    'totalPay': 16425933,\n",
       "    'exercisedValue': 0,\n",
       "    'unexercisedValue': 0},\n",
       "   {'maxAge': 1,\n",
       "    'name': 'Mr. Luca  Maestri',\n",
       "    'age': 58,\n",
       "    'title': 'CFO & Sr. VP',\n",
       "    'yearBorn': 1964,\n",
       "    'fiscalYear': 2022,\n",
       "    'totalPay': 5019783,\n",
       "    'exercisedValue': 0,\n",
       "    'unexercisedValue': 0},\n",
       "   {'maxAge': 1,\n",
       "    'name': 'Mr. Jeffrey E. Williams',\n",
       "    'age': 58,\n",
       "    'title': 'Chief Operating Officer',\n",
       "    'yearBorn': 1964,\n",
       "    'fiscalYear': 2022,\n",
       "    'totalPay': 5018337,\n",
       "    'exercisedValue': 0,\n",
       "    'unexercisedValue': 0},\n",
       "   {'maxAge': 1,\n",
       "    'name': 'Ms. Katherine L. Adams',\n",
       "    'age': 58,\n",
       "    'title': 'Sr. VP, Gen. Counsel & Sec.',\n",
       "    'yearBorn': 1964,\n",
       "    'fiscalYear': 2022,\n",
       "    'totalPay': 5015208,\n",
       "    'exercisedValue': 0,\n",
       "    'unexercisedValue': 0},\n",
       "   {'maxAge': 1,\n",
       "    'name': \"Ms. Deirdre  O'Brien\",\n",
       "    'age': 55,\n",
       "    'title': 'Sr. VP of Retail',\n",
       "    'yearBorn': 1967,\n",
       "    'fiscalYear': 2022,\n",
       "    'totalPay': 5019783,\n",
       "    'exercisedValue': 0,\n",
       "    'unexercisedValue': 0},\n",
       "   {'maxAge': 1,\n",
       "    'name': 'Mr. Chris  Kondo',\n",
       "    'title': 'Sr. Director of Corp. Accounting',\n",
       "    'exercisedValue': 0,\n",
       "    'unexercisedValue': 0},\n",
       "   {'maxAge': 1,\n",
       "    'name': 'Mr. James  Wilson',\n",
       "    'title': 'Chief Technology Officer',\n",
       "    'exercisedValue': 0,\n",
       "    'unexercisedValue': 0},\n",
       "   {'maxAge': 1,\n",
       "    'name': 'Ms. Mary  Demby',\n",
       "    'title': 'Chief Information Officer',\n",
       "    'exercisedValue': 0,\n",
       "    'unexercisedValue': 0},\n",
       "   {'maxAge': 1,\n",
       "    'name': 'Ms. Nancy  Paxton',\n",
       "    'title': 'Sr. Director of Investor Relations & Treasury',\n",
       "    'exercisedValue': 0,\n",
       "    'unexercisedValue': 0},\n",
       "   {'maxAge': 1,\n",
       "    'name': 'Mr. Greg  Joswiak',\n",
       "    'title': 'Sr. VP of Worldwide Marketing',\n",
       "    'exercisedValue': 0,\n",
       "    'unexercisedValue': 0}],\n",
       "  'auditRisk': 3,\n",
       "  'boardRisk': 1,\n",
       "  'compensationRisk': 10,\n",
       "  'shareHolderRightsRisk': 1,\n",
       "  'overallRisk': 2,\n",
       "  'governanceEpochDate': '2023-01-31 19:00:00',\n",
       "  'compensationAsOfEpochDate': '2022-12-30 19:00:00',\n",
       "  'maxAge': 86400}}"
      ]
     },
     "execution_count": 38,
     "metadata": {},
     "output_type": "execute_result"
    }
   ],
   "source": [
    "aapl_ticker.asset_profile # details about the company"
   ]
  },
  {
   "cell_type": "code",
   "execution_count": 108,
   "metadata": {
    "collapsed": true,
    "jupyter": {
     "outputs_hidden": true
    },
    "tags": []
   },
   "outputs": [
    {
     "data": {
      "text/plain": [
       "{'aapl': {'maxAge': 1,\n",
       "  'priceHint': 2,\n",
       "  'previousClose': 153.2,\n",
       "  'open': 153.11,\n",
       "  'dayLow': 152.88,\n",
       "  'dayHigh': 155.5,\n",
       "  'regularMarketPreviousClose': 153.2,\n",
       "  'regularMarketOpen': 153.11,\n",
       "  'regularMarketDayLow': 152.88,\n",
       "  'regularMarketDayHigh': 155.5,\n",
       "  'dividendRate': 0.92,\n",
       "  'dividendYield': 0.006,\n",
       "  'exDividendDate': '2023-02-09 19:00:00',\n",
       "  'payoutRatio': 0.1545,\n",
       "  'fiveYearAvgDividendYield': 0.96,\n",
       "  'beta': 1.277894,\n",
       "  'trailingPE': 26.295418,\n",
       "  'forwardPE': 23.537994,\n",
       "  'volume': 33179579,\n",
       "  'regularMarketVolume': 33179579,\n",
       "  'averageVolume': 75599268,\n",
       "  'averageVolume10days': 80482600,\n",
       "  'averageDailyVolume10Day': 80482600,\n",
       "  'bid': 154.88,\n",
       "  'ask': 154.86,\n",
       "  'bidSize': 900,\n",
       "  'askSize': 800,\n",
       "  'marketCap': 2450495897600,\n",
       "  'fiftyTwoWeekLow': 124.17,\n",
       "  'fiftyTwoWeekHigh': 179.61,\n",
       "  'priceToSalesTrailing12Months': 6.3232565,\n",
       "  'fiftyDayAverage': 139.6132,\n",
       "  'twoHundredDayAverage': 147.46124,\n",
       "  'trailingAnnualDividendRate': 0.91,\n",
       "  'trailingAnnualDividendYield': 0.005939948,\n",
       "  'currency': 'USD',\n",
       "  'fromCurrency': None,\n",
       "  'toCurrency': None,\n",
       "  'lastMarket': None,\n",
       "  'coinMarketCapLink': None,\n",
       "  'algorithm': None,\n",
       "  'tradeable': False}}"
      ]
     },
     "execution_count": 108,
     "metadata": {},
     "output_type": "execute_result"
    }
   ],
   "source": [
    "aapl_ticker.summary_detail"
   ]
  },
  {
   "cell_type": "markdown",
   "metadata": {},
   "source": [
    "### History\n",
    "The API also contains the historical stock price for the ticker. You can specify the period (length of time), interval (time between points), start, and end time."
   ]
  },
  {
   "cell_type": "code",
   "execution_count": 41,
   "metadata": {
    "collapsed": true,
    "jupyter": {
     "outputs_hidden": true
    },
    "tags": []
   },
   "outputs": [
    {
     "data": {
      "text/html": [
       "<div>\n",
       "<style scoped>\n",
       "    .dataframe tbody tr th:only-of-type {\n",
       "        vertical-align: middle;\n",
       "    }\n",
       "\n",
       "    .dataframe tbody tr th {\n",
       "        vertical-align: top;\n",
       "    }\n",
       "\n",
       "    .dataframe thead th {\n",
       "        text-align: right;\n",
       "    }\n",
       "</style>\n",
       "<table border=\"1\" class=\"dataframe\">\n",
       "  <thead>\n",
       "    <tr style=\"text-align: right;\">\n",
       "      <th></th>\n",
       "      <th></th>\n",
       "      <th>open</th>\n",
       "      <th>high</th>\n",
       "      <th>low</th>\n",
       "      <th>close</th>\n",
       "      <th>volume</th>\n",
       "      <th>adjclose</th>\n",
       "      <th>dividends</th>\n",
       "    </tr>\n",
       "    <tr>\n",
       "      <th>symbol</th>\n",
       "      <th>date</th>\n",
       "      <th></th>\n",
       "      <th></th>\n",
       "      <th></th>\n",
       "      <th></th>\n",
       "      <th></th>\n",
       "      <th></th>\n",
       "      <th></th>\n",
       "    </tr>\n",
       "  </thead>\n",
       "  <tbody>\n",
       "    <tr>\n",
       "      <th rowspan=\"29\" valign=\"top\">aapl</th>\n",
       "      <th>2023-01-03</th>\n",
       "      <td>130.279999</td>\n",
       "      <td>130.899994</td>\n",
       "      <td>124.169998</td>\n",
       "      <td>125.070000</td>\n",
       "      <td>112117500</td>\n",
       "      <td>124.879326</td>\n",
       "      <td>0.00</td>\n",
       "    </tr>\n",
       "    <tr>\n",
       "      <th>2023-01-04</th>\n",
       "      <td>126.889999</td>\n",
       "      <td>128.660004</td>\n",
       "      <td>125.080002</td>\n",
       "      <td>126.360001</td>\n",
       "      <td>89113600</td>\n",
       "      <td>126.167366</td>\n",
       "      <td>0.00</td>\n",
       "    </tr>\n",
       "    <tr>\n",
       "      <th>2023-01-05</th>\n",
       "      <td>127.129997</td>\n",
       "      <td>127.769997</td>\n",
       "      <td>124.760002</td>\n",
       "      <td>125.019997</td>\n",
       "      <td>80962700</td>\n",
       "      <td>124.829399</td>\n",
       "      <td>0.00</td>\n",
       "    </tr>\n",
       "    <tr>\n",
       "      <th>2023-01-06</th>\n",
       "      <td>126.010002</td>\n",
       "      <td>130.289993</td>\n",
       "      <td>124.889999</td>\n",
       "      <td>129.619995</td>\n",
       "      <td>87686600</td>\n",
       "      <td>129.422394</td>\n",
       "      <td>0.00</td>\n",
       "    </tr>\n",
       "    <tr>\n",
       "      <th>2023-01-09</th>\n",
       "      <td>130.470001</td>\n",
       "      <td>133.410004</td>\n",
       "      <td>129.889999</td>\n",
       "      <td>130.149994</td>\n",
       "      <td>70790800</td>\n",
       "      <td>129.951584</td>\n",
       "      <td>0.00</td>\n",
       "    </tr>\n",
       "    <tr>\n",
       "      <th>2023-01-10</th>\n",
       "      <td>130.259995</td>\n",
       "      <td>131.259995</td>\n",
       "      <td>128.119995</td>\n",
       "      <td>130.729996</td>\n",
       "      <td>63896200</td>\n",
       "      <td>130.530701</td>\n",
       "      <td>0.00</td>\n",
       "    </tr>\n",
       "    <tr>\n",
       "      <th>2023-01-11</th>\n",
       "      <td>131.250000</td>\n",
       "      <td>133.509995</td>\n",
       "      <td>130.460007</td>\n",
       "      <td>133.490005</td>\n",
       "      <td>69458900</td>\n",
       "      <td>133.286499</td>\n",
       "      <td>0.00</td>\n",
       "    </tr>\n",
       "    <tr>\n",
       "      <th>2023-01-12</th>\n",
       "      <td>133.880005</td>\n",
       "      <td>134.259995</td>\n",
       "      <td>131.440002</td>\n",
       "      <td>133.410004</td>\n",
       "      <td>71379600</td>\n",
       "      <td>133.206619</td>\n",
       "      <td>0.00</td>\n",
       "    </tr>\n",
       "    <tr>\n",
       "      <th>2023-01-13</th>\n",
       "      <td>132.029999</td>\n",
       "      <td>134.919998</td>\n",
       "      <td>131.660004</td>\n",
       "      <td>134.759995</td>\n",
       "      <td>57758000</td>\n",
       "      <td>134.554550</td>\n",
       "      <td>0.00</td>\n",
       "    </tr>\n",
       "    <tr>\n",
       "      <th>2023-01-17</th>\n",
       "      <td>134.830002</td>\n",
       "      <td>137.289993</td>\n",
       "      <td>134.130005</td>\n",
       "      <td>135.940002</td>\n",
       "      <td>63646600</td>\n",
       "      <td>135.732758</td>\n",
       "      <td>0.00</td>\n",
       "    </tr>\n",
       "    <tr>\n",
       "      <th>2023-01-18</th>\n",
       "      <td>136.820007</td>\n",
       "      <td>138.610001</td>\n",
       "      <td>135.029999</td>\n",
       "      <td>135.210007</td>\n",
       "      <td>69672800</td>\n",
       "      <td>135.003876</td>\n",
       "      <td>0.00</td>\n",
       "    </tr>\n",
       "    <tr>\n",
       "      <th>2023-01-19</th>\n",
       "      <td>134.080002</td>\n",
       "      <td>136.250000</td>\n",
       "      <td>133.770004</td>\n",
       "      <td>135.270004</td>\n",
       "      <td>58280400</td>\n",
       "      <td>135.063782</td>\n",
       "      <td>0.00</td>\n",
       "    </tr>\n",
       "    <tr>\n",
       "      <th>2023-01-20</th>\n",
       "      <td>135.279999</td>\n",
       "      <td>138.020004</td>\n",
       "      <td>134.220001</td>\n",
       "      <td>137.869995</td>\n",
       "      <td>79972200</td>\n",
       "      <td>137.659805</td>\n",
       "      <td>0.00</td>\n",
       "    </tr>\n",
       "    <tr>\n",
       "      <th>2023-01-23</th>\n",
       "      <td>138.119995</td>\n",
       "      <td>143.320007</td>\n",
       "      <td>137.899994</td>\n",
       "      <td>141.110001</td>\n",
       "      <td>81760300</td>\n",
       "      <td>140.894882</td>\n",
       "      <td>0.00</td>\n",
       "    </tr>\n",
       "    <tr>\n",
       "      <th>2023-01-24</th>\n",
       "      <td>140.309998</td>\n",
       "      <td>143.160004</td>\n",
       "      <td>140.300003</td>\n",
       "      <td>142.529999</td>\n",
       "      <td>66435100</td>\n",
       "      <td>142.312714</td>\n",
       "      <td>0.00</td>\n",
       "    </tr>\n",
       "    <tr>\n",
       "      <th>2023-01-25</th>\n",
       "      <td>140.889999</td>\n",
       "      <td>142.429993</td>\n",
       "      <td>138.809998</td>\n",
       "      <td>141.860001</td>\n",
       "      <td>65799300</td>\n",
       "      <td>141.643738</td>\n",
       "      <td>0.00</td>\n",
       "    </tr>\n",
       "    <tr>\n",
       "      <th>2023-01-26</th>\n",
       "      <td>143.169998</td>\n",
       "      <td>144.250000</td>\n",
       "      <td>141.899994</td>\n",
       "      <td>143.960007</td>\n",
       "      <td>54105100</td>\n",
       "      <td>143.740540</td>\n",
       "      <td>0.00</td>\n",
       "    </tr>\n",
       "    <tr>\n",
       "      <th>2023-01-27</th>\n",
       "      <td>143.160004</td>\n",
       "      <td>147.229996</td>\n",
       "      <td>143.080002</td>\n",
       "      <td>145.929993</td>\n",
       "      <td>70492800</td>\n",
       "      <td>145.707520</td>\n",
       "      <td>0.00</td>\n",
       "    </tr>\n",
       "    <tr>\n",
       "      <th>2023-01-30</th>\n",
       "      <td>144.960007</td>\n",
       "      <td>145.550003</td>\n",
       "      <td>142.850006</td>\n",
       "      <td>143.000000</td>\n",
       "      <td>64015300</td>\n",
       "      <td>142.781998</td>\n",
       "      <td>0.00</td>\n",
       "    </tr>\n",
       "    <tr>\n",
       "      <th>2023-01-31</th>\n",
       "      <td>142.699997</td>\n",
       "      <td>144.339996</td>\n",
       "      <td>142.279999</td>\n",
       "      <td>144.289993</td>\n",
       "      <td>65874500</td>\n",
       "      <td>144.070023</td>\n",
       "      <td>0.00</td>\n",
       "    </tr>\n",
       "    <tr>\n",
       "      <th>2023-02-01</th>\n",
       "      <td>143.970001</td>\n",
       "      <td>146.610001</td>\n",
       "      <td>141.320007</td>\n",
       "      <td>145.429993</td>\n",
       "      <td>77663600</td>\n",
       "      <td>145.208282</td>\n",
       "      <td>0.00</td>\n",
       "    </tr>\n",
       "    <tr>\n",
       "      <th>2023-02-02</th>\n",
       "      <td>148.899994</td>\n",
       "      <td>151.179993</td>\n",
       "      <td>148.169998</td>\n",
       "      <td>150.820007</td>\n",
       "      <td>118339000</td>\n",
       "      <td>150.590088</td>\n",
       "      <td>0.00</td>\n",
       "    </tr>\n",
       "    <tr>\n",
       "      <th>2023-02-03</th>\n",
       "      <td>148.029999</td>\n",
       "      <td>157.380005</td>\n",
       "      <td>147.830002</td>\n",
       "      <td>154.500000</td>\n",
       "      <td>154279900</td>\n",
       "      <td>154.264465</td>\n",
       "      <td>0.00</td>\n",
       "    </tr>\n",
       "    <tr>\n",
       "      <th>2023-02-06</th>\n",
       "      <td>152.570007</td>\n",
       "      <td>153.100006</td>\n",
       "      <td>150.779999</td>\n",
       "      <td>151.729996</td>\n",
       "      <td>69858300</td>\n",
       "      <td>151.498688</td>\n",
       "      <td>0.00</td>\n",
       "    </tr>\n",
       "    <tr>\n",
       "      <th>2023-02-07</th>\n",
       "      <td>150.639999</td>\n",
       "      <td>155.229996</td>\n",
       "      <td>150.639999</td>\n",
       "      <td>154.649994</td>\n",
       "      <td>83322600</td>\n",
       "      <td>154.414230</td>\n",
       "      <td>0.00</td>\n",
       "    </tr>\n",
       "    <tr>\n",
       "      <th>2023-02-08</th>\n",
       "      <td>153.880005</td>\n",
       "      <td>154.580002</td>\n",
       "      <td>151.169998</td>\n",
       "      <td>151.919998</td>\n",
       "      <td>64120100</td>\n",
       "      <td>151.688400</td>\n",
       "      <td>0.00</td>\n",
       "    </tr>\n",
       "    <tr>\n",
       "      <th>2023-02-09</th>\n",
       "      <td>153.779999</td>\n",
       "      <td>154.330002</td>\n",
       "      <td>150.419998</td>\n",
       "      <td>150.869995</td>\n",
       "      <td>56007100</td>\n",
       "      <td>150.639999</td>\n",
       "      <td>0.00</td>\n",
       "    </tr>\n",
       "    <tr>\n",
       "      <th>2023-02-10</th>\n",
       "      <td>149.460007</td>\n",
       "      <td>151.339996</td>\n",
       "      <td>149.220001</td>\n",
       "      <td>151.009995</td>\n",
       "      <td>57409100</td>\n",
       "      <td>151.009995</td>\n",
       "      <td>0.23</td>\n",
       "    </tr>\n",
       "    <tr>\n",
       "      <th>2023-02-13 13:32:09-05:00</th>\n",
       "      <td>150.951996</td>\n",
       "      <td>154.259995</td>\n",
       "      <td>150.919998</td>\n",
       "      <td>154.100006</td>\n",
       "      <td>33393453</td>\n",
       "      <td>154.100006</td>\n",
       "      <td>0.00</td>\n",
       "    </tr>\n",
       "  </tbody>\n",
       "</table>\n",
       "</div>"
      ],
      "text/plain": [
       "                                        open        high         low  \\\n",
       "symbol date                                                            \n",
       "aapl   2023-01-03                 130.279999  130.899994  124.169998   \n",
       "       2023-01-04                 126.889999  128.660004  125.080002   \n",
       "       2023-01-05                 127.129997  127.769997  124.760002   \n",
       "       2023-01-06                 126.010002  130.289993  124.889999   \n",
       "       2023-01-09                 130.470001  133.410004  129.889999   \n",
       "       2023-01-10                 130.259995  131.259995  128.119995   \n",
       "       2023-01-11                 131.250000  133.509995  130.460007   \n",
       "       2023-01-12                 133.880005  134.259995  131.440002   \n",
       "       2023-01-13                 132.029999  134.919998  131.660004   \n",
       "       2023-01-17                 134.830002  137.289993  134.130005   \n",
       "       2023-01-18                 136.820007  138.610001  135.029999   \n",
       "       2023-01-19                 134.080002  136.250000  133.770004   \n",
       "       2023-01-20                 135.279999  138.020004  134.220001   \n",
       "       2023-01-23                 138.119995  143.320007  137.899994   \n",
       "       2023-01-24                 140.309998  143.160004  140.300003   \n",
       "       2023-01-25                 140.889999  142.429993  138.809998   \n",
       "       2023-01-26                 143.169998  144.250000  141.899994   \n",
       "       2023-01-27                 143.160004  147.229996  143.080002   \n",
       "       2023-01-30                 144.960007  145.550003  142.850006   \n",
       "       2023-01-31                 142.699997  144.339996  142.279999   \n",
       "       2023-02-01                 143.970001  146.610001  141.320007   \n",
       "       2023-02-02                 148.899994  151.179993  148.169998   \n",
       "       2023-02-03                 148.029999  157.380005  147.830002   \n",
       "       2023-02-06                 152.570007  153.100006  150.779999   \n",
       "       2023-02-07                 150.639999  155.229996  150.639999   \n",
       "       2023-02-08                 153.880005  154.580002  151.169998   \n",
       "       2023-02-09                 153.779999  154.330002  150.419998   \n",
       "       2023-02-10                 149.460007  151.339996  149.220001   \n",
       "       2023-02-13 13:32:09-05:00  150.951996  154.259995  150.919998   \n",
       "\n",
       "                                       close     volume    adjclose  dividends  \n",
       "symbol date                                                                     \n",
       "aapl   2023-01-03                 125.070000  112117500  124.879326       0.00  \n",
       "       2023-01-04                 126.360001   89113600  126.167366       0.00  \n",
       "       2023-01-05                 125.019997   80962700  124.829399       0.00  \n",
       "       2023-01-06                 129.619995   87686600  129.422394       0.00  \n",
       "       2023-01-09                 130.149994   70790800  129.951584       0.00  \n",
       "       2023-01-10                 130.729996   63896200  130.530701       0.00  \n",
       "       2023-01-11                 133.490005   69458900  133.286499       0.00  \n",
       "       2023-01-12                 133.410004   71379600  133.206619       0.00  \n",
       "       2023-01-13                 134.759995   57758000  134.554550       0.00  \n",
       "       2023-01-17                 135.940002   63646600  135.732758       0.00  \n",
       "       2023-01-18                 135.210007   69672800  135.003876       0.00  \n",
       "       2023-01-19                 135.270004   58280400  135.063782       0.00  \n",
       "       2023-01-20                 137.869995   79972200  137.659805       0.00  \n",
       "       2023-01-23                 141.110001   81760300  140.894882       0.00  \n",
       "       2023-01-24                 142.529999   66435100  142.312714       0.00  \n",
       "       2023-01-25                 141.860001   65799300  141.643738       0.00  \n",
       "       2023-01-26                 143.960007   54105100  143.740540       0.00  \n",
       "       2023-01-27                 145.929993   70492800  145.707520       0.00  \n",
       "       2023-01-30                 143.000000   64015300  142.781998       0.00  \n",
       "       2023-01-31                 144.289993   65874500  144.070023       0.00  \n",
       "       2023-02-01                 145.429993   77663600  145.208282       0.00  \n",
       "       2023-02-02                 150.820007  118339000  150.590088       0.00  \n",
       "       2023-02-03                 154.500000  154279900  154.264465       0.00  \n",
       "       2023-02-06                 151.729996   69858300  151.498688       0.00  \n",
       "       2023-02-07                 154.649994   83322600  154.414230       0.00  \n",
       "       2023-02-08                 151.919998   64120100  151.688400       0.00  \n",
       "       2023-02-09                 150.869995   56007100  150.639999       0.00  \n",
       "       2023-02-10                 151.009995   57409100  151.009995       0.23  \n",
       "       2023-02-13 13:32:09-05:00  154.100006   33393453  154.100006       0.00  "
      ]
     },
     "execution_count": 41,
     "metadata": {},
     "output_type": "execute_result"
    }
   ],
   "source": [
    "hist1 = aapl_ticker.history() #Default is period=ytd, interval=1d\n",
    "hist1.head()"
   ]
  },
  {
   "cell_type": "code",
   "execution_count": 44,
   "metadata": {
    "tags": []
   },
   "outputs": [
    {
     "data": {
      "text/html": [
       "<div>\n",
       "<style scoped>\n",
       "    .dataframe tbody tr th:only-of-type {\n",
       "        vertical-align: middle;\n",
       "    }\n",
       "\n",
       "    .dataframe tbody tr th {\n",
       "        vertical-align: top;\n",
       "    }\n",
       "\n",
       "    .dataframe thead th {\n",
       "        text-align: right;\n",
       "    }\n",
       "</style>\n",
       "<table border=\"1\" class=\"dataframe\">\n",
       "  <thead>\n",
       "    <tr style=\"text-align: right;\">\n",
       "      <th></th>\n",
       "      <th></th>\n",
       "      <th>open</th>\n",
       "      <th>high</th>\n",
       "      <th>low</th>\n",
       "      <th>close</th>\n",
       "      <th>volume</th>\n",
       "      <th>adjclose</th>\n",
       "      <th>dividends</th>\n",
       "    </tr>\n",
       "    <tr>\n",
       "      <th>symbol</th>\n",
       "      <th>date</th>\n",
       "      <th></th>\n",
       "      <th></th>\n",
       "      <th></th>\n",
       "      <th></th>\n",
       "      <th></th>\n",
       "      <th></th>\n",
       "      <th></th>\n",
       "    </tr>\n",
       "  </thead>\n",
       "  <tbody>\n",
       "    <tr>\n",
       "      <th rowspan=\"13\" valign=\"top\">aapl</th>\n",
       "      <th>2022-03-01 00:00:00-05:00</th>\n",
       "      <td>164.699997</td>\n",
       "      <td>179.610001</td>\n",
       "      <td>150.100006</td>\n",
       "      <td>174.610001</td>\n",
       "      <td>2180800100</td>\n",
       "      <td>173.558640</td>\n",
       "      <td>0.00</td>\n",
       "    </tr>\n",
       "    <tr>\n",
       "      <th>2022-04-01 00:00:00-04:00</th>\n",
       "      <td>174.029999</td>\n",
       "      <td>178.490005</td>\n",
       "      <td>155.380005</td>\n",
       "      <td>157.649994</td>\n",
       "      <td>1687795600</td>\n",
       "      <td>156.700745</td>\n",
       "      <td>0.00</td>\n",
       "    </tr>\n",
       "    <tr>\n",
       "      <th>2022-05-01 00:00:00-04:00</th>\n",
       "      <td>156.710007</td>\n",
       "      <td>166.479996</td>\n",
       "      <td>132.610001</td>\n",
       "      <td>148.839996</td>\n",
       "      <td>2401040300</td>\n",
       "      <td>147.943787</td>\n",
       "      <td>0.23</td>\n",
       "    </tr>\n",
       "    <tr>\n",
       "      <th>2022-06-01 00:00:00-04:00</th>\n",
       "      <td>149.899994</td>\n",
       "      <td>151.740005</td>\n",
       "      <td>129.039993</td>\n",
       "      <td>136.720001</td>\n",
       "      <td>1749099800</td>\n",
       "      <td>136.096436</td>\n",
       "      <td>0.00</td>\n",
       "    </tr>\n",
       "    <tr>\n",
       "      <th>2022-07-01 00:00:00-04:00</th>\n",
       "      <td>136.039993</td>\n",
       "      <td>163.630005</td>\n",
       "      <td>135.660004</td>\n",
       "      <td>162.509995</td>\n",
       "      <td>1447125400</td>\n",
       "      <td>161.768814</td>\n",
       "      <td>0.00</td>\n",
       "    </tr>\n",
       "    <tr>\n",
       "      <th>2022-08-01 00:00:00-04:00</th>\n",
       "      <td>161.009995</td>\n",
       "      <td>176.149994</td>\n",
       "      <td>157.139999</td>\n",
       "      <td>157.220001</td>\n",
       "      <td>1510239600</td>\n",
       "      <td>156.502960</td>\n",
       "      <td>0.23</td>\n",
       "    </tr>\n",
       "    <tr>\n",
       "      <th>2022-09-01 00:00:00-04:00</th>\n",
       "      <td>156.639999</td>\n",
       "      <td>164.259995</td>\n",
       "      <td>138.000000</td>\n",
       "      <td>138.199997</td>\n",
       "      <td>2084722800</td>\n",
       "      <td>137.760773</td>\n",
       "      <td>0.00</td>\n",
       "    </tr>\n",
       "    <tr>\n",
       "      <th>2022-10-01 00:00:00-04:00</th>\n",
       "      <td>138.210007</td>\n",
       "      <td>157.500000</td>\n",
       "      <td>134.369995</td>\n",
       "      <td>153.339996</td>\n",
       "      <td>1868139700</td>\n",
       "      <td>152.852676</td>\n",
       "      <td>0.00</td>\n",
       "    </tr>\n",
       "    <tr>\n",
       "      <th>2022-11-01 00:00:00-04:00</th>\n",
       "      <td>155.080002</td>\n",
       "      <td>155.449997</td>\n",
       "      <td>134.380005</td>\n",
       "      <td>148.029999</td>\n",
       "      <td>1724847700</td>\n",
       "      <td>147.559540</td>\n",
       "      <td>0.23</td>\n",
       "    </tr>\n",
       "    <tr>\n",
       "      <th>2022-12-01 00:00:00-05:00</th>\n",
       "      <td>148.210007</td>\n",
       "      <td>150.919998</td>\n",
       "      <td>125.870003</td>\n",
       "      <td>129.929993</td>\n",
       "      <td>1675657600</td>\n",
       "      <td>129.731918</td>\n",
       "      <td>0.00</td>\n",
       "    </tr>\n",
       "    <tr>\n",
       "      <th>2023-01-01 00:00:00-05:00</th>\n",
       "      <td>130.279999</td>\n",
       "      <td>147.229996</td>\n",
       "      <td>124.169998</td>\n",
       "      <td>144.289993</td>\n",
       "      <td>1443218300</td>\n",
       "      <td>144.070023</td>\n",
       "      <td>0.00</td>\n",
       "    </tr>\n",
       "    <tr>\n",
       "      <th>2023-02-01 00:00:00-05:00</th>\n",
       "      <td>143.970001</td>\n",
       "      <td>157.380005</td>\n",
       "      <td>141.320007</td>\n",
       "      <td>151.009995</td>\n",
       "      <td>680999700</td>\n",
       "      <td>150.779785</td>\n",
       "      <td>0.23</td>\n",
       "    </tr>\n",
       "    <tr>\n",
       "      <th>2023-02-13 13:33:04-05:00</th>\n",
       "      <td>150.951996</td>\n",
       "      <td>154.259995</td>\n",
       "      <td>150.919998</td>\n",
       "      <td>154.119995</td>\n",
       "      <td>33461503</td>\n",
       "      <td>154.119995</td>\n",
       "      <td>0.00</td>\n",
       "    </tr>\n",
       "  </tbody>\n",
       "</table>\n",
       "</div>"
      ],
      "text/plain": [
       "                                        open        high         low  \\\n",
       "symbol date                                                            \n",
       "aapl   2022-03-01 00:00:00-05:00  164.699997  179.610001  150.100006   \n",
       "       2022-04-01 00:00:00-04:00  174.029999  178.490005  155.380005   \n",
       "       2022-05-01 00:00:00-04:00  156.710007  166.479996  132.610001   \n",
       "       2022-06-01 00:00:00-04:00  149.899994  151.740005  129.039993   \n",
       "       2022-07-01 00:00:00-04:00  136.039993  163.630005  135.660004   \n",
       "       2022-08-01 00:00:00-04:00  161.009995  176.149994  157.139999   \n",
       "       2022-09-01 00:00:00-04:00  156.639999  164.259995  138.000000   \n",
       "       2022-10-01 00:00:00-04:00  138.210007  157.500000  134.369995   \n",
       "       2022-11-01 00:00:00-04:00  155.080002  155.449997  134.380005   \n",
       "       2022-12-01 00:00:00-05:00  148.210007  150.919998  125.870003   \n",
       "       2023-01-01 00:00:00-05:00  130.279999  147.229996  124.169998   \n",
       "       2023-02-01 00:00:00-05:00  143.970001  157.380005  141.320007   \n",
       "       2023-02-13 13:33:04-05:00  150.951996  154.259995  150.919998   \n",
       "\n",
       "                                       close      volume    adjclose  \\\n",
       "symbol date                                                            \n",
       "aapl   2022-03-01 00:00:00-05:00  174.610001  2180800100  173.558640   \n",
       "       2022-04-01 00:00:00-04:00  157.649994  1687795600  156.700745   \n",
       "       2022-05-01 00:00:00-04:00  148.839996  2401040300  147.943787   \n",
       "       2022-06-01 00:00:00-04:00  136.720001  1749099800  136.096436   \n",
       "       2022-07-01 00:00:00-04:00  162.509995  1447125400  161.768814   \n",
       "       2022-08-01 00:00:00-04:00  157.220001  1510239600  156.502960   \n",
       "       2022-09-01 00:00:00-04:00  138.199997  2084722800  137.760773   \n",
       "       2022-10-01 00:00:00-04:00  153.339996  1868139700  152.852676   \n",
       "       2022-11-01 00:00:00-04:00  148.029999  1724847700  147.559540   \n",
       "       2022-12-01 00:00:00-05:00  129.929993  1675657600  129.731918   \n",
       "       2023-01-01 00:00:00-05:00  144.289993  1443218300  144.070023   \n",
       "       2023-02-01 00:00:00-05:00  151.009995   680999700  150.779785   \n",
       "       2023-02-13 13:33:04-05:00  154.119995    33461503  154.119995   \n",
       "\n",
       "                                  dividends  \n",
       "symbol date                                  \n",
       "aapl   2022-03-01 00:00:00-05:00       0.00  \n",
       "       2022-04-01 00:00:00-04:00       0.00  \n",
       "       2022-05-01 00:00:00-04:00       0.23  \n",
       "       2022-06-01 00:00:00-04:00       0.00  \n",
       "       2022-07-01 00:00:00-04:00       0.00  \n",
       "       2022-08-01 00:00:00-04:00       0.23  \n",
       "       2022-09-01 00:00:00-04:00       0.00  \n",
       "       2022-10-01 00:00:00-04:00       0.00  \n",
       "       2022-11-01 00:00:00-04:00       0.23  \n",
       "       2022-12-01 00:00:00-05:00       0.00  \n",
       "       2023-01-01 00:00:00-05:00       0.00  \n",
       "       2023-02-01 00:00:00-05:00       0.23  \n",
       "       2023-02-13 13:33:04-05:00       0.00  "
      ]
     },
     "execution_count": 44,
     "metadata": {},
     "output_type": "execute_result"
    }
   ],
   "source": [
    "aapl_ticker.history(\"1y\", \"1mo\") # 1 year period, 1 month intervals"
   ]
  },
  {
   "cell_type": "markdown",
   "metadata": {},
   "source": [
    "## Stock visualization\n",
    "Stocks have many metrics and these may be hard to view in a dataframe. It may be more useful to visualize these metrics instead."
   ]
  },
  {
   "cell_type": "code",
   "execution_count": 172,
   "metadata": {},
   "outputs": [],
   "source": [
    "# Imports\n",
    "from yahooquery import Ticker\n",
    "import pandas as pd\n",
    "import plotly.express as px # library for creating the most common figures\n",
    "import plotly.graph_objects as go # Another ploting library from plotly\n",
    "from plotly.subplots import make_subplots"
   ]
  },
  {
   "cell_type": "markdown",
   "metadata": {},
   "source": [
    "### Quick indicators\n",
    "Some metrics need to be analyzed with a quick glance. Let's use plotly to create an indicator."
   ]
  },
  {
   "cell_type": "code",
   "execution_count": 215,
   "metadata": {},
   "outputs": [
    {
     "data": {
      "application/vnd.plotly.v1+json": {
       "config": {
        "plotlyServerURL": "https://plot.ly"
       },
       "data": [
        {
         "delta": {
          "reference": 150.2,
          "valueformat": ".2f"
         },
         "mode": "number+delta",
         "number": {
          "prefix": "$",
          "valueformat": ".2f"
         },
         "title": {
          "text": "AAPL Price"
         },
         "type": "indicator",
         "value": 149.96
        }
       ],
       "layout": {
        "autosize": true,
        "template": {
         "data": {
          "bar": [
           {
            "error_x": {
             "color": "#2a3f5f"
            },
            "error_y": {
             "color": "#2a3f5f"
            },
            "marker": {
             "line": {
              "color": "#E5ECF6",
              "width": 0.5
             },
             "pattern": {
              "fillmode": "overlay",
              "size": 10,
              "solidity": 0.2
             }
            },
            "type": "bar"
           }
          ],
          "barpolar": [
           {
            "marker": {
             "line": {
              "color": "#E5ECF6",
              "width": 0.5
             },
             "pattern": {
              "fillmode": "overlay",
              "size": 10,
              "solidity": 0.2
             }
            },
            "type": "barpolar"
           }
          ],
          "carpet": [
           {
            "aaxis": {
             "endlinecolor": "#2a3f5f",
             "gridcolor": "white",
             "linecolor": "white",
             "minorgridcolor": "white",
             "startlinecolor": "#2a3f5f"
            },
            "baxis": {
             "endlinecolor": "#2a3f5f",
             "gridcolor": "white",
             "linecolor": "white",
             "minorgridcolor": "white",
             "startlinecolor": "#2a3f5f"
            },
            "type": "carpet"
           }
          ],
          "choropleth": [
           {
            "colorbar": {
             "outlinewidth": 0,
             "ticks": ""
            },
            "type": "choropleth"
           }
          ],
          "contour": [
           {
            "colorbar": {
             "outlinewidth": 0,
             "ticks": ""
            },
            "colorscale": [
             [
              0,
              "#0d0887"
             ],
             [
              0.1111111111111111,
              "#46039f"
             ],
             [
              0.2222222222222222,
              "#7201a8"
             ],
             [
              0.3333333333333333,
              "#9c179e"
             ],
             [
              0.4444444444444444,
              "#bd3786"
             ],
             [
              0.5555555555555556,
              "#d8576b"
             ],
             [
              0.6666666666666666,
              "#ed7953"
             ],
             [
              0.7777777777777778,
              "#fb9f3a"
             ],
             [
              0.8888888888888888,
              "#fdca26"
             ],
             [
              1,
              "#f0f921"
             ]
            ],
            "type": "contour"
           }
          ],
          "contourcarpet": [
           {
            "colorbar": {
             "outlinewidth": 0,
             "ticks": ""
            },
            "type": "contourcarpet"
           }
          ],
          "heatmap": [
           {
            "colorbar": {
             "outlinewidth": 0,
             "ticks": ""
            },
            "colorscale": [
             [
              0,
              "#0d0887"
             ],
             [
              0.1111111111111111,
              "#46039f"
             ],
             [
              0.2222222222222222,
              "#7201a8"
             ],
             [
              0.3333333333333333,
              "#9c179e"
             ],
             [
              0.4444444444444444,
              "#bd3786"
             ],
             [
              0.5555555555555556,
              "#d8576b"
             ],
             [
              0.6666666666666666,
              "#ed7953"
             ],
             [
              0.7777777777777778,
              "#fb9f3a"
             ],
             [
              0.8888888888888888,
              "#fdca26"
             ],
             [
              1,
              "#f0f921"
             ]
            ],
            "type": "heatmap"
           }
          ],
          "heatmapgl": [
           {
            "colorbar": {
             "outlinewidth": 0,
             "ticks": ""
            },
            "colorscale": [
             [
              0,
              "#0d0887"
             ],
             [
              0.1111111111111111,
              "#46039f"
             ],
             [
              0.2222222222222222,
              "#7201a8"
             ],
             [
              0.3333333333333333,
              "#9c179e"
             ],
             [
              0.4444444444444444,
              "#bd3786"
             ],
             [
              0.5555555555555556,
              "#d8576b"
             ],
             [
              0.6666666666666666,
              "#ed7953"
             ],
             [
              0.7777777777777778,
              "#fb9f3a"
             ],
             [
              0.8888888888888888,
              "#fdca26"
             ],
             [
              1,
              "#f0f921"
             ]
            ],
            "type": "heatmapgl"
           }
          ],
          "histogram": [
           {
            "marker": {
             "pattern": {
              "fillmode": "overlay",
              "size": 10,
              "solidity": 0.2
             }
            },
            "type": "histogram"
           }
          ],
          "histogram2d": [
           {
            "colorbar": {
             "outlinewidth": 0,
             "ticks": ""
            },
            "colorscale": [
             [
              0,
              "#0d0887"
             ],
             [
              0.1111111111111111,
              "#46039f"
             ],
             [
              0.2222222222222222,
              "#7201a8"
             ],
             [
              0.3333333333333333,
              "#9c179e"
             ],
             [
              0.4444444444444444,
              "#bd3786"
             ],
             [
              0.5555555555555556,
              "#d8576b"
             ],
             [
              0.6666666666666666,
              "#ed7953"
             ],
             [
              0.7777777777777778,
              "#fb9f3a"
             ],
             [
              0.8888888888888888,
              "#fdca26"
             ],
             [
              1,
              "#f0f921"
             ]
            ],
            "type": "histogram2d"
           }
          ],
          "histogram2dcontour": [
           {
            "colorbar": {
             "outlinewidth": 0,
             "ticks": ""
            },
            "colorscale": [
             [
              0,
              "#0d0887"
             ],
             [
              0.1111111111111111,
              "#46039f"
             ],
             [
              0.2222222222222222,
              "#7201a8"
             ],
             [
              0.3333333333333333,
              "#9c179e"
             ],
             [
              0.4444444444444444,
              "#bd3786"
             ],
             [
              0.5555555555555556,
              "#d8576b"
             ],
             [
              0.6666666666666666,
              "#ed7953"
             ],
             [
              0.7777777777777778,
              "#fb9f3a"
             ],
             [
              0.8888888888888888,
              "#fdca26"
             ],
             [
              1,
              "#f0f921"
             ]
            ],
            "type": "histogram2dcontour"
           }
          ],
          "mesh3d": [
           {
            "colorbar": {
             "outlinewidth": 0,
             "ticks": ""
            },
            "type": "mesh3d"
           }
          ],
          "parcoords": [
           {
            "line": {
             "colorbar": {
              "outlinewidth": 0,
              "ticks": ""
             }
            },
            "type": "parcoords"
           }
          ],
          "pie": [
           {
            "automargin": true,
            "type": "pie"
           }
          ],
          "scatter": [
           {
            "fillpattern": {
             "fillmode": "overlay",
             "size": 10,
             "solidity": 0.2
            },
            "type": "scatter"
           }
          ],
          "scatter3d": [
           {
            "line": {
             "colorbar": {
              "outlinewidth": 0,
              "ticks": ""
             }
            },
            "marker": {
             "colorbar": {
              "outlinewidth": 0,
              "ticks": ""
             }
            },
            "type": "scatter3d"
           }
          ],
          "scattercarpet": [
           {
            "marker": {
             "colorbar": {
              "outlinewidth": 0,
              "ticks": ""
             }
            },
            "type": "scattercarpet"
           }
          ],
          "scattergeo": [
           {
            "marker": {
             "colorbar": {
              "outlinewidth": 0,
              "ticks": ""
             }
            },
            "type": "scattergeo"
           }
          ],
          "scattergl": [
           {
            "marker": {
             "colorbar": {
              "outlinewidth": 0,
              "ticks": ""
             }
            },
            "type": "scattergl"
           }
          ],
          "scattermapbox": [
           {
            "marker": {
             "colorbar": {
              "outlinewidth": 0,
              "ticks": ""
             }
            },
            "type": "scattermapbox"
           }
          ],
          "scatterpolar": [
           {
            "marker": {
             "colorbar": {
              "outlinewidth": 0,
              "ticks": ""
             }
            },
            "type": "scatterpolar"
           }
          ],
          "scatterpolargl": [
           {
            "marker": {
             "colorbar": {
              "outlinewidth": 0,
              "ticks": ""
             }
            },
            "type": "scatterpolargl"
           }
          ],
          "scatterternary": [
           {
            "marker": {
             "colorbar": {
              "outlinewidth": 0,
              "ticks": ""
             }
            },
            "type": "scatterternary"
           }
          ],
          "surface": [
           {
            "colorbar": {
             "outlinewidth": 0,
             "ticks": ""
            },
            "colorscale": [
             [
              0,
              "#0d0887"
             ],
             [
              0.1111111111111111,
              "#46039f"
             ],
             [
              0.2222222222222222,
              "#7201a8"
             ],
             [
              0.3333333333333333,
              "#9c179e"
             ],
             [
              0.4444444444444444,
              "#bd3786"
             ],
             [
              0.5555555555555556,
              "#d8576b"
             ],
             [
              0.6666666666666666,
              "#ed7953"
             ],
             [
              0.7777777777777778,
              "#fb9f3a"
             ],
             [
              0.8888888888888888,
              "#fdca26"
             ],
             [
              1,
              "#f0f921"
             ]
            ],
            "type": "surface"
           }
          ],
          "table": [
           {
            "cells": {
             "fill": {
              "color": "#EBF0F8"
             },
             "line": {
              "color": "white"
             }
            },
            "header": {
             "fill": {
              "color": "#C8D4E3"
             },
             "line": {
              "color": "white"
             }
            },
            "type": "table"
           }
          ]
         },
         "layout": {
          "annotationdefaults": {
           "arrowcolor": "#2a3f5f",
           "arrowhead": 0,
           "arrowwidth": 1
          },
          "autotypenumbers": "strict",
          "coloraxis": {
           "colorbar": {
            "outlinewidth": 0,
            "ticks": ""
           }
          },
          "colorscale": {
           "diverging": [
            [
             0,
             "#8e0152"
            ],
            [
             0.1,
             "#c51b7d"
            ],
            [
             0.2,
             "#de77ae"
            ],
            [
             0.3,
             "#f1b6da"
            ],
            [
             0.4,
             "#fde0ef"
            ],
            [
             0.5,
             "#f7f7f7"
            ],
            [
             0.6,
             "#e6f5d0"
            ],
            [
             0.7,
             "#b8e186"
            ],
            [
             0.8,
             "#7fbc41"
            ],
            [
             0.9,
             "#4d9221"
            ],
            [
             1,
             "#276419"
            ]
           ],
           "sequential": [
            [
             0,
             "#0d0887"
            ],
            [
             0.1111111111111111,
             "#46039f"
            ],
            [
             0.2222222222222222,
             "#7201a8"
            ],
            [
             0.3333333333333333,
             "#9c179e"
            ],
            [
             0.4444444444444444,
             "#bd3786"
            ],
            [
             0.5555555555555556,
             "#d8576b"
            ],
            [
             0.6666666666666666,
             "#ed7953"
            ],
            [
             0.7777777777777778,
             "#fb9f3a"
            ],
            [
             0.8888888888888888,
             "#fdca26"
            ],
            [
             1,
             "#f0f921"
            ]
           ],
           "sequentialminus": [
            [
             0,
             "#0d0887"
            ],
            [
             0.1111111111111111,
             "#46039f"
            ],
            [
             0.2222222222222222,
             "#7201a8"
            ],
            [
             0.3333333333333333,
             "#9c179e"
            ],
            [
             0.4444444444444444,
             "#bd3786"
            ],
            [
             0.5555555555555556,
             "#d8576b"
            ],
            [
             0.6666666666666666,
             "#ed7953"
            ],
            [
             0.7777777777777778,
             "#fb9f3a"
            ],
            [
             0.8888888888888888,
             "#fdca26"
            ],
            [
             1,
             "#f0f921"
            ]
           ]
          },
          "colorway": [
           "#636efa",
           "#EF553B",
           "#00cc96",
           "#ab63fa",
           "#FFA15A",
           "#19d3f3",
           "#FF6692",
           "#B6E880",
           "#FF97FF",
           "#FECB52"
          ],
          "font": {
           "color": "#2a3f5f"
          },
          "geo": {
           "bgcolor": "white",
           "lakecolor": "white",
           "landcolor": "#E5ECF6",
           "showlakes": true,
           "showland": true,
           "subunitcolor": "white"
          },
          "hoverlabel": {
           "align": "left"
          },
          "hovermode": "closest",
          "mapbox": {
           "style": "light"
          },
          "paper_bgcolor": "white",
          "plot_bgcolor": "#E5ECF6",
          "polar": {
           "angularaxis": {
            "gridcolor": "white",
            "linecolor": "white",
            "ticks": ""
           },
           "bgcolor": "#E5ECF6",
           "radialaxis": {
            "gridcolor": "white",
            "linecolor": "white",
            "ticks": ""
           }
          },
          "scene": {
           "xaxis": {
            "backgroundcolor": "#E5ECF6",
            "gridcolor": "white",
            "gridwidth": 2,
            "linecolor": "white",
            "showbackground": true,
            "ticks": "",
            "zerolinecolor": "white"
           },
           "yaxis": {
            "backgroundcolor": "#E5ECF6",
            "gridcolor": "white",
            "gridwidth": 2,
            "linecolor": "white",
            "showbackground": true,
            "ticks": "",
            "zerolinecolor": "white"
           },
           "zaxis": {
            "backgroundcolor": "#E5ECF6",
            "gridcolor": "white",
            "gridwidth": 2,
            "linecolor": "white",
            "showbackground": true,
            "ticks": "",
            "zerolinecolor": "white"
           }
          },
          "shapedefaults": {
           "line": {
            "color": "#2a3f5f"
           }
          },
          "ternary": {
           "aaxis": {
            "gridcolor": "white",
            "linecolor": "white",
            "ticks": ""
           },
           "baxis": {
            "gridcolor": "white",
            "linecolor": "white",
            "ticks": ""
           },
           "bgcolor": "#E5ECF6",
           "caxis": {
            "gridcolor": "white",
            "linecolor": "white",
            "ticks": ""
           }
          },
          "title": {
           "x": 0.05
          },
          "xaxis": {
           "automargin": true,
           "gridcolor": "white",
           "linecolor": "white",
           "ticks": "",
           "title": {
            "standoff": 15
           },
           "zerolinecolor": "white",
           "zerolinewidth": 2
          },
          "yaxis": {
           "automargin": true,
           "gridcolor": "white",
           "linecolor": "white",
           "ticks": "",
           "title": {
            "standoff": 15
           },
           "zerolinecolor": "white",
           "zerolinewidth": 2
          }
         }
        }
       }
      },
      "image/png": "[encoded data removed]",
      "text/html": [
       "<div>                            <div id=\"1326a971-e93a-45a5-8551-530bfdaa0845\" class=\"plotly-graph-div\" style=\"height:525px; width:100%;\"></div>            <script type=\"text/javascript\">                require([\"plotly\"], function(Plotly) {                    window.PLOTLYENV=window.PLOTLYENV || {};                                    if (document.getElementById(\"1326a971-e93a-45a5-8551-530bfdaa0845\")) {                    Plotly.newPlot(                        \"1326a971-e93a-45a5-8551-530bfdaa0845\",                        [{\"delta\":{\"reference\":150.2,\"valueformat\":\".2f\"},\"mode\":\"number+delta\",\"number\":{\"prefix\":\"$\",\"valueformat\":\".2f\"},\"title\":{\"text\":\"AAPL Price\"},\"value\":149.96,\"type\":\"indicator\"}],                        {\"template\":{\"data\":{\"histogram2dcontour\":[{\"type\":\"histogram2dcontour\",\"colorbar\":{\"outlinewidth\":0,\"ticks\":\"\"},\"colorscale\":[[0.0,\"#0d0887\"],[0.1111111111111111,\"#46039f\"],[0.2222222222222222,\"#7201a8\"],[0.3333333333333333,\"#9c179e\"],[0.4444444444444444,\"#bd3786\"],[0.5555555555555556,\"#d8576b\"],[0.6666666666666666,\"#ed7953\"],[0.7777777777777778,\"#fb9f3a\"],[0.8888888888888888,\"#fdca26\"],[1.0,\"#f0f921\"]]}],\"choropleth\":[{\"type\":\"choropleth\",\"colorbar\":{\"outlinewidth\":0,\"ticks\":\"\"}}],\"histogram2d\":[{\"type\":\"histogram2d\",\"colorbar\":{\"outlinewidth\":0,\"ticks\":\"\"},\"colorscale\":[[0.0,\"#0d0887\"],[0.1111111111111111,\"#46039f\"],[0.2222222222222222,\"#7201a8\"],[0.3333333333333333,\"#9c179e\"],[0.4444444444444444,\"#bd3786\"],[0.5555555555555556,\"#d8576b\"],[0.6666666666666666,\"#ed7953\"],[0.7777777777777778,\"#fb9f3a\"],[0.8888888888888888,\"#fdca26\"],[1.0,\"#f0f921\"]]}],\"heatmap\":[{\"type\":\"heatmap\",\"colorbar\":{\"outlinewidth\":0,\"ticks\":\"\"},\"colorscale\":[[0.0,\"#0d0887\"],[0.1111111111111111,\"#46039f\"],[0.2222222222222222,\"#7201a8\"],[0.3333333333333333,\"#9c179e\"],[0.4444444444444444,\"#bd3786\"],[0.5555555555555556,\"#d8576b\"],[0.6666666666666666,\"#ed7953\"],[0.7777777777777778,\"#fb9f3a\"],[0.8888888888888888,\"#fdca26\"],[1.0,\"#f0f921\"]]}],\"heatmapgl\":[{\"type\":\"heatmapgl\",\"colorbar\":{\"outlinewidth\":0,\"ticks\":\"\"},\"colorscale\":[[0.0,\"#0d0887\"],[0.1111111111111111,\"#46039f\"],[0.2222222222222222,\"#7201a8\"],[0.3333333333333333,\"#9c179e\"],[0.4444444444444444,\"#bd3786\"],[0.5555555555555556,\"#d8576b\"],[0.6666666666666666,\"#ed7953\"],[0.7777777777777778,\"#fb9f3a\"],[0.8888888888888888,\"#fdca26\"],[1.0,\"#f0f921\"]]}],\"contourcarpet\":[{\"type\":\"contourcarpet\",\"colorbar\":{\"outlinewidth\":0,\"ticks\":\"\"}}],\"contour\":[{\"type\":\"contour\",\"colorbar\":{\"outlinewidth\":0,\"ticks\":\"\"},\"colorscale\":[[0.0,\"#0d0887\"],[0.1111111111111111,\"#46039f\"],[0.2222222222222222,\"#7201a8\"],[0.3333333333333333,\"#9c179e\"],[0.4444444444444444,\"#bd3786\"],[0.5555555555555556,\"#d8576b\"],[0.6666666666666666,\"#ed7953\"],[0.7777777777777778,\"#fb9f3a\"],[0.8888888888888888,\"#fdca26\"],[1.0,\"#f0f921\"]]}],\"surface\":[{\"type\":\"surface\",\"colorbar\":{\"outlinewidth\":0,\"ticks\":\"\"},\"colorscale\":[[0.0,\"#0d0887\"],[0.1111111111111111,\"#46039f\"],[0.2222222222222222,\"#7201a8\"],[0.3333333333333333,\"#9c179e\"],[0.4444444444444444,\"#bd3786\"],[0.5555555555555556,\"#d8576b\"],[0.6666666666666666,\"#ed7953\"],[0.7777777777777778,\"#fb9f3a\"],[0.8888888888888888,\"#fdca26\"],[1.0,\"#f0f921\"]]}],\"mesh3d\":[{\"type\":\"mesh3d\",\"colorbar\":{\"outlinewidth\":0,\"ticks\":\"\"}}],\"scatter\":[{\"fillpattern\":{\"fillmode\":\"overlay\",\"size\":10,\"solidity\":0.2},\"type\":\"scatter\"}],\"parcoords\":[{\"type\":\"parcoords\",\"line\":{\"colorbar\":{\"outlinewidth\":0,\"ticks\":\"\"}}}],\"scatterpolargl\":[{\"type\":\"scatterpolargl\",\"marker\":{\"colorbar\":{\"outlinewidth\":0,\"ticks\":\"\"}}}],\"bar\":[{\"error_x\":{\"color\":\"#2a3f5f\"},\"error_y\":{\"color\":\"#2a3f5f\"},\"marker\":{\"line\":{\"color\":\"#E5ECF6\",\"width\":0.5},\"pattern\":{\"fillmode\":\"overlay\",\"size\":10,\"solidity\":0.2}},\"type\":\"bar\"}],\"scattergeo\":[{\"type\":\"scattergeo\",\"marker\":{\"colorbar\":{\"outlinewidth\":0,\"ticks\":\"\"}}}],\"scatterpolar\":[{\"type\":\"scatterpolar\",\"marker\":{\"colorbar\":{\"outlinewidth\":0,\"ticks\":\"\"}}}],\"histogram\":[{\"marker\":{\"pattern\":{\"fillmode\":\"overlay\",\"size\":10,\"solidity\":0.2}},\"type\":\"histogram\"}],\"scattergl\":[{\"type\":\"scattergl\",\"marker\":{\"colorbar\":{\"outlinewidth\":0,\"ticks\":\"\"}}}],\"scatter3d\":[{\"type\":\"scatter3d\",\"line\":{\"colorbar\":{\"outlinewidth\":0,\"ticks\":\"\"}},\"marker\":{\"colorbar\":{\"outlinewidth\":0,\"ticks\":\"\"}}}],\"scattermapbox\":[{\"type\":\"scattermapbox\",\"marker\":{\"colorbar\":{\"outlinewidth\":0,\"ticks\":\"\"}}}],\"scatterternary\":[{\"type\":\"scatterternary\",\"marker\":{\"colorbar\":{\"outlinewidth\":0,\"ticks\":\"\"}}}],\"scattercarpet\":[{\"type\":\"scattercarpet\",\"marker\":{\"colorbar\":{\"outlinewidth\":0,\"ticks\":\"\"}}}],\"carpet\":[{\"aaxis\":{\"endlinecolor\":\"#2a3f5f\",\"gridcolor\":\"white\",\"linecolor\":\"white\",\"minorgridcolor\":\"white\",\"startlinecolor\":\"#2a3f5f\"},\"baxis\":{\"endlinecolor\":\"#2a3f5f\",\"gridcolor\":\"white\",\"linecolor\":\"white\",\"minorgridcolor\":\"white\",\"startlinecolor\":\"#2a3f5f\"},\"type\":\"carpet\"}],\"table\":[{\"cells\":{\"fill\":{\"color\":\"#EBF0F8\"},\"line\":{\"color\":\"white\"}},\"header\":{\"fill\":{\"color\":\"#C8D4E3\"},\"line\":{\"color\":\"white\"}},\"type\":\"table\"}],\"barpolar\":[{\"marker\":{\"line\":{\"color\":\"#E5ECF6\",\"width\":0.5},\"pattern\":{\"fillmode\":\"overlay\",\"size\":10,\"solidity\":0.2}},\"type\":\"barpolar\"}],\"pie\":[{\"automargin\":true,\"type\":\"pie\"}]},\"layout\":{\"autotypenumbers\":\"strict\",\"colorway\":[\"#636efa\",\"#EF553B\",\"#00cc96\",\"#ab63fa\",\"#FFA15A\",\"#19d3f3\",\"#FF6692\",\"#B6E880\",\"#FF97FF\",\"#FECB52\"],\"font\":{\"color\":\"#2a3f5f\"},\"hovermode\":\"closest\",\"hoverlabel\":{\"align\":\"left\"},\"paper_bgcolor\":\"white\",\"plot_bgcolor\":\"#E5ECF6\",\"polar\":{\"bgcolor\":\"#E5ECF6\",\"angularaxis\":{\"gridcolor\":\"white\",\"linecolor\":\"white\",\"ticks\":\"\"},\"radialaxis\":{\"gridcolor\":\"white\",\"linecolor\":\"white\",\"ticks\":\"\"}},\"ternary\":{\"bgcolor\":\"#E5ECF6\",\"aaxis\":{\"gridcolor\":\"white\",\"linecolor\":\"white\",\"ticks\":\"\"},\"baxis\":{\"gridcolor\":\"white\",\"linecolor\":\"white\",\"ticks\":\"\"},\"caxis\":{\"gridcolor\":\"white\",\"linecolor\":\"white\",\"ticks\":\"\"}},\"coloraxis\":{\"colorbar\":{\"outlinewidth\":0,\"ticks\":\"\"}},\"colorscale\":{\"sequential\":[[0.0,\"#0d0887\"],[0.1111111111111111,\"#46039f\"],[0.2222222222222222,\"#7201a8\"],[0.3333333333333333,\"#9c179e\"],[0.4444444444444444,\"#bd3786\"],[0.5555555555555556,\"#d8576b\"],[0.6666666666666666,\"#ed7953\"],[0.7777777777777778,\"#fb9f3a\"],[0.8888888888888888,\"#fdca26\"],[1.0,\"#f0f921\"]],\"sequentialminus\":[[0.0,\"#0d0887\"],[0.1111111111111111,\"#46039f\"],[0.2222222222222222,\"#7201a8\"],[0.3333333333333333,\"#9c179e\"],[0.4444444444444444,\"#bd3786\"],[0.5555555555555556,\"#d8576b\"],[0.6666666666666666,\"#ed7953\"],[0.7777777777777778,\"#fb9f3a\"],[0.8888888888888888,\"#fdca26\"],[1.0,\"#f0f921\"]],\"diverging\":[[0,\"#8e0152\"],[0.1,\"#c51b7d\"],[0.2,\"#de77ae\"],[0.3,\"#f1b6da\"],[0.4,\"#fde0ef\"],[0.5,\"#f7f7f7\"],[0.6,\"#e6f5d0\"],[0.7,\"#b8e186\"],[0.8,\"#7fbc41\"],[0.9,\"#4d9221\"],[1,\"#276419\"]]},\"xaxis\":{\"gridcolor\":\"white\",\"linecolor\":\"white\",\"ticks\":\"\",\"title\":{\"standoff\":15},\"zerolinecolor\":\"white\",\"automargin\":true,\"zerolinewidth\":2},\"yaxis\":{\"gridcolor\":\"white\",\"linecolor\":\"white\",\"ticks\":\"\",\"title\":{\"standoff\":15},\"zerolinecolor\":\"white\",\"automargin\":true,\"zerolinewidth\":2},\"scene\":{\"xaxis\":{\"backgroundcolor\":\"#E5ECF6\",\"gridcolor\":\"white\",\"linecolor\":\"white\",\"showbackground\":true,\"ticks\":\"\",\"zerolinecolor\":\"white\",\"gridwidth\":2},\"yaxis\":{\"backgroundcolor\":\"#E5ECF6\",\"gridcolor\":\"white\",\"linecolor\":\"white\",\"showbackground\":true,\"ticks\":\"\",\"zerolinecolor\":\"white\",\"gridwidth\":2},\"zaxis\":{\"backgroundcolor\":\"#E5ECF6\",\"gridcolor\":\"white\",\"linecolor\":\"white\",\"showbackground\":true,\"ticks\":\"\",\"zerolinecolor\":\"white\",\"gridwidth\":2}},\"shapedefaults\":{\"line\":{\"color\":\"#2a3f5f\"}},\"annotationdefaults\":{\"arrowcolor\":\"#2a3f5f\",\"arrowhead\":0,\"arrowwidth\":1},\"geo\":{\"bgcolor\":\"white\",\"landcolor\":\"#E5ECF6\",\"subunitcolor\":\"white\",\"showland\":true,\"showlakes\":true,\"lakecolor\":\"white\"},\"title\":{\"x\":0.05},\"mapbox\":{\"style\":\"light\"}}}},                        {\"responsive\": true}                    ).then(function(){\n",
       "                            \n",
       "var gd = document.getElementById('1326a971-e93a-45a5-8551-530bfdaa0845');\n",
       "var x = new MutationObserver(function (mutations, observer) {{\n",
       "        var display = window.getComputedStyle(gd).display;\n",
       "        if (!display || display === 'none') {{\n",
       "            console.log([gd, 'removed!']);\n",
       "            Plotly.purge(gd);\n",
       "            observer.disconnect();\n",
       "        }}\n",
       "}});\n",
       "\n",
       "// Listen for the removal of the full notebook cells\n",
       "var notebookContainer = gd.closest('#notebook-container');\n",
       "if (notebookContainer) {{\n",
       "    x.observe(notebookContainer, {childList: true});\n",
       "}}\n",
       "\n",
       "// Listen for the clearing of the current output cell\n",
       "var outputEl = gd.closest('.output');\n",
       "if (outputEl) {{\n",
       "    x.observe(outputEl, {childList: true});\n",
       "}}\n",
       "\n",
       "                        })                };                });            </script>        </div>"
      ]
     },
     "metadata": {},
     "output_type": "display_data"
    }
   ],
   "source": [
    "symbol = \"aapl\"\n",
    "ticker = Ticker(symbol)\n",
    "open_price = ticker.price[symbol][\"regularMarketOpen\"]\n",
    "current_price = ticker.price[symbol][\"regularMarketPrice\"]\n",
    "\n",
    "delta_fig = go.Figure()\n",
    "\n",
    "delta_fig.add_trace(go.Indicator(\n",
    "                title = {\"text\": f\"{symbol.upper()} Current Price\"},\n",
    "                delta = {'reference': open_price, \"valueformat\": \".2f\"},\n",
    "                mode = \"number+delta\",\n",
    "                value = current_price,\n",
    "                number = {\"prefix\": \"$\", \"valueformat\": \".2f\"}))\n"
   ]
  },
  {
   "cell_type": "markdown",
   "metadata": {},
   "source": [
    "### Visualizing price history\n",
    "Plotly express is the recommended way of building basic plots, e.g. bar, maps, heatmaps, but some plots are not supported because of how complex they are. All plotly figures are created using the graph objects library using objects called traces. These traces can be used to create more sophisticated figures. \n",
    "\n",
    "One of these traces is the Candlestick, which is popular in Finance visualization. A volume and price chart usually has a bar trace for the volume and candlestick trace for price."
   ]
  },
  {
   "cell_type": "code",
   "execution_count": 338,
   "metadata": {},
   "outputs": [
    {
     "data": {
      "application/vnd.plotly.v1+json": {
       "config": {
        "plotlyServerURL": "https://plot.ly"
       },
       "data": [
        {
         "close": [
          160.07000732421875,
          162.74000549316406,
          164.85000610351562,
          165.1199951171875,
          163.1999969482422,
          166.55999755859375,
          166.22999572753906,
          163.1699981689453,
          159.3000030517578,
          157.44000244140625,
          162.9499969482422,
          158.52000427246094,
          154.72999572753906,
          150.6199951171875,
          155.08999633789062,
          159.58999633789062,
          160.6199951171875,
          163.97999572753906,
          165.3800048828125,
          168.82000732421875,
          170.2100067138672,
          174.07000732421875,
          174.72000122070312,
          175.60000610351562,
          178.9600067138672,
          177.77000427246094,
          174.61000061035156,
          174.30999755859375,
          178.44000244140625,
          175.05999755859375,
          171.8300018310547,
          172.13999938964844,
          170.08999633789062,
          165.75,
          167.66000366210938,
          170.39999389648438,
          165.2899932861328,
          165.07000732421875,
          167.39999389648438,
          167.22999572753906,
          166.4199981689453,
          161.7899932861328,
          162.8800048828125,
          156.8000030517578,
          156.57000732421875,
          163.63999938964844,
          157.64999389648438,
          157.9600067138672,
          159.47999572753906,
          166.02000427246094,
          156.77000427246094,
          157.27999877929688,
          152.05999755859375,
          154.50999450683594,
          146.5,
          142.55999755859375,
          147.11000061035156,
          145.5399932861328,
          149.24000549316406,
          140.82000732421875,
          137.35000610351562,
          137.58999633789062,
          143.11000061035156,
          140.36000061035156,
          140.52000427246094,
          143.77999877929688,
          149.63999938964844,
          148.83999633789062,
          148.7100067138672,
          151.2100067138672,
          145.3800048828125,
          146.13999938964844,
          148.7100067138672,
          147.9600067138672,
          142.63999938964844,
          137.1300048828125,
          131.8800048828125,
          132.75999450683594,
          135.42999267578125,
          130.05999755859375,
          131.55999755859375,
          135.8699951171875,
          135.35000610351562,
          138.27000427246094,
          141.66000366210938,
          141.66000366210938,
          137.44000244140625,
          139.22999572753906,
          136.72000122070312,
          138.92999267578125,
          141.55999755859375,
          142.9199981689453,
          146.35000610351562,
          147.0399932861328,
          144.8699951171875,
          145.86000061035156,
          145.49000549316406,
          148.47000122070312,
          150.1699981689453,
          147.07000732421875,
          151,
          153.0399932861328,
          155.35000610351562,
          154.08999633789062,
          152.9499969482422,
          151.60000610351562,
          156.7899932861328,
          157.35000610351562,
          162.50999450683594,
          161.50999450683594,
          160.00999450683594,
          166.1300048828125,
          165.80999755859375,
          165.35000610351562,
          164.8699951171875,
          164.9199981689453,
          169.24000549316406,
          168.49000549316406,
          172.10000610351562,
          173.19000244140625,
          173.02999877929688,
          174.5500030517578,
          174.14999389648438,
          171.52000427246094,
          167.57000732421875,
          167.22999572753906,
          167.52999877929688,
          170.02999877929688,
          163.6199951171875,
          161.3800048828125,
          158.91000366210938,
          157.22000122070312,
          157.9600067138672,
          155.80999755859375,
          154.52999877929688,
          155.9600067138672,
          154.4600067138672,
          157.3699951171875,
          163.42999267578125,
          153.83999633789062,
          155.30999755859375,
          152.3699951171875,
          150.6999969482422,
          154.47999572753906,
          156.89999389648438,
          153.72000122070312,
          152.74000549316406,
          150.42999267578125,
          150.77000427246094,
          151.75999450683594,
          149.83999633789062,
          142.47999572753906,
          138.1999969482422,
          142.4499969482422,
          146.10000610351562,
          146.39999389648438,
          145.42999267578125,
          140.08999633789062,
          140.4199981689453,
          138.97999572753906,
          138.33999633789062,
          142.99000549316406,
          138.3800048828125,
          142.41000366210938,
          143.75,
          143.86000061035156,
          143.38999938964844,
          147.27000427246094,
          149.4499969482422,
          152.33999633789062,
          149.35000610351562,
          144.8000030517578,
          155.74000549316406,
          153.33999633789062,
          150.64999389648438,
          145.02999877929688,
          138.8800048828125,
          138.3800048828125,
          138.9199981689453,
          139.5,
          134.8699951171875,
          146.8699951171875,
          149.6999969482422,
          148.27999877929688,
          150.0399932861328,
          148.7899932861328,
          150.72000122070312,
          151.2899932861328,
          148.00999450683594,
          150.17999267578125,
          151.07000732421875,
          148.11000061035156,
          144.22000122070312,
          141.1699981689453,
          148.02999877929688,
          148.30999755859375,
          147.80999755859375,
          146.6300048828125,
          142.91000366210938,
          140.94000244140625,
          142.64999389648438,
          142.16000366210938,
          144.49000549316406,
          145.47000122070312,
          143.2100067138672,
          136.5,
          134.50999450683594,
          132.3699951171875,
          132.3000030517578,
          135.4499969482422,
          132.22999572753906,
          131.86000061035156,
          130.02999877929688,
          126.04000091552734,
          129.61000061035156,
          129.92999267578125,
          125.06999969482422,
          126.36000061035156,
          125.0199966430664,
          129.6199951171875,
          130.14999389648438,
          130.72999572753906,
          133.49000549316406,
          133.41000366210938,
          134.75999450683594,
          135.94000244140625,
          135.2100067138672,
          135.27000427246094,
          137.8699951171875,
          141.11000061035156,
          142.52999877929688,
          141.86000061035156,
          143.9600067138672,
          145.92999267578125,
          143,
          144.2899932861328,
          145.42999267578125,
          150.82000732421875,
          154.5,
          151.72999572753906,
          154.64999389648438,
          151.9199981689453,
          150.8699951171875,
          151.00999450683594,
          153.85000610351562,
          153.1999969482422,
          155.3300018310547,
          153.7100067138672,
          152.5500030517578,
          148.47999572753906,
          148.91000366210938,
          148.14999389648438
         ],
         "high": [
          166.14999389648438,
          162.85000610351562,
          165.1199951171875,
          165.4199981689453,
          166.60000610351562,
          167.36000061035156,
          168.91000366210938,
          165.5500030517578,
          165.02000427246094,
          162.8800048828125,
          163.41000366210938,
          160.38999938964844,
          159.27999877929688,
          154.1199951171875,
          155.57000732421875,
          160,
          161,
          164.47999572753906,
          166.35000610351562,
          169.4199981689453,
          172.63999938964844,
          174.13999938964844,
          175.27999877929688,
          175.72999572753906,
          179.00999450683594,
          179.61000061035156,
          178.02999877929688,
          174.8800048828125,
          178.49000549316406,
          178.3000030517578,
          173.6300048828125,
          173.36000061035156,
          171.77999877929688,
          169.02999877929688,
          169.8699951171875,
          171.0399932861328,
          171.27000427246094,
          166.60000610351562,
          167.82000732421875,
          168.8800048828125,
          171.52999877929688,
          167.8699951171875,
          163.1699981689453,
          162.33999633789062,
          159.7899932861328,
          164.52000427246094,
          166.1999969482422,
          158.22999572753906,
          160.7100067138672,
          166.47999572753906,
          164.0800018310547,
          159.44000244140625,
          155.8300018310547,
          156.74000549316406,
          155.4499969482422,
          146.1999969482422,
          148.10000610351562,
          147.52000427246094,
          149.77000427246094,
          147.36000061035156,
          141.66000366210938,
          140.6999969482422,
          143.25999450683594,
          141.97000122070312,
          141.7899932861328,
          144.33999633789062,
          149.67999267578125,
          150.66000366210938,
          151.74000549316406,
          151.27000427246094,
          147.97000122070312,
          148.57000732421875,
          149,
          149.8699951171875,
          147.9499969482422,
          140.75999450683594,
          135.1999969482422,
          133.88999938964844,
          137.33999633789062,
          132.38999938964844,
          133.0800018310547,
          137.05999755859375,
          137.75999450683594,
          138.58999633789062,
          141.91000366210938,
          143.49000549316406,
          143.4199981689453,
          140.6699981689453,
          138.3699951171875,
          139.0399932861328,
          141.61000061035156,
          144.1199951171875,
          146.5500030517578,
          147.5500030517578,
          146.63999938964844,
          148.4499969482422,
          146.4499969482422,
          148.9499969482422,
          150.86000061035156,
          151.57000732421875,
          151.22999572753906,
          153.72000122070312,
          155.57000732421875,
          156.27999877929688,
          155.0399932861328,
          153.08999633789062,
          157.3300018310547,
          157.63999938964844,
          163.6300048828125,
          163.58999633789062,
          162.41000366210938,
          166.58999633789062,
          167.19000244140625,
          165.85000610351562,
          167.80999755859375,
          165.82000732421875,
          169.33999633789062,
          170.99000549316406,
          172.1699981689453,
          173.38999938964844,
          173.7100067138672,
          176.14999389648438,
          174.89999389648438,
          173.74000549316406,
          169.86000061035156,
          168.7100067138672,
          168.11000061035156,
          170.13999938964844,
          171.0500030517578,
          162.89999389648438,
          162.55999755859375,
          160.5800018310547,
          158.4199981689453,
          160.36000061035156,
          157.08999633789062,
          156.6699981689453,
          156.36000061035156,
          157.82000732421875,
          164.25999450683594,
          160.5399932861328,
          157.10000610351562,
          155.24000549316406,
          151.35000610351562,
          154.55999755859375,
          158.0800018310547,
          158.74000549316406,
          154.47000122070312,
          151.47000122070312,
          153.77000427246094,
          154.72000122070312,
          150.63999938964844,
          146.72000122070312,
          143.10000610351562,
          143.07000732421875,
          146.22000122070312,
          147.3800048828125,
          147.5399932861328,
          143.10000610351562,
          141.88999938964844,
          141.35000610351562,
          140.36000061035156,
          143.58999633789062,
          144.52000427246094,
          142.89999389648438,
          146.6999969482422,
          144.9499969482422,
          145.88999938964844,
          147.85000610351562,
          150.22999572753906,
          152.49000549316406,
          151.99000549316406,
          149.0500030517578,
          157.5,
          154.24000549316406,
          155.4499969482422,
          152.1699981689453,
          142.8000030517578,
          142.6699981689453,
          139.14999389648438,
          141.42999267578125,
          138.5500030517578,
          146.8699951171875,
          150.00999450683594,
          150.27999877929688,
          153.58999633789062,
          149.8699951171875,
          151.47999572753906,
          152.6999969482422,
          150.3699951171875,
          150.4199981689453,
          151.8300018310547,
          148.8800048828125,
          146.63999938964844,
          144.80999755859375,
          148.72000122070312,
          149.1300048828125,
          148,
          150.9199981689453,
          147.3000030517578,
          143.3699951171875,
          143.52000427246094,
          145.57000732421875,
          144.5,
          149.97000122070312,
          146.66000366210938,
          141.8000030517578,
          137.64999389648438,
          135.1999969482422,
          133.25,
          136.80999755859375,
          134.55999755859375,
          132.4199981689453,
          131.41000366210938,
          131.02999877929688,
          130.47999572753906,
          129.9499969482422,
          130.89999389648438,
          128.66000366210938,
          127.7699966430664,
          130.2899932861328,
          133.41000366210938,
          131.25999450683594,
          133.50999450683594,
          134.25999450683594,
          134.9199981689453,
          137.2899932861328,
          138.61000061035156,
          136.25,
          138.02000427246094,
          143.32000732421875,
          143.16000366210938,
          142.42999267578125,
          144.25,
          147.22999572753906,
          145.5500030517578,
          144.33999633789062,
          146.61000061035156,
          151.17999267578125,
          157.3800048828125,
          153.10000610351562,
          155.22999572753906,
          154.5800018310547,
          154.3300018310547,
          151.33999633789062,
          154.25999450683594,
          153.77000427246094,
          155.5,
          156.3300018310547,
          153,
          151.3000030517578,
          149.9499969482422,
          150.33999633789062
         ],
         "low": [
          159.75,
          152,
          160.8699951171875,
          162.42999267578125,
          161.97000122070312,
          162.9499969482422,
          165.5500030517578,
          162.10000610351562,
          159.0399932861328,
          155.8000030517578,
          159.41000366210938,
          155.97999572753906,
          154.5,
          150.10000610351562,
          150.3800048828125,
          154.4600067138672,
          157.6300048828125,
          159.75999450683594,
          163.00999450683594,
          164.91000366210938,
          167.64999389648438,
          170.2100067138672,
          172.75,
          172,
          176.33999633789062,
          176.6999969482422,
          174.39999389648438,
          171.94000244140625,
          174.44000244140625,
          174.4199981689453,
          170.1300048828125,
          169.85000610351562,
          169.1999969482422,
          165.5,
          166.63999938964844,
          166.77000427246094,
          165.0399932861328,
          163.57000732421875,
          163.91000366210938,
          166.10000610351562,
          165.91000366210938,
          161.5,
          158.4600067138672,
          156.72000122070312,
          155.3800048828125,
          158.92999267578125,
          157.25,
          153.27000427246094,
          156.32000732421875,
          159.25999450683594,
          154.9499969482422,
          154.17999267578125,
          151.49000549316406,
          152.92999267578125,
          145.80999755859375,
          138.8000030517578,
          143.11000061035156,
          144.17999267578125,
          146.67999267578125,
          139.89999389648438,
          136.60000610351562,
          132.61000061035156,
          137.64999389648438,
          137.3300018310547,
          138.33999633789062,
          137.13999938964844,
          145.25999450683594,
          146.83999633789062,
          147.67999267578125,
          146.86000061035156,
          144.4600067138672,
          144.89999389648438,
          144.10000610351562,
          147.4600067138672,
          142.52999877929688,
          137.05999755859375,
          131.44000244140625,
          131.47999572753906,
          132.16000366210938,
          129.0399932861328,
          129.80999755859375,
          133.32000732421875,
          133.91000366210938,
          135.6300048828125,
          139.77000427246094,
          140.97000122070312,
          137.32000732421875,
          136.6699981689453,
          133.77000427246094,
          135.66000366210938,
          136.92999267578125,
          141.0800018310547,
          143.27999877929688,
          145,
          143.77999877929688,
          145.0500030517578,
          142.1199951171875,
          143.25,
          148.1999969482422,
          146.6999969482422,
          146.91000366210938,
          150.3699951171875,
          151.94000244140625,
          153.41000366210938,
          152.27999877929688,
          150.8000030517578,
          152.16000366210938,
          154.41000366210938,
          159.5,
          160.88999938964844,
          159.6300048828125,
          160.75,
          164.42999267578125,
          163,
          164.1999969482422,
          163.25,
          166.89999389648438,
          168.19000244140625,
          169.39999389648438,
          171.35000610351562,
          171.66000366210938,
          172.57000732421875,
          173.1199951171875,
          171.30999755859375,
          167.13999938964844,
          166.64999389648438,
          166.25,
          168.35000610351562,
          163.55999755859375,
          159.82000732421875,
          157.72000122070312,
          157.13999938964844,
          154.6699981689453,
          154.97000122070312,
          153.69000244140625,
          153.61000061035156,
          152.67999267578125,
          154.75,
          159.3000030517578,
          153.3699951171875,
          153.61000061035156,
          151.3800048828125,
          148.3699951171875,
          149.10000610351562,
          153.0800018310547,
          153.60000610351562,
          150.91000366210938,
          148.55999755859375,
          149.63999938964844,
          149.9499969482422,
          144.83999633789062,
          140.67999267578125,
          138,
          137.69000244140625,
          144.25999450683594,
          143.00999450683594,
          145.22000122070312,
          139.4499969482422,
          138.57000732421875,
          138.22000122070312,
          138.16000366210938,
          134.3699951171875,
          138.19000244140625,
          140.27000427246094,
          140.61000061035156,
          141.5,
          142.64999389648438,
          142.64999389648438,
          146,
          149.36000061035156,
          148.0399932861328,
          144.1300048828125,
          147.82000732421875,
          151.9199981689453,
          149.1300048828125,
          145,
          138.75,
          134.3800048828125,
          135.6699981689453,
          137.49000549316406,
          134.58999633789062,
          139.5,
          144.3699951171875,
          147.42999267578125,
          148.55999755859375,
          147.2899932861328,
          146.14999389648438,
          149.97000122070312,
          147.72000122070312,
          146.92999267578125,
          149.33999633789062,
          147.1199951171875,
          143.3800048828125,
          140.35000610351562,
          140.5500030517578,
          146.61000061035156,
          145.64999389648438,
          145.77000427246094,
          141.9199981689453,
          140,
          141.10000610351562,
          140.89999389648438,
          141.05999755859375,
          144.24000549316406,
          141.16000366210938,
          136.02999877929688,
          133.72999572753906,
          131.32000732421875,
          129.88999938964844,
          132.75,
          130.3000030517578,
          129.63999938964844,
          128.72000122070312,
          125.87000274658203,
          127.7300033569336,
          127.43000030517578,
          124.16999816894531,
          125.08000183105469,
          124.76000213623047,
          124.88999938964844,
          129.88999938964844,
          128.1199951171875,
          130.4600067138672,
          131.44000244140625,
          131.66000366210938,
          134.1300048828125,
          135.02999877929688,
          133.77000427246094,
          134.22000122070312,
          137.89999389648438,
          140.3000030517578,
          138.80999755859375,
          141.89999389648438,
          143.0800018310547,
          142.85000610351562,
          142.27999877929688,
          141.32000732421875,
          148.1699981689453,
          147.8300018310547,
          150.77999877929688,
          150.63999938964844,
          151.1699981689453,
          150.4199981689453,
          149.22000122070312,
          150.9199981689453,
          150.86000061035156,
          152.8800048828125,
          153.35000610351562,
          150.85000610351562,
          148.41000366210938,
          147.16000366210938,
          147.67999267578125
         ],
         "open": [
          165.5399932861328,
          152.5800018310547,
          163.83999633789062,
          163.05999755859375,
          164.6999969482422,
          164.38999938964844,
          168.47000122070312,
          164.49000549316406,
          163.36000061035156,
          158.82000732421875,
          161.47999572753906,
          160.1999969482422,
          158.92999267578125,
          151.4499969482422,
          150.89999389648438,
          157.0500030517578,
          158.61000061035156,
          160.50999450683594,
          163.50999450683594,
          165.50999450683594,
          167.99000549316406,
          171.05999755859375,
          173.8800048828125,
          172.1699981689453,
          176.69000244140625,
          178.5500030517578,
          177.83999633789062,
          174.02999877929688,
          174.57000732421875,
          177.5,
          172.36000061035156,
          171.16000366210938,
          171.77999877929688,
          168.7100067138672,
          168.02000427246094,
          167.38999938964844,
          170.6199951171875,
          163.9199981689453,
          165.02000427246094,
          168.75999450683594,
          168.91000366210938,
          166.4600067138672,
          161.1199951171875,
          162.25,
          155.91000366210938,
          159.25,
          161.83999633789062,
          156.7100067138672,
          158.14999389648438,
          159.6699981689453,
          163.85000610351562,
          156.00999450683594,
          154.92999267578125,
          155.52000427246094,
          153.5,
          142.77000427246094,
          144.58999633789062,
          145.5500030517578,
          148.86000061035156,
          146.85000610351562,
          139.8800048828125,
          139.08999633789062,
          137.7899932861328,
          140.80999755859375,
          138.42999267578125,
          137.38999938964844,
          145.38999938964844,
          149.07000732421875,
          149.89999389648438,
          147.8300018310547,
          146.89999389648438,
          147.02999877929688,
          144.35000610351562,
          148.5800018310547,
          147.0800018310547,
          140.27999877929688,
          132.8699951171875,
          133.1300048828125,
          134.2899932861328,
          132.0800018310547,
          130.07000732421875,
          133.4199981689453,
          134.7899932861328,
          136.82000732421875,
          139.89999389648438,
          142.6999969482422,
          142.1300048828125,
          137.4600067138672,
          137.25,
          136.0399932861328,
          137.77000427246094,
          141.35000610351562,
          143.2899932861328,
          145.25999450683594,
          145.6699981689453,
          145.75999450683594,
          142.99000549316406,
          144.0800018310547,
          149.77999877929688,
          150.74000549316406,
          147.9199981689453,
          151.1199951171875,
          154.5,
          155.38999938964844,
          154.00999450683594,
          152.25999450683594,
          152.5800018310547,
          156.97999572753906,
          161.24000549316406,
          161.00999450683594,
          160.10000610351562,
          160.83999633789062,
          166.00999450683594,
          163.2100067138672,
          166.3699951171875,
          164.02000427246094,
          167.67999267578125,
          170.05999755859375,
          169.82000732421875,
          171.52000427246094,
          172.77999877929688,
          172.77000427246094,
          173.75,
          173.02999877929688,
          169.69000244140625,
          167.0800018310547,
          167.32000732421875,
          168.77999877929688,
          170.57000732421875,
          161.14999389648438,
          162.1300048828125,
          160.30999755859375,
          156.63999938964844,
          159.75,
          156.47000122070312,
          154.82000732421875,
          154.63999938964844,
          155.47000122070312,
          159.58999633789062,
          159.89999389648438,
          154.7899932861328,
          154.64999389648438,
          151.2100067138672,
          149.30999755859375,
          153.39999389648438,
          157.33999633789062,
          152.3800048828125,
          151.19000244140625,
          149.66000366210938,
          152.74000549316406,
          147.63999938964844,
          146.10000610351562,
          141.27999877929688,
          138.2100067138672,
          145.02999877929688,
          144.07000732421875,
          145.80999755859375,
          142.5399932861328,
          140.4199981689453,
          139.89999389648438,
          139.1300048828125,
          134.99000549316406,
          144.30999755859375,
          141.07000732421875,
          145.49000549316406,
          141.69000244140625,
          143.02000427246094,
          142.8699951171875,
          147.19000244140625,
          150.08999633789062,
          150.9600067138672,
          148.07000732421875,
          148.1999969482422,
          153.16000366210938,
          155.0800018310547,
          148.9499969482422,
          142.05999755859375,
          142.08999633789062,
          137.11000061035156,
          140.41000366210938,
          138.5,
          141.24000549316406,
          145.82000732421875,
          148.97000122070312,
          152.22000122070312,
          149.1300048828125,
          146.42999267578125,
          152.30999755859375,
          150.16000366210938,
          148.1300048828125,
          149.4499969482422,
          148.30999755859375,
          145.13999938964844,
          144.2899932861328,
          141.39999389648438,
          148.2100067138672,
          145.9600067138672,
          147.77000427246094,
          147.07000732421875,
          142.19000244140625,
          142.36000061035156,
          142.33999633789062,
          142.6999969482422,
          149.5,
          145.35000610351562,
          141.11000061035156,
          136.69000244140625,
          135.11000061035156,
          131.38999938964844,
          132.97999572753906,
          134.35000610351562,
          130.9199981689453,
          131.3800048828125,
          129.6699981689453,
          127.98999786376953,
          128.41000366210938,
          130.27999877929688,
          126.88999938964844,
          127.12999725341797,
          126.01000213623047,
          130.47000122070312,
          130.25999450683594,
          131.25,
          133.8800048828125,
          132.02999877929688,
          134.8300018310547,
          136.82000732421875,
          134.0800018310547,
          135.27999877929688,
          138.1199951171875,
          140.30999755859375,
          140.88999938964844,
          143.1699981689453,
          143.16000366210938,
          144.9600067138672,
          142.6999969482422,
          143.97000122070312,
          148.89999389648438,
          148.02999877929688,
          152.57000732421875,
          150.63999938964844,
          153.8800048828125,
          153.77999877929688,
          149.4600067138672,
          150.9499969482422,
          152.1199951171875,
          153.11000061035156,
          153.50999450683594,
          152.35000610351562,
          150.1999969482422,
          148.8699951171875,
          150.08999633789062
         ],
         "showlegend": false,
         "type": "candlestick",
         "x": [
          "2022-02-23",
          "2022-02-24",
          "2022-02-25",
          "2022-02-28",
          "2022-03-01",
          "2022-03-02",
          "2022-03-03",
          "2022-03-04",
          "2022-03-07",
          "2022-03-08",
          "2022-03-09",
          "2022-03-10",
          "2022-03-11",
          "2022-03-14",
          "2022-03-15",
          "2022-03-16",
          "2022-03-17",
          "2022-03-18",
          "2022-03-21",
          "2022-03-22",
          "2022-03-23",
          "2022-03-24",
          "2022-03-25",
          "2022-03-28",
          "2022-03-29",
          "2022-03-30",
          "2022-03-31",
          "2022-04-01",
          "2022-04-04",
          "2022-04-05",
          "2022-04-06",
          "2022-04-07",
          "2022-04-08",
          "2022-04-11",
          "2022-04-12",
          "2022-04-13",
          "2022-04-14",
          "2022-04-18",
          "2022-04-19",
          "2022-04-20",
          "2022-04-21",
          "2022-04-22",
          "2022-04-25",
          "2022-04-26",
          "2022-04-27",
          "2022-04-28",
          "2022-04-29",
          "2022-05-02",
          "2022-05-03",
          "2022-05-04",
          "2022-05-05",
          "2022-05-06",
          "2022-05-09",
          "2022-05-10",
          "2022-05-11",
          "2022-05-12",
          "2022-05-13",
          "2022-05-16",
          "2022-05-17",
          "2022-05-18",
          "2022-05-19",
          "2022-05-20",
          "2022-05-23",
          "2022-05-24",
          "2022-05-25",
          "2022-05-26",
          "2022-05-27",
          "2022-05-31",
          "2022-06-01",
          "2022-06-02",
          "2022-06-03",
          "2022-06-06",
          "2022-06-07",
          "2022-06-08",
          "2022-06-09",
          "2022-06-10",
          "2022-06-13",
          "2022-06-14",
          "2022-06-15",
          "2022-06-16",
          "2022-06-17",
          "2022-06-21",
          "2022-06-22",
          "2022-06-23",
          "2022-06-24",
          "2022-06-27",
          "2022-06-28",
          "2022-06-29",
          "2022-06-30",
          "2022-07-01",
          "2022-07-05",
          "2022-07-06",
          "2022-07-07",
          "2022-07-08",
          "2022-07-11",
          "2022-07-12",
          "2022-07-13",
          "2022-07-14",
          "2022-07-15",
          "2022-07-18",
          "2022-07-19",
          "2022-07-20",
          "2022-07-21",
          "2022-07-22",
          "2022-07-25",
          "2022-07-26",
          "2022-07-27",
          "2022-07-28",
          "2022-07-29",
          "2022-08-01",
          "2022-08-02",
          "2022-08-03",
          "2022-08-04",
          "2022-08-05",
          "2022-08-08",
          "2022-08-09",
          "2022-08-10",
          "2022-08-11",
          "2022-08-12",
          "2022-08-15",
          "2022-08-16",
          "2022-08-17",
          "2022-08-18",
          "2022-08-19",
          "2022-08-22",
          "2022-08-23",
          "2022-08-24",
          "2022-08-25",
          "2022-08-26",
          "2022-08-29",
          "2022-08-30",
          "2022-08-31",
          "2022-09-01",
          "2022-09-02",
          "2022-09-06",
          "2022-09-07",
          "2022-09-08",
          "2022-09-09",
          "2022-09-12",
          "2022-09-13",
          "2022-09-14",
          "2022-09-15",
          "2022-09-16",
          "2022-09-19",
          "2022-09-20",
          "2022-09-21",
          "2022-09-22",
          "2022-09-23",
          "2022-09-26",
          "2022-09-27",
          "2022-09-28",
          "2022-09-29",
          "2022-09-30",
          "2022-10-03",
          "2022-10-04",
          "2022-10-05",
          "2022-10-06",
          "2022-10-07",
          "2022-10-10",
          "2022-10-11",
          "2022-10-12",
          "2022-10-13",
          "2022-10-14",
          "2022-10-17",
          "2022-10-18",
          "2022-10-19",
          "2022-10-20",
          "2022-10-21",
          "2022-10-24",
          "2022-10-25",
          "2022-10-26",
          "2022-10-27",
          "2022-10-28",
          "2022-10-31",
          "2022-11-01",
          "2022-11-02",
          "2022-11-03",
          "2022-11-04",
          "2022-11-07",
          "2022-11-08",
          "2022-11-09",
          "2022-11-10",
          "2022-11-11",
          "2022-11-14",
          "2022-11-15",
          "2022-11-16",
          "2022-11-17",
          "2022-11-18",
          "2022-11-21",
          "2022-11-22",
          "2022-11-23",
          "2022-11-25",
          "2022-11-28",
          "2022-11-29",
          "2022-11-30",
          "2022-12-01",
          "2022-12-02",
          "2022-12-05",
          "2022-12-06",
          "2022-12-07",
          "2022-12-08",
          "2022-12-09",
          "2022-12-12",
          "2022-12-13",
          "2022-12-14",
          "2022-12-15",
          "2022-12-16",
          "2022-12-19",
          "2022-12-20",
          "2022-12-21",
          "2022-12-22",
          "2022-12-23",
          "2022-12-27",
          "2022-12-28",
          "2022-12-29",
          "2022-12-30",
          "2023-01-03",
          "2023-01-04",
          "2023-01-05",
          "2023-01-06",
          "2023-01-09",
          "2023-01-10",
          "2023-01-11",
          "2023-01-12",
          "2023-01-13",
          "2023-01-17",
          "2023-01-18",
          "2023-01-19",
          "2023-01-20",
          "2023-01-23",
          "2023-01-24",
          "2023-01-25",
          "2023-01-26",
          "2023-01-27",
          "2023-01-30",
          "2023-01-31",
          "2023-02-01",
          "2023-02-02",
          "2023-02-03",
          "2023-02-06",
          "2023-02-07",
          "2023-02-08",
          "2023-02-09",
          "2023-02-10",
          "2023-02-13",
          "2023-02-14",
          "2023-02-15",
          "2023-02-16",
          "2023-02-17",
          "2023-02-21",
          "2023-02-22",
          "2023-02-23T11:05:11-05:00"
         ],
         "xaxis": "x",
         "yaxis": "y"
        },
        {
         "showlegend": false,
         "type": "bar",
         "x": [
          "2022-02-23",
          "2022-02-24",
          "2022-02-25",
          "2022-02-28",
          "2022-03-01",
          "2022-03-02",
          "2022-03-03",
          "2022-03-04",
          "2022-03-07",
          "2022-03-08",
          "2022-03-09",
          "2022-03-10",
          "2022-03-11",
          "2022-03-14",
          "2022-03-15",
          "2022-03-16",
          "2022-03-17",
          "2022-03-18",
          "2022-03-21",
          "2022-03-22",
          "2022-03-23",
          "2022-03-24",
          "2022-03-25",
          "2022-03-28",
          "2022-03-29",
          "2022-03-30",
          "2022-03-31",
          "2022-04-01",
          "2022-04-04",
          "2022-04-05",
          "2022-04-06",
          "2022-04-07",
          "2022-04-08",
          "2022-04-11",
          "2022-04-12",
          "2022-04-13",
          "2022-04-14",
          "2022-04-18",
          "2022-04-19",
          "2022-04-20",
          "2022-04-21",
          "2022-04-22",
          "2022-04-25",
          "2022-04-26",
          "2022-04-27",
          "2022-04-28",
          "2022-04-29",
          "2022-05-02",
          "2022-05-03",
          "2022-05-04",
          "2022-05-05",
          "2022-05-06",
          "2022-05-09",
          "2022-05-10",
          "2022-05-11",
          "2022-05-12",
          "2022-05-13",
          "2022-05-16",
          "2022-05-17",
          "2022-05-18",
          "2022-05-19",
          "2022-05-20",
          "2022-05-23",
          "2022-05-24",
          "2022-05-25",
          "2022-05-26",
          "2022-05-27",
          "2022-05-31",
          "2022-06-01",
          "2022-06-02",
          "2022-06-03",
          "2022-06-06",
          "2022-06-07",
          "2022-06-08",
          "2022-06-09",
          "2022-06-10",
          "2022-06-13",
          "2022-06-14",
          "2022-06-15",
          "2022-06-16",
          "2022-06-17",
          "2022-06-21",
          "2022-06-22",
          "2022-06-23",
          "2022-06-24",
          "2022-06-27",
          "2022-06-28",
          "2022-06-29",
          "2022-06-30",
          "2022-07-01",
          "2022-07-05",
          "2022-07-06",
          "2022-07-07",
          "2022-07-08",
          "2022-07-11",
          "2022-07-12",
          "2022-07-13",
          "2022-07-14",
          "2022-07-15",
          "2022-07-18",
          "2022-07-19",
          "2022-07-20",
          "2022-07-21",
          "2022-07-22",
          "2022-07-25",
          "2022-07-26",
          "2022-07-27",
          "2022-07-28",
          "2022-07-29",
          "2022-08-01",
          "2022-08-02",
          "2022-08-03",
          "2022-08-04",
          "2022-08-05",
          "2022-08-08",
          "2022-08-09",
          "2022-08-10",
          "2022-08-11",
          "2022-08-12",
          "2022-08-15",
          "2022-08-16",
          "2022-08-17",
          "2022-08-18",
          "2022-08-19",
          "2022-08-22",
          "2022-08-23",
          "2022-08-24",
          "2022-08-25",
          "2022-08-26",
          "2022-08-29",
          "2022-08-30",
          "2022-08-31",
          "2022-09-01",
          "2022-09-02",
          "2022-09-06",
          "2022-09-07",
          "2022-09-08",
          "2022-09-09",
          "2022-09-12",
          "2022-09-13",
          "2022-09-14",
          "2022-09-15",
          "2022-09-16",
          "2022-09-19",
          "2022-09-20",
          "2022-09-21",
          "2022-09-22",
          "2022-09-23",
          "2022-09-26",
          "2022-09-27",
          "2022-09-28",
          "2022-09-29",
          "2022-09-30",
          "2022-10-03",
          "2022-10-04",
          "2022-10-05",
          "2022-10-06",
          "2022-10-07",
          "2022-10-10",
          "2022-10-11",
          "2022-10-12",
          "2022-10-13",
          "2022-10-14",
          "2022-10-17",
          "2022-10-18",
          "2022-10-19",
          "2022-10-20",
          "2022-10-21",
          "2022-10-24",
          "2022-10-25",
          "2022-10-26",
          "2022-10-27",
          "2022-10-28",
          "2022-10-31",
          "2022-11-01",
          "2022-11-02",
          "2022-11-03",
          "2022-11-04",
          "2022-11-07",
          "2022-11-08",
          "2022-11-09",
          "2022-11-10",
          "2022-11-11",
          "2022-11-14",
          "2022-11-15",
          "2022-11-16",
          "2022-11-17",
          "2022-11-18",
          "2022-11-21",
          "2022-11-22",
          "2022-11-23",
          "2022-11-25",
          "2022-11-28",
          "2022-11-29",
          "2022-11-30",
          "2022-12-01",
          "2022-12-02",
          "2022-12-05",
          "2022-12-06",
          "2022-12-07",
          "2022-12-08",
          "2022-12-09",
          "2022-12-12",
          "2022-12-13",
          "2022-12-14",
          "2022-12-15",
          "2022-12-16",
          "2022-12-19",
          "2022-12-20",
          "2022-12-21",
          "2022-12-22",
          "2022-12-23",
          "2022-12-27",
          "2022-12-28",
          "2022-12-29",
          "2022-12-30",
          "2023-01-03",
          "2023-01-04",
          "2023-01-05",
          "2023-01-06",
          "2023-01-09",
          "2023-01-10",
          "2023-01-11",
          "2023-01-12",
          "2023-01-13",
          "2023-01-17",
          "2023-01-18",
          "2023-01-19",
          "2023-01-20",
          "2023-01-23",
          "2023-01-24",
          "2023-01-25",
          "2023-01-26",
          "2023-01-27",
          "2023-01-30",
          "2023-01-31",
          "2023-02-01",
          "2023-02-02",
          "2023-02-03",
          "2023-02-06",
          "2023-02-07",
          "2023-02-08",
          "2023-02-09",
          "2023-02-10",
          "2023-02-13",
          "2023-02-14",
          "2023-02-15",
          "2023-02-16",
          "2023-02-17",
          "2023-02-21",
          "2023-02-22",
          "2023-02-23T11:05:11-05:00"
         ],
         "xaxis": "x2",
         "y": [
          90009200,
          141147500,
          91974200,
          95056600,
          83474400,
          79724800,
          76678400,
          83737200,
          96418800,
          131148300,
          91454900,
          105342000,
          96970100,
          108732100,
          92964300,
          102300200,
          75615400,
          123511700,
          95811400,
          81532000,
          98062700,
          90131400,
          80546200,
          90371900,
          100589400,
          92633200,
          103049300,
          78751300,
          76468400,
          73401800,
          89058800,
          77594700,
          76575500,
          72246700,
          79265200,
          70618900,
          75329400,
          69023900,
          67723800,
          67929800,
          87227800,
          84882400,
          96046400,
          95623200,
          88063200,
          130216800,
          131747600,
          123055300,
          88966500,
          108256500,
          130525300,
          116124600,
          131577900,
          115366700,
          142689800,
          182602000,
          113990900,
          86643800,
          78336300,
          109742900,
          136095600,
          137426100,
          117726300,
          104132700,
          92482700,
          90601500,
          90978500,
          103718400,
          74286600,
          72348100,
          88570300,
          71598400,
          67808200,
          53950200,
          69473000,
          91437900,
          122207100,
          84784300,
          91533000,
          108123900,
          134520300,
          81000500,
          73409200,
          72433800,
          89116800,
          70207900,
          67083400,
          66242400,
          98964500,
          71051600,
          73353800,
          74064300,
          66253700,
          64547800,
          63141600,
          77588800,
          71185600,
          78140700,
          76259900,
          81420900,
          82982400,
          64823400,
          65086600,
          66675400,
          53623900,
          55138700,
          78620700,
          81378700,
          101786900,
          67829400,
          59907000,
          82507500,
          55474100,
          56697000,
          60276900,
          63135500,
          70170500,
          57149200,
          68039400,
          54091700,
          56377100,
          79542000,
          62290100,
          70346300,
          69026800,
          54147100,
          53841500,
          51218200,
          78961000,
          73314000,
          77906200,
          87991100,
          74229900,
          76957800,
          73714800,
          87449600,
          84923800,
          68028800,
          104956000,
          122656600,
          87965400,
          90481100,
          162278800,
          81474200,
          107689800,
          101696800,
          86652500,
          96029900,
          93339400,
          84442700,
          146691400,
          128138200,
          124925300,
          114311700,
          87830100,
          79471000,
          68402200,
          85925600,
          74899000,
          77033700,
          70433700,
          113224000,
          88598000,
          85250900,
          99136600,
          61758300,
          64522000,
          86548600,
          75981900,
          74732300,
          88194300,
          109180200,
          164762400,
          97943200,
          80379300,
          93604600,
          97918500,
          140814800,
          83374600,
          89908500,
          74917800,
          118854000,
          93979700,
          73374100,
          89868300,
          64218300,
          80389400,
          74829600,
          58724100,
          51804100,
          58301400,
          35195900,
          69246000,
          83763800,
          111380900,
          71250400,
          65447400,
          68826400,
          64727200,
          69721100,
          62128300,
          76097000,
          70462700,
          93886200,
          82291200,
          98931900,
          160156900,
          79592600,
          77432800,
          85928000,
          77852100,
          63814900,
          69007800,
          85438400,
          75703700,
          76960600,
          112117500,
          89113600,
          80962700,
          87686600,
          70790800,
          63896200,
          69458900,
          71379600,
          57758000,
          63646600,
          69672800,
          58280400,
          79972200,
          81760300,
          66435100,
          65799300,
          54105100,
          70492800,
          64015300,
          65874500,
          77663600,
          118339000,
          154279900,
          69858300,
          83322600,
          64120100,
          56007100,
          57409100,
          62199000,
          61707600,
          65669300,
          68167900,
          59095900,
          58867200,
          50939700,
          15602766
         ],
         "yaxis": "y2"
        }
       ],
       "layout": {
        "annotations": [
         {
          "font": {
           "size": 16
          },
          "showarrow": false,
          "text": "AAPL OHLC",
          "x": 0.5,
          "xanchor": "center",
          "xref": "paper",
          "y": 0.9999999999999999,
          "yanchor": "bottom",
          "yref": "paper"
         },
         {
          "font": {
           "size": 16
          },
          "showarrow": false,
          "text": "Volume",
          "x": 0.5,
          "xanchor": "center",
          "xref": "paper",
          "y": 0.22499999999999998,
          "yanchor": "bottom",
          "yref": "paper"
         }
        ],
        "autosize": true,
        "template": {
         "data": {
          "bar": [
           {
            "error_x": {
             "color": "#2a3f5f"
            },
            "error_y": {
             "color": "#2a3f5f"
            },
            "marker": {
             "line": {
              "color": "#E5ECF6",
              "width": 0.5
             },
             "pattern": {
              "fillmode": "overlay",
              "size": 10,
              "solidity": 0.2
             }
            },
            "type": "bar"
           }
          ],
          "barpolar": [
           {
            "marker": {
             "line": {
              "color": "#E5ECF6",
              "width": 0.5
             },
             "pattern": {
              "fillmode": "overlay",
              "size": 10,
              "solidity": 0.2
             }
            },
            "type": "barpolar"
           }
          ],
          "carpet": [
           {
            "aaxis": {
             "endlinecolor": "#2a3f5f",
             "gridcolor": "white",
             "linecolor": "white",
             "minorgridcolor": "white",
             "startlinecolor": "#2a3f5f"
            },
            "baxis": {
             "endlinecolor": "#2a3f5f",
             "gridcolor": "white",
             "linecolor": "white",
             "minorgridcolor": "white",
             "startlinecolor": "#2a3f5f"
            },
            "type": "carpet"
           }
          ],
          "choropleth": [
           {
            "colorbar": {
             "outlinewidth": 0,
             "ticks": ""
            },
            "type": "choropleth"
           }
          ],
          "contour": [
           {
            "colorbar": {
             "outlinewidth": 0,
             "ticks": ""
            },
            "colorscale": [
             [
              0,
              "#0d0887"
             ],
             [
              0.1111111111111111,
              "#46039f"
             ],
             [
              0.2222222222222222,
              "#7201a8"
             ],
             [
              0.3333333333333333,
              "#9c179e"
             ],
             [
              0.4444444444444444,
              "#bd3786"
             ],
             [
              0.5555555555555556,
              "#d8576b"
             ],
             [
              0.6666666666666666,
              "#ed7953"
             ],
             [
              0.7777777777777778,
              "#fb9f3a"
             ],
             [
              0.8888888888888888,
              "#fdca26"
             ],
             [
              1,
              "#f0f921"
             ]
            ],
            "type": "contour"
           }
          ],
          "contourcarpet": [
           {
            "colorbar": {
             "outlinewidth": 0,
             "ticks": ""
            },
            "type": "contourcarpet"
           }
          ],
          "heatmap": [
           {
            "colorbar": {
             "outlinewidth": 0,
             "ticks": ""
            },
            "colorscale": [
             [
              0,
              "#0d0887"
             ],
             [
              0.1111111111111111,
              "#46039f"
             ],
             [
              0.2222222222222222,
              "#7201a8"
             ],
             [
              0.3333333333333333,
              "#9c179e"
             ],
             [
              0.4444444444444444,
              "#bd3786"
             ],
             [
              0.5555555555555556,
              "#d8576b"
             ],
             [
              0.6666666666666666,
              "#ed7953"
             ],
             [
              0.7777777777777778,
              "#fb9f3a"
             ],
             [
              0.8888888888888888,
              "#fdca26"
             ],
             [
              1,
              "#f0f921"
             ]
            ],
            "type": "heatmap"
           }
          ],
          "heatmapgl": [
           {
            "colorbar": {
             "outlinewidth": 0,
             "ticks": ""
            },
            "colorscale": [
             [
              0,
              "#0d0887"
             ],
             [
              0.1111111111111111,
              "#46039f"
             ],
             [
              0.2222222222222222,
              "#7201a8"
             ],
             [
              0.3333333333333333,
              "#9c179e"
             ],
             [
              0.4444444444444444,
              "#bd3786"
             ],
             [
              0.5555555555555556,
              "#d8576b"
             ],
             [
              0.6666666666666666,
              "#ed7953"
             ],
             [
              0.7777777777777778,
              "#fb9f3a"
             ],
             [
              0.8888888888888888,
              "#fdca26"
             ],
             [
              1,
              "#f0f921"
             ]
            ],
            "type": "heatmapgl"
           }
          ],
          "histogram": [
           {
            "marker": {
             "pattern": {
              "fillmode": "overlay",
              "size": 10,
              "solidity": 0.2
             }
            },
            "type": "histogram"
           }
          ],
          "histogram2d": [
           {
            "colorbar": {
             "outlinewidth": 0,
             "ticks": ""
            },
            "colorscale": [
             [
              0,
              "#0d0887"
             ],
             [
              0.1111111111111111,
              "#46039f"
             ],
             [
              0.2222222222222222,
              "#7201a8"
             ],
             [
              0.3333333333333333,
              "#9c179e"
             ],
             [
              0.4444444444444444,
              "#bd3786"
             ],
             [
              0.5555555555555556,
              "#d8576b"
             ],
             [
              0.6666666666666666,
              "#ed7953"
             ],
             [
              0.7777777777777778,
              "#fb9f3a"
             ],
             [
              0.8888888888888888,
              "#fdca26"
             ],
             [
              1,
              "#f0f921"
             ]
            ],
            "type": "histogram2d"
           }
          ],
          "histogram2dcontour": [
           {
            "colorbar": {
             "outlinewidth": 0,
             "ticks": ""
            },
            "colorscale": [
             [
              0,
              "#0d0887"
             ],
             [
              0.1111111111111111,
              "#46039f"
             ],
             [
              0.2222222222222222,
              "#7201a8"
             ],
             [
              0.3333333333333333,
              "#9c179e"
             ],
             [
              0.4444444444444444,
              "#bd3786"
             ],
             [
              0.5555555555555556,
              "#d8576b"
             ],
             [
              0.6666666666666666,
              "#ed7953"
             ],
             [
              0.7777777777777778,
              "#fb9f3a"
             ],
             [
              0.8888888888888888,
              "#fdca26"
             ],
             [
              1,
              "#f0f921"
             ]
            ],
            "type": "histogram2dcontour"
           }
          ],
          "mesh3d": [
           {
            "colorbar": {
             "outlinewidth": 0,
             "ticks": ""
            },
            "type": "mesh3d"
           }
          ],
          "parcoords": [
           {
            "line": {
             "colorbar": {
              "outlinewidth": 0,
              "ticks": ""
             }
            },
            "type": "parcoords"
           }
          ],
          "pie": [
           {
            "automargin": true,
            "type": "pie"
           }
          ],
          "scatter": [
           {
            "fillpattern": {
             "fillmode": "overlay",
             "size": 10,
             "solidity": 0.2
            },
            "type": "scatter"
           }
          ],
          "scatter3d": [
           {
            "line": {
             "colorbar": {
              "outlinewidth": 0,
              "ticks": ""
             }
            },
            "marker": {
             "colorbar": {
              "outlinewidth": 0,
              "ticks": ""
             }
            },
            "type": "scatter3d"
           }
          ],
          "scattercarpet": [
           {
            "marker": {
             "colorbar": {
              "outlinewidth": 0,
              "ticks": ""
             }
            },
            "type": "scattercarpet"
           }
          ],
          "scattergeo": [
           {
            "marker": {
             "colorbar": {
              "outlinewidth": 0,
              "ticks": ""
             }
            },
            "type": "scattergeo"
           }
          ],
          "scattergl": [
           {
            "marker": {
             "colorbar": {
              "outlinewidth": 0,
              "ticks": ""
             }
            },
            "type": "scattergl"
           }
          ],
          "scattermapbox": [
           {
            "marker": {
             "colorbar": {
              "outlinewidth": 0,
              "ticks": ""
             }
            },
            "type": "scattermapbox"
           }
          ],
          "scatterpolar": [
           {
            "marker": {
             "colorbar": {
              "outlinewidth": 0,
              "ticks": ""
             }
            },
            "type": "scatterpolar"
           }
          ],
          "scatterpolargl": [
           {
            "marker": {
             "colorbar": {
              "outlinewidth": 0,
              "ticks": ""
             }
            },
            "type": "scatterpolargl"
           }
          ],
          "scatterternary": [
           {
            "marker": {
             "colorbar": {
              "outlinewidth": 0,
              "ticks": ""
             }
            },
            "type": "scatterternary"
           }
          ],
          "surface": [
           {
            "colorbar": {
             "outlinewidth": 0,
             "ticks": ""
            },
            "colorscale": [
             [
              0,
              "#0d0887"
             ],
             [
              0.1111111111111111,
              "#46039f"
             ],
             [
              0.2222222222222222,
              "#7201a8"
             ],
             [
              0.3333333333333333,
              "#9c179e"
             ],
             [
              0.4444444444444444,
              "#bd3786"
             ],
             [
              0.5555555555555556,
              "#d8576b"
             ],
             [
              0.6666666666666666,
              "#ed7953"
             ],
             [
              0.7777777777777778,
              "#fb9f3a"
             ],
             [
              0.8888888888888888,
              "#fdca26"
             ],
             [
              1,
              "#f0f921"
             ]
            ],
            "type": "surface"
           }
          ],
          "table": [
           {
            "cells": {
             "fill": {
              "color": "#EBF0F8"
             },
             "line": {
              "color": "white"
             }
            },
            "header": {
             "fill": {
              "color": "#C8D4E3"
             },
             "line": {
              "color": "white"
             }
            },
            "type": "table"
           }
          ]
         },
         "layout": {
          "annotationdefaults": {
           "arrowcolor": "#2a3f5f",
           "arrowhead": 0,
           "arrowwidth": 1
          },
          "autotypenumbers": "strict",
          "coloraxis": {
           "colorbar": {
            "outlinewidth": 0,
            "ticks": ""
           }
          },
          "colorscale": {
           "diverging": [
            [
             0,
             "#8e0152"
            ],
            [
             0.1,
             "#c51b7d"
            ],
            [
             0.2,
             "#de77ae"
            ],
            [
             0.3,
             "#f1b6da"
            ],
            [
             0.4,
             "#fde0ef"
            ],
            [
             0.5,
             "#f7f7f7"
            ],
            [
             0.6,
             "#e6f5d0"
            ],
            [
             0.7,
             "#b8e186"
            ],
            [
             0.8,
             "#7fbc41"
            ],
            [
             0.9,
             "#4d9221"
            ],
            [
             1,
             "#276419"
            ]
           ],
           "sequential": [
            [
             0,
             "#0d0887"
            ],
            [
             0.1111111111111111,
             "#46039f"
            ],
            [
             0.2222222222222222,
             "#7201a8"
            ],
            [
             0.3333333333333333,
             "#9c179e"
            ],
            [
             0.4444444444444444,
             "#bd3786"
            ],
            [
             0.5555555555555556,
             "#d8576b"
            ],
            [
             0.6666666666666666,
             "#ed7953"
            ],
            [
             0.7777777777777778,
             "#fb9f3a"
            ],
            [
             0.8888888888888888,
             "#fdca26"
            ],
            [
             1,
             "#f0f921"
            ]
           ],
           "sequentialminus": [
            [
             0,
             "#0d0887"
            ],
            [
             0.1111111111111111,
             "#46039f"
            ],
            [
             0.2222222222222222,
             "#7201a8"
            ],
            [
             0.3333333333333333,
             "#9c179e"
            ],
            [
             0.4444444444444444,
             "#bd3786"
            ],
            [
             0.5555555555555556,
             "#d8576b"
            ],
            [
             0.6666666666666666,
             "#ed7953"
            ],
            [
             0.7777777777777778,
             "#fb9f3a"
            ],
            [
             0.8888888888888888,
             "#fdca26"
            ],
            [
             1,
             "#f0f921"
            ]
           ]
          },
          "colorway": [
           "#636efa",
           "#EF553B",
           "#00cc96",
           "#ab63fa",
           "#FFA15A",
           "#19d3f3",
           "#FF6692",
           "#B6E880",
           "#FF97FF",
           "#FECB52"
          ],
          "font": {
           "color": "#2a3f5f"
          },
          "geo": {
           "bgcolor": "white",
           "lakecolor": "white",
           "landcolor": "#E5ECF6",
           "showlakes": true,
           "showland": true,
           "subunitcolor": "white"
          },
          "hoverlabel": {
           "align": "left"
          },
          "hovermode": "closest",
          "mapbox": {
           "style": "light"
          },
          "paper_bgcolor": "white",
          "plot_bgcolor": "#E5ECF6",
          "polar": {
           "angularaxis": {
            "gridcolor": "white",
            "linecolor": "white",
            "ticks": ""
           },
           "bgcolor": "#E5ECF6",
           "radialaxis": {
            "gridcolor": "white",
            "linecolor": "white",
            "ticks": ""
           }
          },
          "scene": {
           "xaxis": {
            "backgroundcolor": "#E5ECF6",
            "gridcolor": "white",
            "gridwidth": 2,
            "linecolor": "white",
            "showbackground": true,
            "ticks": "",
            "zerolinecolor": "white"
           },
           "yaxis": {
            "backgroundcolor": "#E5ECF6",
            "gridcolor": "white",
            "gridwidth": 2,
            "linecolor": "white",
            "showbackground": true,
            "ticks": "",
            "zerolinecolor": "white"
           },
           "zaxis": {
            "backgroundcolor": "#E5ECF6",
            "gridcolor": "white",
            "gridwidth": 2,
            "linecolor": "white",
            "showbackground": true,
            "ticks": "",
            "zerolinecolor": "white"
           }
          },
          "shapedefaults": {
           "line": {
            "color": "#2a3f5f"
           }
          },
          "ternary": {
           "aaxis": {
            "gridcolor": "white",
            "linecolor": "white",
            "ticks": ""
           },
           "baxis": {
            "gridcolor": "white",
            "linecolor": "white",
            "ticks": ""
           },
           "bgcolor": "#E5ECF6",
           "caxis": {
            "gridcolor": "white",
            "linecolor": "white",
            "ticks": ""
           }
          },
          "title": {
           "x": 0.05
          },
          "xaxis": {
           "automargin": true,
           "gridcolor": "white",
           "linecolor": "white",
           "ticks": "",
           "title": {
            "standoff": 15
           },
           "zerolinecolor": "white",
           "zerolinewidth": 2
          },
          "yaxis": {
           "automargin": true,
           "gridcolor": "white",
           "linecolor": "white",
           "ticks": "",
           "title": {
            "standoff": 15
           },
           "zerolinecolor": "white",
           "zerolinewidth": 2
          }
         }
        },
        "xaxis": {
         "anchor": "y",
         "autorange": true,
         "domain": [
          0,
          1
         ],
         "matches": "x2",
         "range": [
          "2022-02-22 12:00",
          "2023-02-23 23:05:11"
         ],
         "rangeslider": {
          "visible": false,
          "yaxis": {}
         },
         "showticklabels": false,
         "type": "date"
        },
        "xaxis2": {
         "anchor": "y2",
         "autorange": true,
         "domain": [
          0,
          1
         ],
         "range": [
          "2022-02-22 12:00",
          "2023-02-23 23:05:11"
         ],
         "type": "date"
        },
        "yaxis": {
         "anchor": "x",
         "autorange": true,
         "domain": [
          0.475,
          0.9999999999999999
         ],
         "range": [
          121.08999803331163,
          182.69000074598523
         ]
        },
        "yaxis2": {
         "anchor": "x2",
         "autorange": true,
         "domain": [
          0,
          0.22499999999999998
         ],
         "range": [
          0,
          192212631.57894737
         ],
         "type": "linear"
        }
       }
      },
      "image/png": "[encoded data removed]",
      "text/html": [
       "<div>                            <div id=\"d067d79f-b09d-4f95-bed1-e74aa9a0e001\" class=\"plotly-graph-div\" style=\"height:525px; width:100%;\"></div>            <script type=\"text/javascript\">                require([\"plotly\"], function(Plotly) {                    window.PLOTLYENV=window.PLOTLYENV || {};                                    if (document.getElementById(\"d067d79f-b09d-4f95-bed1-e74aa9a0e001\")) {                    Plotly.newPlot(                        \"d067d79f-b09d-4f95-bed1-e74aa9a0e001\",                        [{\"close\":[160.07000732421875,162.74000549316406,164.85000610351562,165.1199951171875,163.1999969482422,166.55999755859375,166.22999572753906,163.1699981689453,159.3000030517578,157.44000244140625,162.9499969482422,158.52000427246094,154.72999572753906,150.6199951171875,155.08999633789062,159.58999633789062,160.6199951171875,163.97999572753906,165.3800048828125,168.82000732421875,170.2100067138672,174.07000732421875,174.72000122070312,175.60000610351562,178.9600067138672,177.77000427246094,174.61000061035156,174.30999755859375,178.44000244140625,175.05999755859375,171.8300018310547,172.13999938964844,170.08999633789062,165.75,167.66000366210938,170.39999389648438,165.2899932861328,165.07000732421875,167.39999389648438,167.22999572753906,166.4199981689453,161.7899932861328,162.8800048828125,156.8000030517578,156.57000732421875,163.63999938964844,157.64999389648438,157.9600067138672,159.47999572753906,166.02000427246094,156.77000427246094,157.27999877929688,152.05999755859375,154.50999450683594,146.5,142.55999755859375,147.11000061035156,145.5399932861328,149.24000549316406,140.82000732421875,137.35000610351562,137.58999633789062,143.11000061035156,140.36000061035156,140.52000427246094,143.77999877929688,149.63999938964844,148.83999633789062,148.7100067138672,151.2100067138672,145.3800048828125,146.13999938964844,148.7100067138672,147.9600067138672,142.63999938964844,137.1300048828125,131.8800048828125,132.75999450683594,135.42999267578125,130.05999755859375,131.55999755859375,135.8699951171875,135.35000610351562,138.27000427246094,141.66000366210938,141.66000366210938,137.44000244140625,139.22999572753906,136.72000122070312,138.92999267578125,141.55999755859375,142.9199981689453,146.35000610351562,147.0399932861328,144.8699951171875,145.86000061035156,145.49000549316406,148.47000122070312,150.1699981689453,147.07000732421875,151.0,153.0399932861328,155.35000610351562,154.08999633789062,152.9499969482422,151.60000610351562,156.7899932861328,157.35000610351562,162.50999450683594,161.50999450683594,160.00999450683594,166.1300048828125,165.80999755859375,165.35000610351562,164.8699951171875,164.9199981689453,169.24000549316406,168.49000549316406,172.10000610351562,173.19000244140625,173.02999877929688,174.5500030517578,174.14999389648438,171.52000427246094,167.57000732421875,167.22999572753906,167.52999877929688,170.02999877929688,163.6199951171875,161.3800048828125,158.91000366210938,157.22000122070312,157.9600067138672,155.80999755859375,154.52999877929688,155.9600067138672,154.4600067138672,157.3699951171875,163.42999267578125,153.83999633789062,155.30999755859375,152.3699951171875,150.6999969482422,154.47999572753906,156.89999389648438,153.72000122070312,152.74000549316406,150.42999267578125,150.77000427246094,151.75999450683594,149.83999633789062,142.47999572753906,138.1999969482422,142.4499969482422,146.10000610351562,146.39999389648438,145.42999267578125,140.08999633789062,140.4199981689453,138.97999572753906,138.33999633789062,142.99000549316406,138.3800048828125,142.41000366210938,143.75,143.86000061035156,143.38999938964844,147.27000427246094,149.4499969482422,152.33999633789062,149.35000610351562,144.8000030517578,155.74000549316406,153.33999633789062,150.64999389648438,145.02999877929688,138.8800048828125,138.3800048828125,138.9199981689453,139.5,134.8699951171875,146.8699951171875,149.6999969482422,148.27999877929688,150.0399932861328,148.7899932861328,150.72000122070312,151.2899932861328,148.00999450683594,150.17999267578125,151.07000732421875,148.11000061035156,144.22000122070312,141.1699981689453,148.02999877929688,148.30999755859375,147.80999755859375,146.6300048828125,142.91000366210938,140.94000244140625,142.64999389648438,142.16000366210938,144.49000549316406,145.47000122070312,143.2100067138672,136.5,134.50999450683594,132.3699951171875,132.3000030517578,135.4499969482422,132.22999572753906,131.86000061035156,130.02999877929688,126.04000091552734,129.61000061035156,129.92999267578125,125.06999969482422,126.36000061035156,125.0199966430664,129.6199951171875,130.14999389648438,130.72999572753906,133.49000549316406,133.41000366210938,134.75999450683594,135.94000244140625,135.2100067138672,135.27000427246094,137.8699951171875,141.11000061035156,142.52999877929688,141.86000061035156,143.9600067138672,145.92999267578125,143.0,144.2899932861328,145.42999267578125,150.82000732421875,154.5,151.72999572753906,154.64999389648438,151.9199981689453,150.8699951171875,151.00999450683594,153.85000610351562,153.1999969482422,155.3300018310547,153.7100067138672,152.5500030517578,148.47999572753906,148.91000366210938,148.14999389648438],\"high\":[166.14999389648438,162.85000610351562,165.1199951171875,165.4199981689453,166.60000610351562,167.36000061035156,168.91000366210938,165.5500030517578,165.02000427246094,162.8800048828125,163.41000366210938,160.38999938964844,159.27999877929688,154.1199951171875,155.57000732421875,160.0,161.0,164.47999572753906,166.35000610351562,169.4199981689453,172.63999938964844,174.13999938964844,175.27999877929688,175.72999572753906,179.00999450683594,179.61000061035156,178.02999877929688,174.8800048828125,178.49000549316406,178.3000030517578,173.6300048828125,173.36000061035156,171.77999877929688,169.02999877929688,169.8699951171875,171.0399932861328,171.27000427246094,166.60000610351562,167.82000732421875,168.8800048828125,171.52999877929688,167.8699951171875,163.1699981689453,162.33999633789062,159.7899932861328,164.52000427246094,166.1999969482422,158.22999572753906,160.7100067138672,166.47999572753906,164.0800018310547,159.44000244140625,155.8300018310547,156.74000549316406,155.4499969482422,146.1999969482422,148.10000610351562,147.52000427246094,149.77000427246094,147.36000061035156,141.66000366210938,140.6999969482422,143.25999450683594,141.97000122070312,141.7899932861328,144.33999633789062,149.67999267578125,150.66000366210938,151.74000549316406,151.27000427246094,147.97000122070312,148.57000732421875,149.0,149.8699951171875,147.9499969482422,140.75999450683594,135.1999969482422,133.88999938964844,137.33999633789062,132.38999938964844,133.0800018310547,137.05999755859375,137.75999450683594,138.58999633789062,141.91000366210938,143.49000549316406,143.4199981689453,140.6699981689453,138.3699951171875,139.0399932861328,141.61000061035156,144.1199951171875,146.5500030517578,147.5500030517578,146.63999938964844,148.4499969482422,146.4499969482422,148.9499969482422,150.86000061035156,151.57000732421875,151.22999572753906,153.72000122070312,155.57000732421875,156.27999877929688,155.0399932861328,153.08999633789062,157.3300018310547,157.63999938964844,163.6300048828125,163.58999633789062,162.41000366210938,166.58999633789062,167.19000244140625,165.85000610351562,167.80999755859375,165.82000732421875,169.33999633789062,170.99000549316406,172.1699981689453,173.38999938964844,173.7100067138672,176.14999389648438,174.89999389648438,173.74000549316406,169.86000061035156,168.7100067138672,168.11000061035156,170.13999938964844,171.0500030517578,162.89999389648438,162.55999755859375,160.5800018310547,158.4199981689453,160.36000061035156,157.08999633789062,156.6699981689453,156.36000061035156,157.82000732421875,164.25999450683594,160.5399932861328,157.10000610351562,155.24000549316406,151.35000610351562,154.55999755859375,158.0800018310547,158.74000549316406,154.47000122070312,151.47000122070312,153.77000427246094,154.72000122070312,150.63999938964844,146.72000122070312,143.10000610351562,143.07000732421875,146.22000122070312,147.3800048828125,147.5399932861328,143.10000610351562,141.88999938964844,141.35000610351562,140.36000061035156,143.58999633789062,144.52000427246094,142.89999389648438,146.6999969482422,144.9499969482422,145.88999938964844,147.85000610351562,150.22999572753906,152.49000549316406,151.99000549316406,149.0500030517578,157.5,154.24000549316406,155.4499969482422,152.1699981689453,142.8000030517578,142.6699981689453,139.14999389648438,141.42999267578125,138.5500030517578,146.8699951171875,150.00999450683594,150.27999877929688,153.58999633789062,149.8699951171875,151.47999572753906,152.6999969482422,150.3699951171875,150.4199981689453,151.8300018310547,148.8800048828125,146.63999938964844,144.80999755859375,148.72000122070312,149.1300048828125,148.0,150.9199981689453,147.3000030517578,143.3699951171875,143.52000427246094,145.57000732421875,144.5,149.97000122070312,146.66000366210938,141.8000030517578,137.64999389648438,135.1999969482422,133.25,136.80999755859375,134.55999755859375,132.4199981689453,131.41000366210938,131.02999877929688,130.47999572753906,129.9499969482422,130.89999389648438,128.66000366210938,127.7699966430664,130.2899932861328,133.41000366210938,131.25999450683594,133.50999450683594,134.25999450683594,134.9199981689453,137.2899932861328,138.61000061035156,136.25,138.02000427246094,143.32000732421875,143.16000366210938,142.42999267578125,144.25,147.22999572753906,145.5500030517578,144.33999633789062,146.61000061035156,151.17999267578125,157.3800048828125,153.10000610351562,155.22999572753906,154.5800018310547,154.3300018310547,151.33999633789062,154.25999450683594,153.77000427246094,155.5,156.3300018310547,153.0,151.3000030517578,149.9499969482422,150.33999633789062],\"low\":[159.75,152.0,160.8699951171875,162.42999267578125,161.97000122070312,162.9499969482422,165.5500030517578,162.10000610351562,159.0399932861328,155.8000030517578,159.41000366210938,155.97999572753906,154.5,150.10000610351562,150.3800048828125,154.4600067138672,157.6300048828125,159.75999450683594,163.00999450683594,164.91000366210938,167.64999389648438,170.2100067138672,172.75,172.0,176.33999633789062,176.6999969482422,174.39999389648438,171.94000244140625,174.44000244140625,174.4199981689453,170.1300048828125,169.85000610351562,169.1999969482422,165.5,166.63999938964844,166.77000427246094,165.0399932861328,163.57000732421875,163.91000366210938,166.10000610351562,165.91000366210938,161.5,158.4600067138672,156.72000122070312,155.3800048828125,158.92999267578125,157.25,153.27000427246094,156.32000732421875,159.25999450683594,154.9499969482422,154.17999267578125,151.49000549316406,152.92999267578125,145.80999755859375,138.8000030517578,143.11000061035156,144.17999267578125,146.67999267578125,139.89999389648438,136.60000610351562,132.61000061035156,137.64999389648438,137.3300018310547,138.33999633789062,137.13999938964844,145.25999450683594,146.83999633789062,147.67999267578125,146.86000061035156,144.4600067138672,144.89999389648438,144.10000610351562,147.4600067138672,142.52999877929688,137.05999755859375,131.44000244140625,131.47999572753906,132.16000366210938,129.0399932861328,129.80999755859375,133.32000732421875,133.91000366210938,135.6300048828125,139.77000427246094,140.97000122070312,137.32000732421875,136.6699981689453,133.77000427246094,135.66000366210938,136.92999267578125,141.0800018310547,143.27999877929688,145.0,143.77999877929688,145.0500030517578,142.1199951171875,143.25,148.1999969482422,146.6999969482422,146.91000366210938,150.3699951171875,151.94000244140625,153.41000366210938,152.27999877929688,150.8000030517578,152.16000366210938,154.41000366210938,159.5,160.88999938964844,159.6300048828125,160.75,164.42999267578125,163.0,164.1999969482422,163.25,166.89999389648438,168.19000244140625,169.39999389648438,171.35000610351562,171.66000366210938,172.57000732421875,173.1199951171875,171.30999755859375,167.13999938964844,166.64999389648438,166.25,168.35000610351562,163.55999755859375,159.82000732421875,157.72000122070312,157.13999938964844,154.6699981689453,154.97000122070312,153.69000244140625,153.61000061035156,152.67999267578125,154.75,159.3000030517578,153.3699951171875,153.61000061035156,151.3800048828125,148.3699951171875,149.10000610351562,153.0800018310547,153.60000610351562,150.91000366210938,148.55999755859375,149.63999938964844,149.9499969482422,144.83999633789062,140.67999267578125,138.0,137.69000244140625,144.25999450683594,143.00999450683594,145.22000122070312,139.4499969482422,138.57000732421875,138.22000122070312,138.16000366210938,134.3699951171875,138.19000244140625,140.27000427246094,140.61000061035156,141.5,142.64999389648438,142.64999389648438,146.0,149.36000061035156,148.0399932861328,144.1300048828125,147.82000732421875,151.9199981689453,149.1300048828125,145.0,138.75,134.3800048828125,135.6699981689453,137.49000549316406,134.58999633789062,139.5,144.3699951171875,147.42999267578125,148.55999755859375,147.2899932861328,146.14999389648438,149.97000122070312,147.72000122070312,146.92999267578125,149.33999633789062,147.1199951171875,143.3800048828125,140.35000610351562,140.5500030517578,146.61000061035156,145.64999389648438,145.77000427246094,141.9199981689453,140.0,141.10000610351562,140.89999389648438,141.05999755859375,144.24000549316406,141.16000366210938,136.02999877929688,133.72999572753906,131.32000732421875,129.88999938964844,132.75,130.3000030517578,129.63999938964844,128.72000122070312,125.87000274658203,127.7300033569336,127.43000030517578,124.16999816894531,125.08000183105469,124.76000213623047,124.88999938964844,129.88999938964844,128.1199951171875,130.4600067138672,131.44000244140625,131.66000366210938,134.1300048828125,135.02999877929688,133.77000427246094,134.22000122070312,137.89999389648438,140.3000030517578,138.80999755859375,141.89999389648438,143.0800018310547,142.85000610351562,142.27999877929688,141.32000732421875,148.1699981689453,147.8300018310547,150.77999877929688,150.63999938964844,151.1699981689453,150.4199981689453,149.22000122070312,150.9199981689453,150.86000061035156,152.8800048828125,153.35000610351562,150.85000610351562,148.41000366210938,147.16000366210938,147.67999267578125],\"open\":[165.5399932861328,152.5800018310547,163.83999633789062,163.05999755859375,164.6999969482422,164.38999938964844,168.47000122070312,164.49000549316406,163.36000061035156,158.82000732421875,161.47999572753906,160.1999969482422,158.92999267578125,151.4499969482422,150.89999389648438,157.0500030517578,158.61000061035156,160.50999450683594,163.50999450683594,165.50999450683594,167.99000549316406,171.05999755859375,173.8800048828125,172.1699981689453,176.69000244140625,178.5500030517578,177.83999633789062,174.02999877929688,174.57000732421875,177.5,172.36000061035156,171.16000366210938,171.77999877929688,168.7100067138672,168.02000427246094,167.38999938964844,170.6199951171875,163.9199981689453,165.02000427246094,168.75999450683594,168.91000366210938,166.4600067138672,161.1199951171875,162.25,155.91000366210938,159.25,161.83999633789062,156.7100067138672,158.14999389648438,159.6699981689453,163.85000610351562,156.00999450683594,154.92999267578125,155.52000427246094,153.5,142.77000427246094,144.58999633789062,145.5500030517578,148.86000061035156,146.85000610351562,139.8800048828125,139.08999633789062,137.7899932861328,140.80999755859375,138.42999267578125,137.38999938964844,145.38999938964844,149.07000732421875,149.89999389648438,147.8300018310547,146.89999389648438,147.02999877929688,144.35000610351562,148.5800018310547,147.0800018310547,140.27999877929688,132.8699951171875,133.1300048828125,134.2899932861328,132.0800018310547,130.07000732421875,133.4199981689453,134.7899932861328,136.82000732421875,139.89999389648438,142.6999969482422,142.1300048828125,137.4600067138672,137.25,136.0399932861328,137.77000427246094,141.35000610351562,143.2899932861328,145.25999450683594,145.6699981689453,145.75999450683594,142.99000549316406,144.0800018310547,149.77999877929688,150.74000549316406,147.9199981689453,151.1199951171875,154.5,155.38999938964844,154.00999450683594,152.25999450683594,152.5800018310547,156.97999572753906,161.24000549316406,161.00999450683594,160.10000610351562,160.83999633789062,166.00999450683594,163.2100067138672,166.3699951171875,164.02000427246094,167.67999267578125,170.05999755859375,169.82000732421875,171.52000427246094,172.77999877929688,172.77000427246094,173.75,173.02999877929688,169.69000244140625,167.0800018310547,167.32000732421875,168.77999877929688,170.57000732421875,161.14999389648438,162.1300048828125,160.30999755859375,156.63999938964844,159.75,156.47000122070312,154.82000732421875,154.63999938964844,155.47000122070312,159.58999633789062,159.89999389648438,154.7899932861328,154.64999389648438,151.2100067138672,149.30999755859375,153.39999389648438,157.33999633789062,152.3800048828125,151.19000244140625,149.66000366210938,152.74000549316406,147.63999938964844,146.10000610351562,141.27999877929688,138.2100067138672,145.02999877929688,144.07000732421875,145.80999755859375,142.5399932861328,140.4199981689453,139.89999389648438,139.1300048828125,134.99000549316406,144.30999755859375,141.07000732421875,145.49000549316406,141.69000244140625,143.02000427246094,142.8699951171875,147.19000244140625,150.08999633789062,150.9600067138672,148.07000732421875,148.1999969482422,153.16000366210938,155.0800018310547,148.9499969482422,142.05999755859375,142.08999633789062,137.11000061035156,140.41000366210938,138.5,141.24000549316406,145.82000732421875,148.97000122070312,152.22000122070312,149.1300048828125,146.42999267578125,152.30999755859375,150.16000366210938,148.1300048828125,149.4499969482422,148.30999755859375,145.13999938964844,144.2899932861328,141.39999389648438,148.2100067138672,145.9600067138672,147.77000427246094,147.07000732421875,142.19000244140625,142.36000061035156,142.33999633789062,142.6999969482422,149.5,145.35000610351562,141.11000061035156,136.69000244140625,135.11000061035156,131.38999938964844,132.97999572753906,134.35000610351562,130.9199981689453,131.3800048828125,129.6699981689453,127.98999786376953,128.41000366210938,130.27999877929688,126.88999938964844,127.12999725341797,126.01000213623047,130.47000122070312,130.25999450683594,131.25,133.8800048828125,132.02999877929688,134.8300018310547,136.82000732421875,134.0800018310547,135.27999877929688,138.1199951171875,140.30999755859375,140.88999938964844,143.1699981689453,143.16000366210938,144.9600067138672,142.6999969482422,143.97000122070312,148.89999389648438,148.02999877929688,152.57000732421875,150.63999938964844,153.8800048828125,153.77999877929688,149.4600067138672,150.9499969482422,152.1199951171875,153.11000061035156,153.50999450683594,152.35000610351562,150.1999969482422,148.8699951171875,150.08999633789062],\"showlegend\":false,\"x\":[\"2022-02-23\",\"2022-02-24\",\"2022-02-25\",\"2022-02-28\",\"2022-03-01\",\"2022-03-02\",\"2022-03-03\",\"2022-03-04\",\"2022-03-07\",\"2022-03-08\",\"2022-03-09\",\"2022-03-10\",\"2022-03-11\",\"2022-03-14\",\"2022-03-15\",\"2022-03-16\",\"2022-03-17\",\"2022-03-18\",\"2022-03-21\",\"2022-03-22\",\"2022-03-23\",\"2022-03-24\",\"2022-03-25\",\"2022-03-28\",\"2022-03-29\",\"2022-03-30\",\"2022-03-31\",\"2022-04-01\",\"2022-04-04\",\"2022-04-05\",\"2022-04-06\",\"2022-04-07\",\"2022-04-08\",\"2022-04-11\",\"2022-04-12\",\"2022-04-13\",\"2022-04-14\",\"2022-04-18\",\"2022-04-19\",\"2022-04-20\",\"2022-04-21\",\"2022-04-22\",\"2022-04-25\",\"2022-04-26\",\"2022-04-27\",\"2022-04-28\",\"2022-04-29\",\"2022-05-02\",\"2022-05-03\",\"2022-05-04\",\"2022-05-05\",\"2022-05-06\",\"2022-05-09\",\"2022-05-10\",\"2022-05-11\",\"2022-05-12\",\"2022-05-13\",\"2022-05-16\",\"2022-05-17\",\"2022-05-18\",\"2022-05-19\",\"2022-05-20\",\"2022-05-23\",\"2022-05-24\",\"2022-05-25\",\"2022-05-26\",\"2022-05-27\",\"2022-05-31\",\"2022-06-01\",\"2022-06-02\",\"2022-06-03\",\"2022-06-06\",\"2022-06-07\",\"2022-06-08\",\"2022-06-09\",\"2022-06-10\",\"2022-06-13\",\"2022-06-14\",\"2022-06-15\",\"2022-06-16\",\"2022-06-17\",\"2022-06-21\",\"2022-06-22\",\"2022-06-23\",\"2022-06-24\",\"2022-06-27\",\"2022-06-28\",\"2022-06-29\",\"2022-06-30\",\"2022-07-01\",\"2022-07-05\",\"2022-07-06\",\"2022-07-07\",\"2022-07-08\",\"2022-07-11\",\"2022-07-12\",\"2022-07-13\",\"2022-07-14\",\"2022-07-15\",\"2022-07-18\",\"2022-07-19\",\"2022-07-20\",\"2022-07-21\",\"2022-07-22\",\"2022-07-25\",\"2022-07-26\",\"2022-07-27\",\"2022-07-28\",\"2022-07-29\",\"2022-08-01\",\"2022-08-02\",\"2022-08-03\",\"2022-08-04\",\"2022-08-05\",\"2022-08-08\",\"2022-08-09\",\"2022-08-10\",\"2022-08-11\",\"2022-08-12\",\"2022-08-15\",\"2022-08-16\",\"2022-08-17\",\"2022-08-18\",\"2022-08-19\",\"2022-08-22\",\"2022-08-23\",\"2022-08-24\",\"2022-08-25\",\"2022-08-26\",\"2022-08-29\",\"2022-08-30\",\"2022-08-31\",\"2022-09-01\",\"2022-09-02\",\"2022-09-06\",\"2022-09-07\",\"2022-09-08\",\"2022-09-09\",\"2022-09-12\",\"2022-09-13\",\"2022-09-14\",\"2022-09-15\",\"2022-09-16\",\"2022-09-19\",\"2022-09-20\",\"2022-09-21\",\"2022-09-22\",\"2022-09-23\",\"2022-09-26\",\"2022-09-27\",\"2022-09-28\",\"2022-09-29\",\"2022-09-30\",\"2022-10-03\",\"2022-10-04\",\"2022-10-05\",\"2022-10-06\",\"2022-10-07\",\"2022-10-10\",\"2022-10-11\",\"2022-10-12\",\"2022-10-13\",\"2022-10-14\",\"2022-10-17\",\"2022-10-18\",\"2022-10-19\",\"2022-10-20\",\"2022-10-21\",\"2022-10-24\",\"2022-10-25\",\"2022-10-26\",\"2022-10-27\",\"2022-10-28\",\"2022-10-31\",\"2022-11-01\",\"2022-11-02\",\"2022-11-03\",\"2022-11-04\",\"2022-11-07\",\"2022-11-08\",\"2022-11-09\",\"2022-11-10\",\"2022-11-11\",\"2022-11-14\",\"2022-11-15\",\"2022-11-16\",\"2022-11-17\",\"2022-11-18\",\"2022-11-21\",\"2022-11-22\",\"2022-11-23\",\"2022-11-25\",\"2022-11-28\",\"2022-11-29\",\"2022-11-30\",\"2022-12-01\",\"2022-12-02\",\"2022-12-05\",\"2022-12-06\",\"2022-12-07\",\"2022-12-08\",\"2022-12-09\",\"2022-12-12\",\"2022-12-13\",\"2022-12-14\",\"2022-12-15\",\"2022-12-16\",\"2022-12-19\",\"2022-12-20\",\"2022-12-21\",\"2022-12-22\",\"2022-12-23\",\"2022-12-27\",\"2022-12-28\",\"2022-12-29\",\"2022-12-30\",\"2023-01-03\",\"2023-01-04\",\"2023-01-05\",\"2023-01-06\",\"2023-01-09\",\"2023-01-10\",\"2023-01-11\",\"2023-01-12\",\"2023-01-13\",\"2023-01-17\",\"2023-01-18\",\"2023-01-19\",\"2023-01-20\",\"2023-01-23\",\"2023-01-24\",\"2023-01-25\",\"2023-01-26\",\"2023-01-27\",\"2023-01-30\",\"2023-01-31\",\"2023-02-01\",\"2023-02-02\",\"2023-02-03\",\"2023-02-06\",\"2023-02-07\",\"2023-02-08\",\"2023-02-09\",\"2023-02-10\",\"2023-02-13\",\"2023-02-14\",\"2023-02-15\",\"2023-02-16\",\"2023-02-17\",\"2023-02-21\",\"2023-02-22\",\"2023-02-23T11:05:11-05:00\"],\"type\":\"candlestick\",\"xaxis\":\"x\",\"yaxis\":\"y\"},{\"showlegend\":false,\"x\":[\"2022-02-23\",\"2022-02-24\",\"2022-02-25\",\"2022-02-28\",\"2022-03-01\",\"2022-03-02\",\"2022-03-03\",\"2022-03-04\",\"2022-03-07\",\"2022-03-08\",\"2022-03-09\",\"2022-03-10\",\"2022-03-11\",\"2022-03-14\",\"2022-03-15\",\"2022-03-16\",\"2022-03-17\",\"2022-03-18\",\"2022-03-21\",\"2022-03-22\",\"2022-03-23\",\"2022-03-24\",\"2022-03-25\",\"2022-03-28\",\"2022-03-29\",\"2022-03-30\",\"2022-03-31\",\"2022-04-01\",\"2022-04-04\",\"2022-04-05\",\"2022-04-06\",\"2022-04-07\",\"2022-04-08\",\"2022-04-11\",\"2022-04-12\",\"2022-04-13\",\"2022-04-14\",\"2022-04-18\",\"2022-04-19\",\"2022-04-20\",\"2022-04-21\",\"2022-04-22\",\"2022-04-25\",\"2022-04-26\",\"2022-04-27\",\"2022-04-28\",\"2022-04-29\",\"2022-05-02\",\"2022-05-03\",\"2022-05-04\",\"2022-05-05\",\"2022-05-06\",\"2022-05-09\",\"2022-05-10\",\"2022-05-11\",\"2022-05-12\",\"2022-05-13\",\"2022-05-16\",\"2022-05-17\",\"2022-05-18\",\"2022-05-19\",\"2022-05-20\",\"2022-05-23\",\"2022-05-24\",\"2022-05-25\",\"2022-05-26\",\"2022-05-27\",\"2022-05-31\",\"2022-06-01\",\"2022-06-02\",\"2022-06-03\",\"2022-06-06\",\"2022-06-07\",\"2022-06-08\",\"2022-06-09\",\"2022-06-10\",\"2022-06-13\",\"2022-06-14\",\"2022-06-15\",\"2022-06-16\",\"2022-06-17\",\"2022-06-21\",\"2022-06-22\",\"2022-06-23\",\"2022-06-24\",\"2022-06-27\",\"2022-06-28\",\"2022-06-29\",\"2022-06-30\",\"2022-07-01\",\"2022-07-05\",\"2022-07-06\",\"2022-07-07\",\"2022-07-08\",\"2022-07-11\",\"2022-07-12\",\"2022-07-13\",\"2022-07-14\",\"2022-07-15\",\"2022-07-18\",\"2022-07-19\",\"2022-07-20\",\"2022-07-21\",\"2022-07-22\",\"2022-07-25\",\"2022-07-26\",\"2022-07-27\",\"2022-07-28\",\"2022-07-29\",\"2022-08-01\",\"2022-08-02\",\"2022-08-03\",\"2022-08-04\",\"2022-08-05\",\"2022-08-08\",\"2022-08-09\",\"2022-08-10\",\"2022-08-11\",\"2022-08-12\",\"2022-08-15\",\"2022-08-16\",\"2022-08-17\",\"2022-08-18\",\"2022-08-19\",\"2022-08-22\",\"2022-08-23\",\"2022-08-24\",\"2022-08-25\",\"2022-08-26\",\"2022-08-29\",\"2022-08-30\",\"2022-08-31\",\"2022-09-01\",\"2022-09-02\",\"2022-09-06\",\"2022-09-07\",\"2022-09-08\",\"2022-09-09\",\"2022-09-12\",\"2022-09-13\",\"2022-09-14\",\"2022-09-15\",\"2022-09-16\",\"2022-09-19\",\"2022-09-20\",\"2022-09-21\",\"2022-09-22\",\"2022-09-23\",\"2022-09-26\",\"2022-09-27\",\"2022-09-28\",\"2022-09-29\",\"2022-09-30\",\"2022-10-03\",\"2022-10-04\",\"2022-10-05\",\"2022-10-06\",\"2022-10-07\",\"2022-10-10\",\"2022-10-11\",\"2022-10-12\",\"2022-10-13\",\"2022-10-14\",\"2022-10-17\",\"2022-10-18\",\"2022-10-19\",\"2022-10-20\",\"2022-10-21\",\"2022-10-24\",\"2022-10-25\",\"2022-10-26\",\"2022-10-27\",\"2022-10-28\",\"2022-10-31\",\"2022-11-01\",\"2022-11-02\",\"2022-11-03\",\"2022-11-04\",\"2022-11-07\",\"2022-11-08\",\"2022-11-09\",\"2022-11-10\",\"2022-11-11\",\"2022-11-14\",\"2022-11-15\",\"2022-11-16\",\"2022-11-17\",\"2022-11-18\",\"2022-11-21\",\"2022-11-22\",\"2022-11-23\",\"2022-11-25\",\"2022-11-28\",\"2022-11-29\",\"2022-11-30\",\"2022-12-01\",\"2022-12-02\",\"2022-12-05\",\"2022-12-06\",\"2022-12-07\",\"2022-12-08\",\"2022-12-09\",\"2022-12-12\",\"2022-12-13\",\"2022-12-14\",\"2022-12-15\",\"2022-12-16\",\"2022-12-19\",\"2022-12-20\",\"2022-12-21\",\"2022-12-22\",\"2022-12-23\",\"2022-12-27\",\"2022-12-28\",\"2022-12-29\",\"2022-12-30\",\"2023-01-03\",\"2023-01-04\",\"2023-01-05\",\"2023-01-06\",\"2023-01-09\",\"2023-01-10\",\"2023-01-11\",\"2023-01-12\",\"2023-01-13\",\"2023-01-17\",\"2023-01-18\",\"2023-01-19\",\"2023-01-20\",\"2023-01-23\",\"2023-01-24\",\"2023-01-25\",\"2023-01-26\",\"2023-01-27\",\"2023-01-30\",\"2023-01-31\",\"2023-02-01\",\"2023-02-02\",\"2023-02-03\",\"2023-02-06\",\"2023-02-07\",\"2023-02-08\",\"2023-02-09\",\"2023-02-10\",\"2023-02-13\",\"2023-02-14\",\"2023-02-15\",\"2023-02-16\",\"2023-02-17\",\"2023-02-21\",\"2023-02-22\",\"2023-02-23T11:05:11-05:00\"],\"y\":[90009200,141147500,91974200,95056600,83474400,79724800,76678400,83737200,96418800,131148300,91454900,105342000,96970100,108732100,92964300,102300200,75615400,123511700,95811400,81532000,98062700,90131400,80546200,90371900,100589400,92633200,103049300,78751300,76468400,73401800,89058800,77594700,76575500,72246700,79265200,70618900,75329400,69023900,67723800,67929800,87227800,84882400,96046400,95623200,88063200,130216800,131747600,123055300,88966500,108256500,130525300,116124600,131577900,115366700,142689800,182602000,113990900,86643800,78336300,109742900,136095600,137426100,117726300,104132700,92482700,90601500,90978500,103718400,74286600,72348100,88570300,71598400,67808200,53950200,69473000,91437900,122207100,84784300,91533000,108123900,134520300,81000500,73409200,72433800,89116800,70207900,67083400,66242400,98964500,71051600,73353800,74064300,66253700,64547800,63141600,77588800,71185600,78140700,76259900,81420900,82982400,64823400,65086600,66675400,53623900,55138700,78620700,81378700,101786900,67829400,59907000,82507500,55474100,56697000,60276900,63135500,70170500,57149200,68039400,54091700,56377100,79542000,62290100,70346300,69026800,54147100,53841500,51218200,78961000,73314000,77906200,87991100,74229900,76957800,73714800,87449600,84923800,68028800,104956000,122656600,87965400,90481100,162278800,81474200,107689800,101696800,86652500,96029900,93339400,84442700,146691400,128138200,124925300,114311700,87830100,79471000,68402200,85925600,74899000,77033700,70433700,113224000,88598000,85250900,99136600,61758300,64522000,86548600,75981900,74732300,88194300,109180200,164762400,97943200,80379300,93604600,97918500,140814800,83374600,89908500,74917800,118854000,93979700,73374100,89868300,64218300,80389400,74829600,58724100,51804100,58301400,35195900,69246000,83763800,111380900,71250400,65447400,68826400,64727200,69721100,62128300,76097000,70462700,93886200,82291200,98931900,160156900,79592600,77432800,85928000,77852100,63814900,69007800,85438400,75703700,76960600,112117500,89113600,80962700,87686600,70790800,63896200,69458900,71379600,57758000,63646600,69672800,58280400,79972200,81760300,66435100,65799300,54105100,70492800,64015300,65874500,77663600,118339000,154279900,69858300,83322600,64120100,56007100,57409100,62199000,61707600,65669300,68167900,59095900,58867200,50939700,15602766],\"type\":\"bar\",\"xaxis\":\"x2\",\"yaxis\":\"y2\"}],                        {\"template\":{\"data\":{\"histogram2dcontour\":[{\"type\":\"histogram2dcontour\",\"colorbar\":{\"outlinewidth\":0,\"ticks\":\"\"},\"colorscale\":[[0.0,\"#0d0887\"],[0.1111111111111111,\"#46039f\"],[0.2222222222222222,\"#7201a8\"],[0.3333333333333333,\"#9c179e\"],[0.4444444444444444,\"#bd3786\"],[0.5555555555555556,\"#d8576b\"],[0.6666666666666666,\"#ed7953\"],[0.7777777777777778,\"#fb9f3a\"],[0.8888888888888888,\"#fdca26\"],[1.0,\"#f0f921\"]]}],\"choropleth\":[{\"type\":\"choropleth\",\"colorbar\":{\"outlinewidth\":0,\"ticks\":\"\"}}],\"histogram2d\":[{\"type\":\"histogram2d\",\"colorbar\":{\"outlinewidth\":0,\"ticks\":\"\"},\"colorscale\":[[0.0,\"#0d0887\"],[0.1111111111111111,\"#46039f\"],[0.2222222222222222,\"#7201a8\"],[0.3333333333333333,\"#9c179e\"],[0.4444444444444444,\"#bd3786\"],[0.5555555555555556,\"#d8576b\"],[0.6666666666666666,\"#ed7953\"],[0.7777777777777778,\"#fb9f3a\"],[0.8888888888888888,\"#fdca26\"],[1.0,\"#f0f921\"]]}],\"heatmap\":[{\"type\":\"heatmap\",\"colorbar\":{\"outlinewidth\":0,\"ticks\":\"\"},\"colorscale\":[[0.0,\"#0d0887\"],[0.1111111111111111,\"#46039f\"],[0.2222222222222222,\"#7201a8\"],[0.3333333333333333,\"#9c179e\"],[0.4444444444444444,\"#bd3786\"],[0.5555555555555556,\"#d8576b\"],[0.6666666666666666,\"#ed7953\"],[0.7777777777777778,\"#fb9f3a\"],[0.8888888888888888,\"#fdca26\"],[1.0,\"#f0f921\"]]}],\"heatmapgl\":[{\"type\":\"heatmapgl\",\"colorbar\":{\"outlinewidth\":0,\"ticks\":\"\"},\"colorscale\":[[0.0,\"#0d0887\"],[0.1111111111111111,\"#46039f\"],[0.2222222222222222,\"#7201a8\"],[0.3333333333333333,\"#9c179e\"],[0.4444444444444444,\"#bd3786\"],[0.5555555555555556,\"#d8576b\"],[0.6666666666666666,\"#ed7953\"],[0.7777777777777778,\"#fb9f3a\"],[0.8888888888888888,\"#fdca26\"],[1.0,\"#f0f921\"]]}],\"contourcarpet\":[{\"type\":\"contourcarpet\",\"colorbar\":{\"outlinewidth\":0,\"ticks\":\"\"}}],\"contour\":[{\"type\":\"contour\",\"colorbar\":{\"outlinewidth\":0,\"ticks\":\"\"},\"colorscale\":[[0.0,\"#0d0887\"],[0.1111111111111111,\"#46039f\"],[0.2222222222222222,\"#7201a8\"],[0.3333333333333333,\"#9c179e\"],[0.4444444444444444,\"#bd3786\"],[0.5555555555555556,\"#d8576b\"],[0.6666666666666666,\"#ed7953\"],[0.7777777777777778,\"#fb9f3a\"],[0.8888888888888888,\"#fdca26\"],[1.0,\"#f0f921\"]]}],\"surface\":[{\"type\":\"surface\",\"colorbar\":{\"outlinewidth\":0,\"ticks\":\"\"},\"colorscale\":[[0.0,\"#0d0887\"],[0.1111111111111111,\"#46039f\"],[0.2222222222222222,\"#7201a8\"],[0.3333333333333333,\"#9c179e\"],[0.4444444444444444,\"#bd3786\"],[0.5555555555555556,\"#d8576b\"],[0.6666666666666666,\"#ed7953\"],[0.7777777777777778,\"#fb9f3a\"],[0.8888888888888888,\"#fdca26\"],[1.0,\"#f0f921\"]]}],\"mesh3d\":[{\"type\":\"mesh3d\",\"colorbar\":{\"outlinewidth\":0,\"ticks\":\"\"}}],\"scatter\":[{\"fillpattern\":{\"fillmode\":\"overlay\",\"size\":10,\"solidity\":0.2},\"type\":\"scatter\"}],\"parcoords\":[{\"type\":\"parcoords\",\"line\":{\"colorbar\":{\"outlinewidth\":0,\"ticks\":\"\"}}}],\"scatterpolargl\":[{\"type\":\"scatterpolargl\",\"marker\":{\"colorbar\":{\"outlinewidth\":0,\"ticks\":\"\"}}}],\"bar\":[{\"error_x\":{\"color\":\"#2a3f5f\"},\"error_y\":{\"color\":\"#2a3f5f\"},\"marker\":{\"line\":{\"color\":\"#E5ECF6\",\"width\":0.5},\"pattern\":{\"fillmode\":\"overlay\",\"size\":10,\"solidity\":0.2}},\"type\":\"bar\"}],\"scattergeo\":[{\"type\":\"scattergeo\",\"marker\":{\"colorbar\":{\"outlinewidth\":0,\"ticks\":\"\"}}}],\"scatterpolar\":[{\"type\":\"scatterpolar\",\"marker\":{\"colorbar\":{\"outlinewidth\":0,\"ticks\":\"\"}}}],\"histogram\":[{\"marker\":{\"pattern\":{\"fillmode\":\"overlay\",\"size\":10,\"solidity\":0.2}},\"type\":\"histogram\"}],\"scattergl\":[{\"type\":\"scattergl\",\"marker\":{\"colorbar\":{\"outlinewidth\":0,\"ticks\":\"\"}}}],\"scatter3d\":[{\"type\":\"scatter3d\",\"line\":{\"colorbar\":{\"outlinewidth\":0,\"ticks\":\"\"}},\"marker\":{\"colorbar\":{\"outlinewidth\":0,\"ticks\":\"\"}}}],\"scattermapbox\":[{\"type\":\"scattermapbox\",\"marker\":{\"colorbar\":{\"outlinewidth\":0,\"ticks\":\"\"}}}],\"scatterternary\":[{\"type\":\"scatterternary\",\"marker\":{\"colorbar\":{\"outlinewidth\":0,\"ticks\":\"\"}}}],\"scattercarpet\":[{\"type\":\"scattercarpet\",\"marker\":{\"colorbar\":{\"outlinewidth\":0,\"ticks\":\"\"}}}],\"carpet\":[{\"aaxis\":{\"endlinecolor\":\"#2a3f5f\",\"gridcolor\":\"white\",\"linecolor\":\"white\",\"minorgridcolor\":\"white\",\"startlinecolor\":\"#2a3f5f\"},\"baxis\":{\"endlinecolor\":\"#2a3f5f\",\"gridcolor\":\"white\",\"linecolor\":\"white\",\"minorgridcolor\":\"white\",\"startlinecolor\":\"#2a3f5f\"},\"type\":\"carpet\"}],\"table\":[{\"cells\":{\"fill\":{\"color\":\"#EBF0F8\"},\"line\":{\"color\":\"white\"}},\"header\":{\"fill\":{\"color\":\"#C8D4E3\"},\"line\":{\"color\":\"white\"}},\"type\":\"table\"}],\"barpolar\":[{\"marker\":{\"line\":{\"color\":\"#E5ECF6\",\"width\":0.5},\"pattern\":{\"fillmode\":\"overlay\",\"size\":10,\"solidity\":0.2}},\"type\":\"barpolar\"}],\"pie\":[{\"automargin\":true,\"type\":\"pie\"}]},\"layout\":{\"autotypenumbers\":\"strict\",\"colorway\":[\"#636efa\",\"#EF553B\",\"#00cc96\",\"#ab63fa\",\"#FFA15A\",\"#19d3f3\",\"#FF6692\",\"#B6E880\",\"#FF97FF\",\"#FECB52\"],\"font\":{\"color\":\"#2a3f5f\"},\"hovermode\":\"closest\",\"hoverlabel\":{\"align\":\"left\"},\"paper_bgcolor\":\"white\",\"plot_bgcolor\":\"#E5ECF6\",\"polar\":{\"bgcolor\":\"#E5ECF6\",\"angularaxis\":{\"gridcolor\":\"white\",\"linecolor\":\"white\",\"ticks\":\"\"},\"radialaxis\":{\"gridcolor\":\"white\",\"linecolor\":\"white\",\"ticks\":\"\"}},\"ternary\":{\"bgcolor\":\"#E5ECF6\",\"aaxis\":{\"gridcolor\":\"white\",\"linecolor\":\"white\",\"ticks\":\"\"},\"baxis\":{\"gridcolor\":\"white\",\"linecolor\":\"white\",\"ticks\":\"\"},\"caxis\":{\"gridcolor\":\"white\",\"linecolor\":\"white\",\"ticks\":\"\"}},\"coloraxis\":{\"colorbar\":{\"outlinewidth\":0,\"ticks\":\"\"}},\"colorscale\":{\"sequential\":[[0.0,\"#0d0887\"],[0.1111111111111111,\"#46039f\"],[0.2222222222222222,\"#7201a8\"],[0.3333333333333333,\"#9c179e\"],[0.4444444444444444,\"#bd3786\"],[0.5555555555555556,\"#d8576b\"],[0.6666666666666666,\"#ed7953\"],[0.7777777777777778,\"#fb9f3a\"],[0.8888888888888888,\"#fdca26\"],[1.0,\"#f0f921\"]],\"sequentialminus\":[[0.0,\"#0d0887\"],[0.1111111111111111,\"#46039f\"],[0.2222222222222222,\"#7201a8\"],[0.3333333333333333,\"#9c179e\"],[0.4444444444444444,\"#bd3786\"],[0.5555555555555556,\"#d8576b\"],[0.6666666666666666,\"#ed7953\"],[0.7777777777777778,\"#fb9f3a\"],[0.8888888888888888,\"#fdca26\"],[1.0,\"#f0f921\"]],\"diverging\":[[0,\"#8e0152\"],[0.1,\"#c51b7d\"],[0.2,\"#de77ae\"],[0.3,\"#f1b6da\"],[0.4,\"#fde0ef\"],[0.5,\"#f7f7f7\"],[0.6,\"#e6f5d0\"],[0.7,\"#b8e186\"],[0.8,\"#7fbc41\"],[0.9,\"#4d9221\"],[1,\"#276419\"]]},\"xaxis\":{\"gridcolor\":\"white\",\"linecolor\":\"white\",\"ticks\":\"\",\"title\":{\"standoff\":15},\"zerolinecolor\":\"white\",\"automargin\":true,\"zerolinewidth\":2},\"yaxis\":{\"gridcolor\":\"white\",\"linecolor\":\"white\",\"ticks\":\"\",\"title\":{\"standoff\":15},\"zerolinecolor\":\"white\",\"automargin\":true,\"zerolinewidth\":2},\"scene\":{\"xaxis\":{\"backgroundcolor\":\"#E5ECF6\",\"gridcolor\":\"white\",\"linecolor\":\"white\",\"showbackground\":true,\"ticks\":\"\",\"zerolinecolor\":\"white\",\"gridwidth\":2},\"yaxis\":{\"backgroundcolor\":\"#E5ECF6\",\"gridcolor\":\"white\",\"linecolor\":\"white\",\"showbackground\":true,\"ticks\":\"\",\"zerolinecolor\":\"white\",\"gridwidth\":2},\"zaxis\":{\"backgroundcolor\":\"#E5ECF6\",\"gridcolor\":\"white\",\"linecolor\":\"white\",\"showbackground\":true,\"ticks\":\"\",\"zerolinecolor\":\"white\",\"gridwidth\":2}},\"shapedefaults\":{\"line\":{\"color\":\"#2a3f5f\"}},\"annotationdefaults\":{\"arrowcolor\":\"#2a3f5f\",\"arrowhead\":0,\"arrowwidth\":1},\"geo\":{\"bgcolor\":\"white\",\"landcolor\":\"#E5ECF6\",\"subunitcolor\":\"white\",\"showland\":true,\"showlakes\":true,\"lakecolor\":\"white\"},\"title\":{\"x\":0.05},\"mapbox\":{\"style\":\"light\"}}},\"xaxis\":{\"anchor\":\"y\",\"domain\":[0.0,1.0],\"matches\":\"x2\",\"showticklabels\":false,\"rangeslider\":{\"visible\":false}},\"yaxis\":{\"anchor\":\"x\",\"domain\":[0.475,0.9999999999999999]},\"xaxis2\":{\"anchor\":\"y2\",\"domain\":[0.0,1.0]},\"yaxis2\":{\"anchor\":\"x2\",\"domain\":[0.0,0.22499999999999998]},\"annotations\":[{\"font\":{\"size\":16},\"showarrow\":false,\"text\":\"AAPL OHLC\",\"x\":0.5,\"xanchor\":\"center\",\"xref\":\"paper\",\"y\":0.9999999999999999,\"yanchor\":\"bottom\",\"yref\":\"paper\"},{\"font\":{\"size\":16},\"showarrow\":false,\"text\":\"Volume\",\"x\":0.5,\"xanchor\":\"center\",\"xref\":\"paper\",\"y\":0.22499999999999998,\"yanchor\":\"bottom\",\"yref\":\"paper\"}]},                        {\"responsive\": true}                    ).then(function(){\n",
       "                            \n",
       "var gd = document.getElementById('d067d79f-b09d-4f95-bed1-e74aa9a0e001');\n",
       "var x = new MutationObserver(function (mutations, observer) {{\n",
       "        var display = window.getComputedStyle(gd).display;\n",
       "        if (!display || display === 'none') {{\n",
       "            console.log([gd, 'removed!']);\n",
       "            Plotly.purge(gd);\n",
       "            observer.disconnect();\n",
       "        }}\n",
       "}});\n",
       "\n",
       "// Listen for the removal of the full notebook cells\n",
       "var notebookContainer = gd.closest('#notebook-container');\n",
       "if (notebookContainer) {{\n",
       "    x.observe(notebookContainer, {childList: true});\n",
       "}}\n",
       "\n",
       "// Listen for the clearing of the current output cell\n",
       "var outputEl = gd.closest('.output');\n",
       "if (outputEl) {{\n",
       "    x.observe(outputEl, {childList: true});\n",
       "}}\n",
       "\n",
       "                        })                };                });            </script>        </div>"
      ]
     },
     "metadata": {},
     "output_type": "display_data"
    }
   ],
   "source": [
    "# initialize our parameters for the history\n",
    "symbol = \"aapl\"\n",
    "period = \"1y\"\n",
    "interval = \"1d\"\n",
    "\n",
    "ticker = Ticker(symbol)\n",
    "history = ticker.history(period, interval).reset_index(level=[0,1]) # reset multi-index to be regular index\n",
    "\n",
    "# Intialize subplots\n",
    "fig = make_subplots(rows=2, cols=1, \n",
    "                    shared_xaxes=True, \n",
    "                    subplot_titles=(f'{symbol.upper()} OHLC', 'Volume'), \n",
    "                    row_heights=[0.7, 0.3]\n",
    "                   )\n",
    "\n",
    "# Adds a Candlestick chart to the top subplot\n",
    "fig.add_trace(go.Candlestick(x=history['date'], \n",
    "                open=history['open'],\n",
    "                high=history['high'],\n",
    "                low=history['low'],\n",
    "                close=history['close'],\n",
    "                showlegend=False),\n",
    "                row=1, col=1\n",
    "             )\n",
    "\n",
    "# Adds volume bar chart to the bottom subplot\n",
    "fig.add_trace(go.Bar(\n",
    "    x=history['date'], \n",
    "    y=history['volume'], \n",
    "    showlegend=False), \n",
    "    row=2, col=1\n",
    " )\n",
    "\n",
    "fig.update(layout_xaxis_rangeslider_visible=False)\n",
    "fig"
   ]
  },
  {
   "cell_type": "code",
   "execution_count": 340,
   "metadata": {},
   "outputs": [
    {
     "name": "stdout",
     "output_type": "stream",
     "text": [
      "Overwriting process_data.py\n"
     ]
    }
   ],
   "source": [
    "%%writefile process_data.py\n",
    "from yahooquery import Ticker\n",
    "import pandas as pd\n",
    "import plotly.express as px # library for creating the most common figures\n",
    "import plotly.graph_objects as go # Another ploting library from plotly\n",
    "from plotly.subplots import make_subplots\n",
    "\n",
    "\n",
    "\n",
    "# Let's make a reusable function to create the price indciator for different symbols\n",
    "def price_indicator(symbol=\"aapl\"):\n",
    "    ticker = Ticker(symbol)\n",
    "    open_price = ticker.price[symbol][\"regularMarketOpen\"]\n",
    "    current_price = ticker.price[symbol][\"regularMarketPrice\"]\n",
    "\n",
    "    delta_fig = go.Figure()\n",
    "\n",
    "    delta_fig.add_trace(go.Indicator(\n",
    "                    title = {\"text\": f\"{symbol.upper()} Current Price\"},\n",
    "                    delta = {'reference': open_price, \"valueformat\": \".2f\"},\n",
    "                    mode = \"number+delta\",\n",
    "                    value = current_price,\n",
    "                    number = {\"prefix\": \"$\", \"valueformat\": \".2f\"}))\n",
    "    return delta_fig\n",
    "\n",
    "# Another function to create charts for different tickers\n",
    "def candlestick_chart(symbol=\"aapl\", period=\"1y\", interval=\"1d\"):\n",
    "    # Because we are creating a new python file, we need\n",
    "    # to reinstantiate our ticker variable\n",
    "    ticker = Ticker(symbol)\n",
    "    history = ticker.history(period, interval).reset_index(level=[0,1]) # 1 year period, 1 day intervals\n",
    "\n",
    "    fig = make_subplots(rows=2, cols=1, \n",
    "                    shared_xaxes=True, \n",
    "                    subplot_titles=(f'{symbol.upper()} OHLC', 'Volume'), \n",
    "                    row_heights=[0.7, 0.3]\n",
    "                   )\n",
    "\n",
    "    # Creates a Candlestick graph using \n",
    "    fig.add_trace(go.Candlestick(x=history['date'], \n",
    "                    open=history['open'],\n",
    "                    high=history['high'],\n",
    "                    low=history['low'],\n",
    "                    close=history['close'],\n",
    "                    showlegend=False),\n",
    "                    row=1, col=1,\n",
    "                 )\n",
    "\n",
    "    fig.add_trace(go.Bar(x=history['date'], y=history['volume'], showlegend=False), row=2, col=1)\n",
    "    fig.update(layout_xaxis_rangeslider_visible=False)\n",
    "    \n",
    "    return fig"
   ]
  },
  {
   "cell_type": "markdown",
   "metadata": {},
   "source": [
    "## Dash Development\n",
    "Because we are using Jupyterlab as our development environment, we need to do a few workarounds to setup the environment. \n",
    "1) We need to save our code in this notebook to a file. To do this, we add `%%writefile app.py` to the top of the cell with the code. This will save the code in the cell to a python file called `app.py`\n",
    "2) We need to run `python app.py` in the terminal. This will run the python file on the computer at the IP address: `127.0.0.1:8050`. Open a new tab and navigate to this address to see the app.\n",
    "### Layout\n",
    "Dash's layout system describes what the dashboard will look like. The layout is based on HTML. There are Dash elements analogous to HTML elements (e.g. `dash.html.Div` == `<div>`) and each element can be nested like in HTML. "
   ]
  },
  {
   "cell_type": "code",
   "execution_count": 361,
   "metadata": {},
   "outputs": [
    {
     "name": "stdout",
     "output_type": "stream",
     "text": [
      "Overwriting app.py\n"
     ]
    }
   ],
   "source": [
    "%%writefile app.py\n",
    "from dash import Dash # The actual Dash app that will be run\n",
    "from dash import html # Contains html components\n",
    "from dash import dcc  # Contains commonly user-interaction components\n",
    "from dash import Input, Output # Used for callbacks\n",
    "\n",
    "import process_data # Our own import, used to load data from yahooquery\n",
    "import news_table\n",
    "import app_callbacks\n",
    "\n",
    "# Build App\n",
    "app = Dash(__name__)\n",
    "\n",
    "price_chart = process_data.candlestick_chart(\"aapl\", \"1y\", \"1d\")\n",
    "price_metric = process_data.price_indicator(\"aapl\")\n",
    "news_table = news_table.generate_news_table(\"aapl\")\n",
    "\n",
    "app.layout = html.Div (\n",
    "    # Children HTML elements can be nested\n",
    "    children = [ # Children can be specified explicitly using the parameter tag\n",
    "        html.Header( # Or implicitly\n",
    "            [html.H1(children=\"Stock Dashboard\"), \n",
    "             html.Span([\n",
    "                 dcc.Input(id='my-input', type='text', placeholder=\"input ticker symbol\", className=\"form-control\"),\n",
    "                 html.Button(id='submit-button-state', n_clicks=0, children='Submit', className=\"btn btn-outline-primary\")],\n",
    "                 className = \"d-flex\"\n",
    "             )],\n",
    "            className = \"navbar\"\n",
    "        ),\n",
    "        \"This dashboard displays metrics about your favorite stock tickers\",\n",
    "        html.Div([\n",
    "            dcc.Graph(\n",
    "                id='price-metric', # IDs can be added to elements to manipulate using callbacks\n",
    "                figure=price_metric\n",
    "            ),\n",
    "            html.Span(news_table,\n",
    "                    id = \"news-table\")\n",
    "            ], \n",
    "            id = \"first-data\"),\n",
    "        dcc.Graph(\n",
    "            id='price-history',\n",
    "            figure=price_chart\n",
    "        ),\n",
    "    ]\n",
    ")\n",
    "\n",
    "\n",
    "if __name__ == '__main__':\n",
    "    app.run_server(debug=True)"
   ]
  },
  {
   "cell_type": "code",
   "execution_count": 346,
   "metadata": {},
   "outputs": [
    {
     "name": "stdout",
     "output_type": "stream",
     "text": [
      "Overwriting news_table.py\n"
     ]
    }
   ],
   "source": [
    "%%writefile news_table.py\n",
    "from dash import html\n",
    "from dash import dcc\n",
    "import yahooquery as yq\n",
    "from datetime import datetime \n",
    "\n",
    "\n",
    "# Generates html table with the latest articles for company associated with ticker\n",
    "def generate_news_table(symbol=\"aapl\", limit=5):\n",
    "    news_raw = yq.search(symbol)[\"news\"][:limit] # get the latest n articles for the ticker from yq\n",
    "    return html.Table(\n",
    "        [html.Tr([html.Th(\"News\", colSpan=3)], # creates header\n",
    "                 id = \"news-table-header\")] + \n",
    "        [html.Tr(\n",
    "           [html.Td(html.Img(src=article[\"thumbnail\"][\"resolutions\"][-1][\"url\"], height=\"70px\", width=\"70px\") \n",
    "                    if \"thumbnail\" in article else \"\"), # loads thumbnail\n",
    "            html.Td(html.A(article[\"publisher\"] + \": \" + article[\"title\"], href=article[\"link\"], \n",
    "                           target=\"_blank\", rel=\"noopener noreferrer\")), # creates hyperlink\n",
    "            html.Td(datetime.fromtimestamp(article[\"providerPublishTime\"]).strftime(\"%d/%m/%Y, %H:%M:%S\"))] # creates time from epoch\n",
    "        ) for article in news_raw],\n",
    "        className = \"table\"\n",
    "    )"
   ]
  },
  {
   "cell_type": "markdown",
   "metadata": {},
   "source": [
    "\n",
    "### Callbacks\n",
    "Dash has callbacks that dynamically change a component of the dashboard based on user interaction. For example, a user can change the value on a date slider to change the date that is displayed on a calender."
   ]
  },
  {
   "cell_type": "code",
   "execution_count": 357,
   "metadata": {},
   "outputs": [
    {
     "name": "stdout",
     "output_type": "stream",
     "text": [
      "Overwriting app_callbacks.py\n"
     ]
    }
   ],
   "source": [
    "%%writefile app_callbacks.py\n",
    "import process_data # Our own import, used to load data from yahooquery\n",
    "import news_table\n",
    "import dash\n",
    "from dash import Input, Output, State\n",
    "\n",
    "\n",
    "# @dash.callback(\n",
    "#     Output(component_id='price-history', component_property='figure'), #specifies the two outputs components and which\n",
    "#     Output(component_id='price-metric', component_property='figure'), # part of the component\n",
    "#     Output(component_id=\"news-table\", component_property='children'),\n",
    "#     Input(component_id='my-input', component_property='value'), # specifies where to look for a change\n",
    "#     prevent_initial_call = True\n",
    "# )\n",
    "# def update_output_div(symbol):\n",
    "#     # returns the figure to the target component property BASED ON THE ORDER OF OUTPUTS\n",
    "#     return process_data.candlestick_chart(symbol, \"1y\", \"1d\"), process_data.price_indicator(symbol), news_table.generate_news_table(symbol)\n",
    "\n",
    "@dash.callback(\n",
    "    Output(component_id='price-history', component_property='figure'),\n",
    "    Output(component_id='price-metric', component_property='figure'),\n",
    "    Output(component_id=\"news-table\", component_property='children'),\n",
    "    Input(component_id='submit-button-state', component_property='n_clicks'),\n",
    "    State(component_id='my-input', component_property='value'),\n",
    "#     prevent_initial_call = True\n",
    ")\n",
    "def update_output_div(n_clicks, symbol):\n",
    "    return process_data.candlestick_chart(symbol, \"1y\", \"1d\"), process_data.price_indicator(symbol), news_table.generate_news_table(symbol)"
   ]
  },
  {
   "cell_type": "markdown",
   "metadata": {},
   "source": [
    "### Styling\n",
    "Our dashboard looks like it was made in the early 2000s. To help this look more modern, we can add styling to the dashboard. To do this, we need to apply or CSS rules to app layout components. The CSS and non-code files must be located in the assets file.\n",
    "We will also use Bootstrap CSS to simplify our styling, but those will need to be activated by specifying the class name. \n",
    "\n",
    "Let's take a look at CSS file."
   ]
  },
  {
   "cell_type": "code",
   "execution_count": 339,
   "metadata": {},
   "outputs": [],
   "source": [
    "# %load assets/app.css\n",
    "#first-data {\n",
    "    display:flex;\n",
    "    flex-direction: row; \n",
    "    justify-content: center; \n",
    "    align-items: center\n",
    "}\n",
    "\n",
    "td {\n",
    "    padding-left: 10px;\n",
    "    padding-right: 10px;\n",
    "}\n",
    "\n",
    "#news-table-header {\n",
    "    text-align: center;\n",
    "}"
   ]
  },
  {
   "cell_type": "code",
   "execution_count": null,
   "metadata": {},
   "outputs": [],
   "source": []
  }
 ],
 "metadata": {
  "kernelspec": {
   "display_name": "dash",
   "language": "python",
   "name": "dash"
  },
  "language_info": {
   "codemirror_mode": {
    "name": "ipython",
    "version": 3
   },
   "file_extension": ".py",
   "mimetype": "text/x-python",
   "name": "python",
   "nbconvert_exporter": "python",
   "pygments_lexer": "ipython3",
   "version": "3.8.8"
  },
  "vscode": {
   "interpreter": {
    "hash": "bf3568ae63ea849c56f739bf537ac65f18326a99a87e904acc30f8f69eaac0d0"
   }
  }
 },
 "nbformat": 4,
 "nbformat_minor": 4
}
