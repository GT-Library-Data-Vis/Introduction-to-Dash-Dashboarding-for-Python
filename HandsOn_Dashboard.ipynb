{
 "cells": [
  {
   "cell_type": "markdown",
   "metadata": {},
   "source": [
    "# Stock Tracking Dashboards with Dash\n",
    "\n",
    "#### What is a dashboard?\n",
    "Dashboarding is the processing of showcasing data in a user-friendly way using data visualization. Dashboards contain a multitude of data views, much like the dashboard on a car. The ultimate goal of a dashboard is to present data to the world, so that users can track, analyze, and gain insights from your data quickly.\n",
    "\n",
    "#### What is Dash?\n",
    "Dash is a dashboard creation in Python created by the creators of plotly, a popular plotting package. Dash offers components and callbacks that display information and aid with user interactions that are implemented in an HTML-like system, i.e., every object is a component and components can have children.  It also offers customizability, like adjusting the theming and branding, using CSS.\n",
    "\n",
    "Dash also works with R and Julia\n",
    "\n",
    "#### What will be covered in this Workshop?\n",
    "\n",
    "* **Installation**\n",
    "* **Stock Tracking**: getting stock data from Yahoo Finance using Yahooquery\n",
    "* **Data Visualization**: creating financial plots from yahooquery data using Plotly Express and Graph Objects\n",
    "* **Dashboard Creation**: implementing data visualization components in Dash\n",
    "* **User interactions**: controlling visualization views using Dash callbacks\n",
    "* **Styling**: using CSS and Bootstrap to change how your dashboard looks"
   ]
  },
  {
   "cell_type": "markdown",
   "metadata": {
    "tags": []
   },
   "source": [
    "## yahooquery\n",
    "We first need to get our financial data from Yahooquery\n",
    "\n",
    "Yahooquery is an unofficial stock tracking wrapper using Yahoo Finance, which contains historical and near realtime data financial data. The wrapper allows us to query stock data from the its API to view and analyze. It requires no API keys to access so it is free to use."
   ]
  },
  {
   "cell_type": "code",
   "execution_count": null,
   "metadata": {},
   "outputs": [],
   "source": [
    "from yahooquery import Ticker # Interacts with the yahooquery api\n",
    "import pandas as pd # Used to manipulate dataframes"
   ]
  },
  {
   "cell_type": "markdown",
   "metadata": {},
   "source": [
    "### Tickers\n",
    "Tickers are symbols that represent a company. For example, Apple's symbol is **\\$aapl**. We will be using these to specify which ticker to query from the API. \n",
    "\n",
    "For more information, view the docs: https://yahooquery.dpguthrie.com/"
   ]
  },
  {
   "cell_type": "code",
   "execution_count": null,
   "metadata": {
    "tags": []
   },
   "outputs": [],
   "source": [
    "# YOUR CODE HERE"
   ]
  },
  {
   "cell_type": "markdown",
   "metadata": {},
   "source": [
    "### Modules\n",
    "After creating our Ticker symbols, we can use them to view useful information about the company. The information from modules are overview data, such as the asset profile, earnings, and (non-historical) pricing. "
   ]
  },
  {
   "cell_type": "markdown",
   "metadata": {},
   "source": [
    "The `price` module gives detailed pricing data for given symbol(s), exchange, quote type, currency, market cap, pre / post market data, etc."
   ]
  },
  {
   "cell_type": "code",
   "execution_count": null,
   "metadata": {
    "tags": []
   },
   "outputs": [],
   "source": [
    "# YOUR CODE HERE"
   ]
  },
  {
   "cell_type": "markdown",
   "metadata": {},
   "source": [
    "The `asset_profile` module gives information related to the company's location, operations, and officers"
   ]
  },
  {
   "cell_type": "code",
   "execution_count": null,
   "metadata": {
    "tags": []
   },
   "outputs": [],
   "source": [
    "# YOUR CODE HERE"
   ]
  },
  {
   "cell_type": "markdown",
   "metadata": {},
   "source": [
    "### History\n",
    "The API also contains the historical stock price for the ticker. You can specify the period (length of time), interval (time between points), start, and end time."
   ]
  },
  {
   "cell_type": "code",
   "execution_count": null,
   "metadata": {
    "tags": []
   },
   "outputs": [],
   "source": [
    "# YOUR CODE HERE"
   ]
  },
  {
   "cell_type": "code",
   "execution_count": null,
   "metadata": {
    "tags": []
   },
   "outputs": [],
   "source": [
    "# YOUR CODE HERE"
   ]
  },
  {
   "cell_type": "markdown",
   "metadata": {},
   "source": [
    "## Stock visualization\n",
    "Stocks have many metrics and these may be hard to view in a list/dictionary/dataframe. It may be more useful to visualize these metrics instead. We will be using plotly to visualize the yahooquery data."
   ]
  },
  {
   "cell_type": "code",
   "execution_count": null,
   "metadata": {},
   "outputs": [],
   "source": [
    "# Imports\n",
    "from yahooquery import Ticker\n",
    "import pandas as pd\n",
    "import plotly.express as px # library for creating the most common figures\n",
    "import plotly.graph_objects as go # Another ploting library from plotly\n",
    "from plotly.subplots import make_subplots"
   ]
  },
  {
   "cell_type": "markdown",
   "metadata": {},
   "source": [
    "### Quick indicators\n",
    "Some metrics need to be analyzed with a quick glance.\n",
    "\n",
    "Plotly express is the recommended way of building basic plots, e.g. bar, maps, heatmaps, but some plots are not supported because of how complex they are. All plotly figures are created using the graph objects library using objects called traces. These traces can be used to create more sophisticated figures. \n",
    "\n",
    "Let's use graph_objects to use an indicator trace."
   ]
  },
  {
   "cell_type": "code",
   "execution_count": null,
   "metadata": {},
   "outputs": [],
   "source": [
    "symbol = \"aapl\""
   ]
  },
  {
   "cell_type": "code",
   "execution_count": null,
   "metadata": {},
   "outputs": [],
   "source": [
    "ticker = Ticker(symbol)\n",
    "\n",
    "# YOUR CODE HERE"
   ]
  },
  {
   "cell_type": "markdown",
   "metadata": {},
   "source": [
    "### Visualizing price history\n",
    "\n",
    "\n",
    "One of these traces is the Candlestick, which is popular in Finance visualization. A volume and price chart usually has a bar trace for the volume and candlestick trace for price."
   ]
  },
  {
   "cell_type": "code",
   "execution_count": null,
   "metadata": {},
   "outputs": [],
   "source": [
    "# initialize our parameters for the history\n",
    "symbol = \"aapl\"\n",
    "period = \"1y\"\n",
    "interval = \"1d\""
   ]
  },
  {
   "cell_type": "code",
   "execution_count": null,
   "metadata": {},
   "outputs": [],
   "source": [
    "ticker = Ticker(symbol)\n",
    "history = ticker.history(period, interval).reset_index(level=[0,1]) # reset multi-index to be regular index\n",
    "\n",
    "# Intialize subplots\n",
    "fig = make_subplots(rows=2, cols=1, \n",
    "                    shared_xaxes=True, \n",
    "                    subplot_titles=(f'{symbol.upper()} OHLC', 'Volume'), \n",
    "                    row_heights=[0.7, 0.3]\n",
    "                   )\n",
    "\n",
    "fig.update(layout_xaxis_rangeslider_visible=False)\n",
    "#YOUR CODE HERE"
   ]
  },
  {
   "cell_type": "code",
   "execution_count": null,
   "metadata": {},
   "outputs": [],
   "source": [
    "%%writefile process_data.py\n",
    "from yahooquery import Ticker\n",
    "import pandas as pd\n",
    "import plotly.express as px # library for creating the most common figures\n",
    "import plotly.graph_objects as go # Another ploting library from plotly\n",
    "from plotly.subplots import make_subplots\n",
    "\n",
    "\n",
    "\n",
    "# Let's make a reusable function to create the price indciator for different symbols\n",
    "def price_indicator(symbol=\"aapl\"):\n",
    "    # YOUR CODE HERE\n",
    "    \n",
    "    return delta_fig\n",
    "\n",
    "# Another function to create charts for different tickers\n",
    "def candlestick_chart(symbol=\"aapl\", period=\"1y\", interval=\"1d\"):\n",
    "    # YOUR CODE HERE\n",
    "    \n",
    "    return fig"
   ]
  },
  {
   "cell_type": "markdown",
   "metadata": {},
   "source": [
    "## Dash Development\n",
    "Now that we have our finance visualizations, we need to implement it into a dashboard, so that they can be viewed together quickly.\n",
    "\n",
    "Because we are using Jupyterlab as our development environment, we need to do a few workarounds to setup the environment. \n",
    "1) We need to save our code in this notebook to a file. To do this, we add `%%writefile app.py` to the top of the cell with the code. This will save the code in the cell to a python file called `app.py`\n",
    "2) We need to run `python app.py` in the terminal. This will run the python file on the computer at the IP address: `127.0.0.1:8050`. Open a new tab and navigate to this address to see the app.\n",
    "\n",
    "\n",
    "### Dash File System\n",
    "\n",
    "`app.py`              | your python file that contains Dash layout code \\\n",
    "`other_py_files.py`   | other python code that manipulates your data, callbacks, etc\\\n",
    "`requirements.txt`    | this file contains the python package requirements for your Dash app \\\n",
    "`assets/ `            \\\n",
    "`|_ *.css`            | css files manipulate your styling of the Dash application \\\n",
    "`|_ *.js  `           | js files can also be used to manipulate the logic and layout of your Dash application \\\n",
    "`|_ favicon.ico  `    | the icon file that will be displayed in the browser \\\n",
    "`|_ media`            | other media can go here\n",
    "\n",
    "\n",
    "### Layout\n",
    "Dash's layout system describes what the dashboard will look like. The layout is based on HTML. There are Dash elements analogous to HTML elements (e.g. `dash.html.Div` == `<div>`) and each element can be nested like in HTML. "
   ]
  },
  {
   "cell_type": "code",
   "execution_count": null,
   "metadata": {},
   "outputs": [],
   "source": [
    "%%writefile app.py\n",
    "from dash import Dash # The actual Dash app that will be run\n",
    "from dash import html # Contains html components\n",
    "from dash import dcc  # Contains commonly user-interaction components\n",
    "from dash import Input, Output # Used for callbacks\n",
    "\n",
    "import process_data # Our own import, used to load data from yahooquery\n",
    "# import news_table \n",
    "# import app_callbacks\n",
    "\n",
    "# Build App\n",
    "app = Dash(__name__)\n",
    "\n",
    "# YOUR CODE HERE #1\n",
    "\n",
    "\n",
    "app.layout = html.Div (\n",
    "    # Children HTML elements can be nested\n",
    "    children = [ # Children can be specified explicitly using the parameter tag\n",
    "        html.Header( # Or implicitly\n",
    "            [html.H1(children=\"Stock Dashboard\"), \n",
    "             html.Span([\n",
    "                 dcc.Input(id='my-input', type='text', placeholder=\"input ticker symbol\", className=\"ADD CLASS HERE 1\"),\n",
    "                 html.Button(id='submit-button-state', n_clicks=0, children='Submit', className=\"ADD CLASS HERE 2\")],\n",
    "                 className = \"d-flex\"\n",
    "             )],\n",
    "            className = \"ADD CLASS HERE 3\"\n",
    "        ),\n",
    "        # YOUR CODE HERE #2\n",
    "    ]\n",
    ")\n",
    "\n",
    "\n",
    "if __name__ == '__main__':\n",
    "    app.run_server(debug=True)"
   ]
  },
  {
   "cell_type": "code",
   "execution_count": null,
   "metadata": {},
   "outputs": [],
   "source": [
    "%%writefile news_table.py\n",
    "from dash import html\n",
    "from dash import dcc\n",
    "import yahooquery as yq\n",
    "from datetime import datetime \n",
    "\n",
    "\n",
    "# Generates html table with the latest articles for company associated with ticker\n",
    "def generate_news_table(symbol=\"aapl\", limit=5):\n",
    "    news_raw = yq.search(symbol)[\"news\"][:limit] # get the latest n articles for the ticker from yq\n",
    "    return html.Table(\n",
    "        [html.Tr([html.Th(\"News\", colSpan=3)], # creates header\n",
    "                 id = \"news-table-header\")] + \n",
    "        [html.Tr(\n",
    "           [html.Td(html.Img(src=article[\"thumbnail\"][\"resolutions\"][-1][\"url\"], height=\"70px\", width=\"70px\") \n",
    "                    if \"thumbnail\" in article else \"\"), # loads thumbnail\n",
    "            html.Td(html.A(article[\"publisher\"] + \": \" + article[\"title\"], href=article[\"link\"], \n",
    "                           target=\"_blank\", rel=\"noopener noreferrer\")), # creates hyperlink\n",
    "            html.Td(datetime.fromtimestamp(article[\"providerPublishTime\"]).strftime(\"%d/%m/%Y, %H:%M:%S\"))] # creates time from epoch\n",
    "        ) for article in news_raw],\n",
    "        className = \"table\"\n",
    "    )"
   ]
  },
  {
   "cell_type": "markdown",
   "metadata": {},
   "source": [
    "\n",
    "### Callbacks\n",
    "Dash has callbacks that dynamically change a component of the dashboard based on user interaction. For example, a user can change the value on a date slider to change the date that is displayed on a calender.\n",
    "\n",
    "In our dashboard, let's change the ticker data dynamically based on what they put in the input field."
   ]
  },
  {
   "cell_type": "code",
   "execution_count": null,
   "metadata": {},
   "outputs": [],
   "source": [
    "%%writefile app_callbacks.py\n",
    "import process_data # Our own import, used to load data from yahooquery\n",
    "import news_table\n",
    "import dash\n",
    "from dash import Input, Output, State\n",
    "\n",
    "\n",
    "@dash.callback(\n",
    "    Output(component_id='price-history', component_property='figure'), #specifies the two outputs components and which\n",
    "    Output(component_id='price-metric', component_property='figure'), # part of the component\n",
    "    Output(component_id=\"news-table\", component_property='children'),\n",
    "    Input(component_id='my-input', component_property='value'), # specifies where to look for a change\n",
    "    prevent_initial_call = True\n",
    ")\n",
    "def update_output_div(symbol):\n",
    "    # returns the figure to the target component property BASED ON THE ORDER OF OUTPUTS\n",
    "\n",
    "    # YOUR CODE HERE"
   ]
  },
  {
   "cell_type": "code",
   "execution_count": null,
   "metadata": {},
   "outputs": [],
   "source": [
    "%%writefile app_callbacks.py\n",
    "import process_data # Our own import, used to load data from yahooquery\n",
    "import news_table\n",
    "import dash\n",
    "from dash import Input, Output, State\n",
    "\n",
    "\n",
    "@dash.callback(\n",
    "    Output(component_id='price-history', component_property='figure'),\n",
    "    Output(component_id='price-metric', component_property='figure'),\n",
    "    Output(component_id=\"news-table\", component_property='children'),\n",
    "    Input(component_id='submit-button-state', component_property='n_clicks'),\n",
    "    State(component_id='my-input', component_property='value'),\n",
    "    prevent_initial_call = True\n",
    ")\n",
    "def update_output_div(n_clicks, symbol):\n",
    "    # returns the figure to the target component property BASED ON THE ORDER OF OUTPUTS\n",
    "\n",
    "    # YOUR CODE HERE"
   ]
  },
  {
   "cell_type": "markdown",
   "metadata": {},
   "source": [
    "### Styling\n",
    "Our dashboard looks like it was made in the early 2000s. To help this look more modern, we can add styling to the dashboard. To do this, we need to apply or CSS rules to app layout components. The CSS and non-code files must be located in the assets file. \n",
    "We will also use Bootstrap CSS to simplify our styling, but those will need to be activated by specifying the class name. \n",
    "\n",
    "Let's take a look at CSS file.\n",
    "\n",
    "For bootstrap docs, look here: https://getbootstrap.com/docs/5.3/getting-started/introduction/"
   ]
  },
  {
   "cell_type": "code",
   "execution_count": null,
   "metadata": {},
   "outputs": [],
   "source": [
    "%load assets/app.css"
   ]
  }
 ],
 "metadata": {
  "kernelspec": {
   "display_name": "dash",
   "language": "python",
   "name": "dash"
  },
  "language_info": {
   "codemirror_mode": {
    "name": "ipython",
    "version": 3
   },
   "file_extension": ".py",
   "mimetype": "text/x-python",
   "name": "python",
   "nbconvert_exporter": "python",
   "pygments_lexer": "ipython3",
   "version": "3.8.8"
  },
  "vscode": {
   "interpreter": {
    "hash": "bf3568ae63ea849c56f739bf537ac65f18326a99a87e904acc30f8f69eaac0d0"
   }
  }
 },
 "nbformat": 4,
 "nbformat_minor": 4
}
